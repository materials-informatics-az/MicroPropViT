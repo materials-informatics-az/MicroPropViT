{
 "cells": [
  {
   "cell_type": "code",
   "execution_count": 1,
   "metadata": {
    "colab": {
     "base_uri": "https://localhost:8080/"
    },
    "executionInfo": {
     "elapsed": 44275,
     "status": "ok",
     "timestamp": 1731471109040,
     "user": {
      "displayName": "Sheila Whitman",
      "userId": "11834864190234586210"
     },
     "user_tz": 420
    },
    "id": "QB8FcvwdUepK",
    "outputId": "81571fd7-eac1-4e9b-fd50-177068418d25"
   },
   "outputs": [
    {
     "name": "stdout",
     "output_type": "stream",
     "text": [
      "Collecting git+https://github.com/nasa/pretrained-microscopy-models\n",
      "  Cloning https://github.com/nasa/pretrained-microscopy-models to /tmp/pip-req-build-ko1vjpyf\n",
      "  Running command git clone --filter=blob:none --quiet https://github.com/nasa/pretrained-microscopy-models /tmp/pip-req-build-ko1vjpyf\n",
      "  Resolved https://github.com/nasa/pretrained-microscopy-models to commit 1a4896ca66a61bd50c2e660087cce18bfa9ce896\n",
      "  Preparing metadata (setup.py) ... \u001b[?25l\u001b[?25hdone\n",
      "Collecting segmentation-models-pytorch==0.2.1 (from pretrained_microscopy_models==0.1.0)\n",
      "  Downloading segmentation_models_pytorch-0.2.1-py3-none-any.whl.metadata (26 kB)\n",
      "Requirement already satisfied: matplotlib in /usr/local/lib/python3.10/dist-packages (from pretrained_microscopy_models==0.1.0) (3.8.0)\n",
      "Requirement already satisfied: opencv-python in /usr/local/lib/python3.10/dist-packages (from pretrained_microscopy_models==0.1.0) (4.10.0.84)\n",
      "Requirement already satisfied: albumentations in /usr/local/lib/python3.10/dist-packages (from pretrained_microscopy_models==0.1.0) (1.4.20)\n",
      "Requirement already satisfied: torchvision>=0.5.0 in /usr/local/lib/python3.10/dist-packages (from segmentation-models-pytorch==0.2.1->pretrained_microscopy_models==0.1.0) (0.20.0+cu121)\n",
      "Collecting pretrainedmodels==0.7.4 (from segmentation-models-pytorch==0.2.1->pretrained_microscopy_models==0.1.0)\n",
      "  Downloading pretrainedmodels-0.7.4.tar.gz (58 kB)\n",
      "\u001b[2K     \u001b[90m━━━━━━━━━━━━━━━━━━━━━━━━━━━━━━━━━━━━━━━━\u001b[0m \u001b[32m58.8/58.8 kB\u001b[0m \u001b[31m1.2 MB/s\u001b[0m eta \u001b[36m0:00:00\u001b[0m\n",
      "\u001b[?25h  Preparing metadata (setup.py) ... \u001b[?25l\u001b[?25hdone\n",
      "Collecting efficientnet-pytorch==0.6.3 (from segmentation-models-pytorch==0.2.1->pretrained_microscopy_models==0.1.0)\n",
      "  Downloading efficientnet_pytorch-0.6.3.tar.gz (16 kB)\n",
      "  Preparing metadata (setup.py) ... \u001b[?25l\u001b[?25hdone\n",
      "Collecting timm==0.4.12 (from segmentation-models-pytorch==0.2.1->pretrained_microscopy_models==0.1.0)\n",
      "  Downloading timm-0.4.12-py3-none-any.whl.metadata (30 kB)\n",
      "Requirement already satisfied: torch in /usr/local/lib/python3.10/dist-packages (from efficientnet-pytorch==0.6.3->segmentation-models-pytorch==0.2.1->pretrained_microscopy_models==0.1.0) (2.5.0+cu121)\n",
      "Collecting munch (from pretrainedmodels==0.7.4->segmentation-models-pytorch==0.2.1->pretrained_microscopy_models==0.1.0)\n",
      "  Downloading munch-4.0.0-py2.py3-none-any.whl.metadata (5.9 kB)\n",
      "Requirement already satisfied: tqdm in /usr/local/lib/python3.10/dist-packages (from pretrainedmodels==0.7.4->segmentation-models-pytorch==0.2.1->pretrained_microscopy_models==0.1.0) (4.66.6)\n",
      "Requirement already satisfied: numpy>=1.24.4 in /usr/local/lib/python3.10/dist-packages (from albumentations->pretrained_microscopy_models==0.1.0) (1.26.4)\n",
      "Requirement already satisfied: scipy>=1.10.0 in /usr/local/lib/python3.10/dist-packages (from albumentations->pretrained_microscopy_models==0.1.0) (1.13.1)\n",
      "Requirement already satisfied: PyYAML in /usr/local/lib/python3.10/dist-packages (from albumentations->pretrained_microscopy_models==0.1.0) (6.0.2)\n",
      "Requirement already satisfied: pydantic>=2.7.0 in /usr/local/lib/python3.10/dist-packages (from albumentations->pretrained_microscopy_models==0.1.0) (2.9.2)\n",
      "Requirement already satisfied: albucore==0.0.19 in /usr/local/lib/python3.10/dist-packages (from albumentations->pretrained_microscopy_models==0.1.0) (0.0.19)\n",
      "Requirement already satisfied: eval-type-backport in /usr/local/lib/python3.10/dist-packages (from albumentations->pretrained_microscopy_models==0.1.0) (0.2.0)\n",
      "Requirement already satisfied: opencv-python-headless>=4.9.0.80 in /usr/local/lib/python3.10/dist-packages (from albumentations->pretrained_microscopy_models==0.1.0) (4.10.0.84)\n",
      "Requirement already satisfied: stringzilla>=3.10.4 in /usr/local/lib/python3.10/dist-packages (from albucore==0.0.19->albumentations->pretrained_microscopy_models==0.1.0) (3.10.8)\n",
      "Requirement already satisfied: contourpy>=1.0.1 in /usr/local/lib/python3.10/dist-packages (from matplotlib->pretrained_microscopy_models==0.1.0) (1.3.0)\n",
      "Requirement already satisfied: cycler>=0.10 in /usr/local/lib/python3.10/dist-packages (from matplotlib->pretrained_microscopy_models==0.1.0) (0.12.1)\n",
      "Requirement already satisfied: fonttools>=4.22.0 in /usr/local/lib/python3.10/dist-packages (from matplotlib->pretrained_microscopy_models==0.1.0) (4.54.1)\n",
      "Requirement already satisfied: kiwisolver>=1.0.1 in /usr/local/lib/python3.10/dist-packages (from matplotlib->pretrained_microscopy_models==0.1.0) (1.4.7)\n",
      "Requirement already satisfied: packaging>=20.0 in /usr/local/lib/python3.10/dist-packages (from matplotlib->pretrained_microscopy_models==0.1.0) (24.2)\n",
      "Requirement already satisfied: pillow>=6.2.0 in /usr/local/lib/python3.10/dist-packages (from matplotlib->pretrained_microscopy_models==0.1.0) (11.0.0)\n",
      "Requirement already satisfied: pyparsing>=2.3.1 in /usr/local/lib/python3.10/dist-packages (from matplotlib->pretrained_microscopy_models==0.1.0) (3.2.0)\n",
      "Requirement already satisfied: python-dateutil>=2.7 in /usr/local/lib/python3.10/dist-packages (from matplotlib->pretrained_microscopy_models==0.1.0) (2.8.2)\n",
      "Requirement already satisfied: annotated-types>=0.6.0 in /usr/local/lib/python3.10/dist-packages (from pydantic>=2.7.0->albumentations->pretrained_microscopy_models==0.1.0) (0.7.0)\n",
      "Requirement already satisfied: pydantic-core==2.23.4 in /usr/local/lib/python3.10/dist-packages (from pydantic>=2.7.0->albumentations->pretrained_microscopy_models==0.1.0) (2.23.4)\n",
      "Requirement already satisfied: typing-extensions>=4.6.1 in /usr/local/lib/python3.10/dist-packages (from pydantic>=2.7.0->albumentations->pretrained_microscopy_models==0.1.0) (4.12.2)\n",
      "Requirement already satisfied: six>=1.5 in /usr/local/lib/python3.10/dist-packages (from python-dateutil>=2.7->matplotlib->pretrained_microscopy_models==0.1.0) (1.16.0)\n",
      "Requirement already satisfied: filelock in /usr/local/lib/python3.10/dist-packages (from torch->efficientnet-pytorch==0.6.3->segmentation-models-pytorch==0.2.1->pretrained_microscopy_models==0.1.0) (3.16.1)\n",
      "Requirement already satisfied: networkx in /usr/local/lib/python3.10/dist-packages (from torch->efficientnet-pytorch==0.6.3->segmentation-models-pytorch==0.2.1->pretrained_microscopy_models==0.1.0) (3.4.2)\n",
      "Requirement already satisfied: jinja2 in /usr/local/lib/python3.10/dist-packages (from torch->efficientnet-pytorch==0.6.3->segmentation-models-pytorch==0.2.1->pretrained_microscopy_models==0.1.0) (3.1.4)\n",
      "Requirement already satisfied: fsspec in /usr/local/lib/python3.10/dist-packages (from torch->efficientnet-pytorch==0.6.3->segmentation-models-pytorch==0.2.1->pretrained_microscopy_models==0.1.0) (2024.10.0)\n",
      "Requirement already satisfied: sympy==1.13.1 in /usr/local/lib/python3.10/dist-packages (from torch->efficientnet-pytorch==0.6.3->segmentation-models-pytorch==0.2.1->pretrained_microscopy_models==0.1.0) (1.13.1)\n",
      "Requirement already satisfied: mpmath<1.4,>=1.1.0 in /usr/local/lib/python3.10/dist-packages (from sympy==1.13.1->torch->efficientnet-pytorch==0.6.3->segmentation-models-pytorch==0.2.1->pretrained_microscopy_models==0.1.0) (1.3.0)\n",
      "Requirement already satisfied: MarkupSafe>=2.0 in /usr/local/lib/python3.10/dist-packages (from jinja2->torch->efficientnet-pytorch==0.6.3->segmentation-models-pytorch==0.2.1->pretrained_microscopy_models==0.1.0) (3.0.2)\n",
      "Downloading segmentation_models_pytorch-0.2.1-py3-none-any.whl (88 kB)\n",
      "\u001b[2K   \u001b[90m━━━━━━━━━━━━━━━━━━━━━━━━━━━━━━━━━━━━━━━━\u001b[0m \u001b[32m88.6/88.6 kB\u001b[0m \u001b[31m3.3 MB/s\u001b[0m eta \u001b[36m0:00:00\u001b[0m\n",
      "\u001b[?25hDownloading timm-0.4.12-py3-none-any.whl (376 kB)\n",
      "\u001b[2K   \u001b[90m━━━━━━━━━━━━━━━━━━━━━━━━━━━━━━━━━━━━━━━━\u001b[0m \u001b[32m377.0/377.0 kB\u001b[0m \u001b[31m13.5 MB/s\u001b[0m eta \u001b[36m0:00:00\u001b[0m\n",
      "\u001b[?25hDownloading munch-4.0.0-py2.py3-none-any.whl (9.9 kB)\n",
      "Building wheels for collected packages: pretrained_microscopy_models, efficientnet-pytorch, pretrainedmodels\n",
      "  Building wheel for pretrained_microscopy_models (setup.py) ... \u001b[?25l\u001b[?25hdone\n",
      "  Created wheel for pretrained_microscopy_models: filename=pretrained_microscopy_models-0.1.0-py3-none-any.whl size=14911 sha256=b877a81920b689909e0e27e8c4098bc776e5f133876afa4402572b32af327bbf\n",
      "  Stored in directory: /tmp/pip-ephem-wheel-cache-fodv3_65/wheels/f9/40/40/ce55fa400a3c27b11c43cd9eb27edc7dfe243bf9c1e63f9967\n",
      "  Building wheel for efficientnet-pytorch (setup.py) ... \u001b[?25l\u001b[?25hdone\n",
      "  Created wheel for efficientnet-pytorch: filename=efficientnet_pytorch-0.6.3-py3-none-any.whl size=12403 sha256=40bef9c4441357b3d127e30e18ea864bba2c11242cb2a80dcdc77c745154ef97\n",
      "  Stored in directory: /root/.cache/pip/wheels/61/3a/b0/0b4c443c380bd934701b0a25e4aed76479e4fcaf1a6f955664\n",
      "  Building wheel for pretrainedmodels (setup.py) ... \u001b[?25l\u001b[?25hdone\n",
      "  Created wheel for pretrainedmodels: filename=pretrainedmodels-0.7.4-py3-none-any.whl size=60944 sha256=3c897842667daafbf1d01709e8c7e13fd7beb7113b31143b120f1e2b76465e11\n",
      "  Stored in directory: /root/.cache/pip/wheels/35/cb/a5/8f534c60142835bfc889f9a482e4a67e0b817032d9c6883b64\n",
      "Successfully built pretrained_microscopy_models efficientnet-pytorch pretrainedmodels\n",
      "Installing collected packages: munch, efficientnet-pytorch, timm, pretrainedmodels, segmentation-models-pytorch, pretrained_microscopy_models\n",
      "  Attempting uninstall: timm\n",
      "    Found existing installation: timm 1.0.11\n",
      "    Uninstalling timm-1.0.11:\n",
      "      Successfully uninstalled timm-1.0.11\n",
      "Successfully installed efficientnet-pytorch-0.6.3 munch-4.0.0 pretrained_microscopy_models-0.1.0 pretrainedmodels-0.7.4 segmentation-models-pytorch-0.2.1 timm-0.4.12\n"
     ]
    }
   ],
   "source": [
    "!pip install git+https://github.com/nasa/pretrained-microscopy-models"
   ]
  },
  {
   "cell_type": "code",
   "execution_count": 2,
   "metadata": {
    "colab": {
     "base_uri": "https://localhost:8080/"
    },
    "executionInfo": {
     "elapsed": 26476,
     "status": "ok",
     "timestamp": 1731471183218,
     "user": {
      "displayName": "Sheila Whitman",
      "userId": "11834864190234586210"
     },
     "user_tz": 420
    },
    "id": "sc0xuhIVkB6n",
    "outputId": "60938576-aef0-4eb9-e853-7220018f1314"
   },
   "outputs": [
    {
     "name": "stderr",
     "output_type": "stream",
     "text": [
      "/usr/local/lib/python3.10/dist-packages/albumentations/__init__.py:24: UserWarning: A new version of Albumentations is available: 1.4.21 (you have 1.4.20). Upgrade using: pip install -U albumentations. To disable automatic update checks, set the environment variable NO_ALBUMENTATIONS_UPDATE to 1.\n",
      "  check_for_updates()\n"
     ]
    }
   ],
   "source": [
    "import numpy as np\n",
    "import scipy.io as sio\n",
    "import matplotlib.pyplot as plt\n",
    "import torch\n",
    "import gc\n",
    "from torchvision import transforms\n",
    "from PIL import Image\n",
    "import os\n",
    "import pandas as pd\n",
    "import math\n",
    "\n",
    "from numpy import mean\n",
    "from numpy import std\n",
    "from numpy import absolute\n",
    "\n",
    "from sklearn.model_selection import train_test_split, LeaveOneOut, cross_val_score, KFold\n",
    "from sklearn.decomposition import PCA\n",
    "from sklearn.linear_model import LinearRegression\n",
    "from sklearn.preprocessing import PolynomialFeatures\n",
    "from sklearn.metrics import make_scorer,r2_score\n",
    "from sklearn.svm import SVR\n",
    "\n",
    "from transformers import CLIPProcessor, CLIPModel, AutoModel, CLIPImageProcessor, SamModel, SamProcessor, AutoProcessor\n",
    "\n",
    "#import torch\n",
    "import pretrained_microscopy_models as pmm\n",
    "import torch.utils.model_zoo as model_zoo\n",
    "import torch.nn as nn\n",
    "\n"
   ]
  },
  {
   "cell_type": "code",
   "execution_count": 3,
   "metadata": {
    "colab": {
     "base_uri": "https://localhost:8080/"
    },
    "executionInfo": {
     "elapsed": 12330,
     "status": "ok",
     "timestamp": 1731471196745,
     "user": {
      "displayName": "Sheila Whitman",
      "userId": "11834864190234586210"
     },
     "user_tz": 420
    },
    "id": "jlFrJr5VkSz0",
    "outputId": "c1a77d65-79be-4936-d97d-d23e7a1b9627"
   },
   "outputs": [
    {
     "name": "stderr",
     "output_type": "stream",
     "text": [
      "Downloading: \"https://github.com/pytorch/vision/zipball/v0.10.0\" to /root/.cache/torch/hub/v0.10.0.zip\n",
      "/usr/local/lib/python3.10/dist-packages/torchvision/models/_utils.py:208: UserWarning: The parameter 'pretrained' is deprecated since 0.13 and may be removed in the future, please use 'weights' instead.\n",
      "  warnings.warn(\n",
      "/usr/local/lib/python3.10/dist-packages/torchvision/models/_utils.py:223: UserWarning: Arguments other than a weight enum or `None` for 'weights' are deprecated since 0.13 and may be removed in the future. The current behavior is equivalent to passing `weights=None`.\n",
      "  warnings.warn(msg)\n",
      "Downloading: \"https://nasa-public-data.s3.amazonaws.com/microscopy_segmentation_models/resnet50_pretrained_microscopynet_v1.1.pth.tar\" to /root/.cache/torch/hub/checkpoints/resnet50_pretrained_microscopynet_v1.1.pth.tar\n",
      "100%|██████████| 97.8M/97.8M [00:06<00:00, 14.9MB/s]\n"
     ]
    }
   ],
   "source": [
    "model = torch.hub.load('pytorch/vision:v0.10.0', 'resnet50', pretrained=False)\n",
    "url = pmm.util.get_pretrained_microscopynet_url('resnet50', 'micronet')\n",
    "\n",
    "\n",
    "state_dict = torch.hub.load_state_dict_from_url(url, map_location=torch.device('cpu'))\n",
    "device = 'cuda' if torch.cuda.is_available() else 'cpu'\n",
    "\n"
   ]
  },
  {
   "cell_type": "code",
   "execution_count": 5,
   "metadata": {
    "executionInfo": {
     "elapsed": 462,
     "status": "ok",
     "timestamp": 1731471224487,
     "user": {
      "displayName": "Sheila Whitman",
      "userId": "11834864190234586210"
     },
     "user_tz": 420
    },
    "id": "Tvxxhg-fk9_7"
   },
   "outputs": [],
   "source": [
    "transform = transforms.Compose([\n",
    "                transforms.Resize((224, 224)),\n",
    "                transforms.ToTensor(),\n",
    "                 ])"
   ]
  },
  {
   "cell_type": "code",
   "execution_count": 8,
   "metadata": {
    "executionInfo": {
     "elapsed": 343,
     "status": "ok",
     "timestamp": 1731471273264,
     "user": {
      "displayName": "Sheila Whitman",
      "userId": "11834864190234586210"
     },
     "user_tz": 420
    },
    "id": "z6ERhWlKnhqF"
   },
   "outputs": [],
   "source": [
    "def make_NASA_features(img):\n",
    "    # print (img.shape)\n",
    "    # plt.imshow(img)\n",
    "    # plt.show()\n",
    "\n",
    "    x_shape = img.shape[0]\n",
    "    y_shape = img.shape[1]\n",
    "\n",
    "    if x_shape <= y_shape:\n",
    "      min = x_shape\n",
    "    else:\n",
    "      min = y_shape\n",
    "\n",
    "    img_new = img[:min, :min, :]\n",
    "\n",
    "    img_rgb = Image.fromarray(img_new).convert('RGB')\n",
    "\n",
    "    #print (img_rgb.size)\n",
    "\n",
    "    img_t = transform(img_rgb)\n",
    "\n",
    "    # image = img_t.permute(1, 2, 0)\n",
    "    # plt.imshow(image)\n",
    "    # plt.show()\n",
    "\n",
    "    img_t = img_t.unsqueeze(0)\n",
    "\n",
    "    # Extract everything up to the avgpool layer\n",
    "    feature_extractor = nn.Sequential(*list(model.children())[:-1])\n",
    "    feature_extractor.eval()\n",
    "\n",
    "\n",
    "    with torch.no_grad():\n",
    "         features = feature_extractor(img_t)\n",
    "    features = np.array(features)\n",
    "    features = np.squeeze(features)\n",
    "\n",
    "    #print (features.shape)\n",
    "    return features"
   ]
  },
  {
   "cell_type": "code",
   "execution_count": 9,
   "metadata": {
    "colab": {
     "base_uri": "https://localhost:8080/"
    },
    "executionInfo": {
     "elapsed": 46005,
     "status": "ok",
     "timestamp": 1731471328627,
     "user": {
      "displayName": "Sheila Whitman",
      "userId": "11834864190234586210"
     },
     "user_tz": 420
    },
    "id": "NsuPPT0Zk6du",
    "outputId": "898987cf-19be-42c4-a6eb-7c70ea1e4d7c"
   },
   "outputs": [
    {
     "name": "stdout",
     "output_type": "stream",
     "text": [
      "0\n",
      "1\n",
      "2\n",
      "3\n",
      "4\n",
      "5\n",
      "6\n",
      "7\n",
      "8\n",
      "9\n",
      "10\n",
      "11\n",
      "12\n",
      "13\n",
      "14\n",
      "15\n",
      "16\n",
      "17\n",
      "18\n",
      "19\n",
      "20\n",
      "21\n",
      "22\n",
      "23\n",
      "24\n",
      "25\n",
      "26\n",
      "27\n",
      "28\n",
      "29\n",
      "30\n",
      "31\n",
      "32\n",
      "33\n",
      "34\n",
      "35\n",
      "36\n",
      "37\n",
      "38\n",
      "39\n",
      "40\n",
      "41\n",
      "42\n",
      "43\n",
      "44\n",
      "45\n",
      "46\n",
      "47\n",
      "48\n",
      "49\n",
      "50\n",
      "51\n",
      "52\n",
      "53\n",
      "54\n",
      "55\n",
      "56\n",
      "57\n",
      "58\n",
      "59\n",
      "60\n",
      "61\n",
      "62\n",
      "63\n",
      "64\n",
      "65\n",
      "66\n",
      "67\n",
      "68\n",
      "69\n",
      "70\n",
      "71\n",
      "72\n",
      "73\n",
      "74\n",
      "75\n",
      "76\n",
      "77\n",
      "78\n",
      "79\n",
      "80\n",
      "81\n",
      "82\n",
      "83\n",
      "84\n",
      "85\n",
      "86\n",
      "87\n",
      "88\n",
      "89\n",
      "90\n",
      "91\n",
      "92\n",
      "93\n",
      "94\n",
      "95\n",
      "96\n",
      "97\n",
      "98\n",
      "99\n",
      "100\n",
      "101\n",
      "102\n",
      "103\n",
      "104\n",
      "105\n",
      "106\n",
      "107\n",
      "108\n",
      "109\n",
      "110\n",
      "111\n",
      "112\n",
      "113\n",
      "114\n",
      "115\n",
      "116\n",
      "117\n",
      "118\n",
      "119\n",
      "120\n",
      "121\n",
      "122\n",
      "123\n",
      "124\n",
      "125\n",
      "126\n",
      "127\n",
      "128\n",
      "129\n",
      "130\n",
      "131\n",
      "132\n",
      "133\n",
      "134\n",
      "135\n",
      "136\n",
      "137\n",
      "138\n",
      "139\n",
      "140\n",
      "141\n",
      "142\n",
      "143\n",
      "144\n",
      "145\n",
      "146\n",
      "147\n",
      "148\n"
     ]
    }
   ],
   "source": [
    "image_path = '/content/drive/MyDrive/11_12/ImagesToKeep'\n",
    "\n",
    "desired_files = [file for file in os.listdir(image_path) if not file.startswith('.')]\n",
    "\n",
    "count  = 0\n",
    "for filename in desired_files:\n",
    "    f = filename[:-4]\n",
    "\n",
    "    img = Image.open(image_path + '/' + filename)\n",
    "\n",
    "    img = np.array(img)\n",
    "\n",
    "    img_features = make_NASA_features(img)\n",
    "\n",
    "    new_filename =  '/content/drive/MyDrive/11_12/ImagesToKeep_Features/' + f + '_Nasa.npy'\n",
    "    np.save(new_filename, img_features)\n",
    "    print (count)\n",
    "\n",
    "    count = count + 1\n"
   ]
  }
 ],
 "metadata": {
  "colab": {
   "authorship_tag": "ABX9TyO+lwL3zyt/zS36LoKBXINo",
   "provenance": []
  },
  "kernelspec": {
   "display_name": "Python 3",
   "name": "python3"
  },
  "language_info": {
   "name": "python"
  }
 },
 "nbformat": 4,
 "nbformat_minor": 0
}
