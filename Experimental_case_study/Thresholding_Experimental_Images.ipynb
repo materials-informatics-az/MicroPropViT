{
 "cells": [
  {
   "cell_type": "code",
   "execution_count": null,
   "metadata": {
    "colab": {
     "base_uri": "https://localhost:8080/"
    },
    "executionInfo": {
     "elapsed": 75794,
     "status": "ok",
     "timestamp": 1733762823069,
     "user": {
      "displayName": "Sheila Whitman",
      "userId": "11834864190234586210"
     },
     "user_tz": 420
    },
    "id": "NSf5aAsxgeHH",
    "outputId": "1cf11bdb-acaf-408a-88a4-7fe491cb272c"
   },
   "outputs": [],
   "source": [
    "import cv2\n",
    "import numpy as np\n",
    "from google.colab.patches import cv2_imshow\n",
    "import matplotlib.pyplot as plt\n",
    "import pandas as pd\n",
    "\n",
    "import numpy as np\n",
    "import scipy.io as sio\n",
    "import matplotlib.pyplot as plt\n",
    "# import torch\n",
    "# from torchvision import transforms\n",
    "from PIL import Image\n",
    "import os\n",
    "import pandas as pd\n",
    "import math\n",
    "\n",
    "\n",
    "image_path = 'PATH'\n",
    "\n",
    "desired_files = [file for file in os.listdir(image_path) if not file.startswith('.')]\n",
    "\n",
    "imgs = []\n",
    "names = []\n",
    "count = 0\n",
    "for filename in desired_files:\n",
    "    f = filename[:-4]\n",
    "    print (f)\n",
    "\n",
    "    last_seven_chars = f[-7:]\n",
    "\n",
    "    img = Image.open(image_path + '/' + filename)\n",
    "\n",
    "    img = np.array(img)\n",
    "\n",
    "    # plt.imshow(img)\n",
    "    # plt.show()\n",
    "\n",
    "    # print (img.shape)\n",
    "\n",
    "    x_shape = img.shape[0]\n",
    "    y_shape = img.shape[1]\n",
    "\n",
    "    if x_shape <= y_shape:\n",
    "      min = x_shape\n",
    "    else:\n",
    "      min = y_shape\n",
    "\n",
    "    # img_new = img[:min, :min, :]\n",
    "\n",
    "    # print (img_new.shape)\n",
    "\n",
    "    rgb_image = cv2.cvtColor(img, cv2.COLOR_RGBA2RGB)\n",
    "\n",
    "    # plt.imshow(rgb_image)\n",
    "    # plt.show()\n",
    "\n",
    "    # Step 2: Convert RGB to Grayscale\n",
    "    gray_image = cv2.cvtColor(rgb_image, cv2.COLOR_RGB2GRAY)\n",
    "\n",
    "    # plt.imshow(gray_image)\n",
    "    # plt.show()\n",
    "\n",
    "    #image1 = cv2.resize(gray_image, (224,224))\n",
    "    image1 = cv2.fastNlMeansDenoising(gray_image, None, 10, 7, 21)\n",
    "    # plt.imshow(image1)\n",
    "    # plt.show()\n",
    "\n",
    "    if (int(min/2)%2 == 0):\n",
    "      window = int(min/2)+1\n",
    "    else:\n",
    "      window = int(min/2)\n",
    "\n",
    "    thresh1 = cv2.adaptiveThreshold(image1,255,cv2.ADAPTIVE_THRESH_MEAN_C , cv2.THRESH_BINARY, window , 5)\n",
    "\n",
    "    mdic = {\"a\": thresh1, \"label\": f}\n",
    "\n",
    "    filename3 = 'Binary_Images/' + f + '.mat'\n",
    "    sio.savemat(filename3,mdic)\n",
    "    #np.save(filename3,thresh1)\n",
    "    print (count)\n",
    "    count = count + 1\n",
    "    # #plt.imsave(filename3, thresh1)\n",
    "    # plt.show()\n"
   ]
  }
 ],
 "metadata": {
  "colab": {
   "authorship_tag": "ABX9TyNgDAYmzpY2fla3w2WJl6K4",
   "provenance": []
  },
  "kernelspec": {
   "display_name": "Python 3",
   "name": "python3"
  },
  "language_info": {
   "name": "python"
  }
 },
 "nbformat": 4,
 "nbformat_minor": 0
}
