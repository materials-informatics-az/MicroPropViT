{
 "cells": [
  {
   "cell_type": "code",
   "execution_count": 1,
   "id": "8019a6a1-cf41-46c4-8080-50391848c75e",
   "metadata": {
    "executionInfo": {
     "elapsed": 41776,
     "status": "ok",
     "timestamp": 1735574307478,
     "user": {
      "displayName": "Sheila Whitman",
      "userId": "11834864190234586210"
     },
     "user_tz": 420
    },
    "id": "8019a6a1-cf41-46c4-8080-50391848c75e"
   },
   "outputs": [],
   "source": [
    "#IMPORTS\n",
    "import numpy as np\n",
    "import scipy.io as sio\n",
    "import matplotlib.pyplot as plt\n",
    "import torch\n",
    "from torchvision import transforms\n",
    "from PIL import Image\n",
    "import os\n",
    "import pandas as pd\n",
    "import math\n",
    "\n",
    "from numpy import mean\n",
    "from numpy import std\n",
    "from numpy import absolute\n",
    "\n",
    "from sklearn.model_selection import train_test_split, LeaveOneOut, cross_val_score, KFold, GridSearchCV\n",
    "from sklearn.decomposition import PCA\n",
    "from sklearn.linear_model import LinearRegression\n",
    "from sklearn.preprocessing import PolynomialFeatures\n",
    "from sklearn.metrics import make_scorer,r2_score\n",
    "from sklearn.svm import SVR\n",
    "from sklearn.pipeline import Pipeline\n",
    "from sklearn.preprocessing import StandardScaler, MinMaxScaler\n",
    "import seaborn as sns\n",
    "from sklearn.metrics import mean_absolute_percentage_error\n",
    "\n",
    "\n",
    "#Loading Features\n",
    "def load_features(path, name):\n",
    "\n",
    "    image_path = path\n",
    "    look = name\n",
    "\n",
    "    desired_files = [file for file in os.listdir(image_path) if not file.startswith('.')]\n",
    "\n",
    "    features = []\n",
    "    image_names = []\n",
    "    count = 0\n",
    "    for filename in desired_files:\n",
    "        f = filename[:-4]\n",
    "        if f[-len(look):] == look:\n",
    "            feature = np.load(image_path + '/' + filename)\n",
    "            feature = np.squeeze(feature)\n",
    "            features.append(feature)\n",
    "            image_names.append(f[:-len(look)])\n",
    "\n",
    "    features_df = pd.DataFrame({look : features, 'Image_Name': image_names})\n",
    "\n",
    "    return features_df\n",
    "\n",
    "#Converting all hardness values reported as GPa to HV\n",
    "def Convert_to_HV(gpa, hv):\n",
    "    if hv == 'N/a':\n",
    "        return 1000/9.80665*gpa\n",
    "    else:\n",
    "        return hv\n",
    "\n",
    "#Converting all hardness values reported as HV to GPa\n",
    "def Convert_to_GPA(gpa, hv):\n",
    "    if gpa == 'N/a':\n",
    "        return 9.80665/1000*hv\n",
    "    else:\n",
    "        return gpa\n",
    "\n",
    "\n",
    "#Loading the excel sheet containing the corresponding properties and composition information\n",
    "def load_properties(path):\n",
    "    properties = pd.read_excel(path)\n",
    "    for i, col in enumerate(properties.columns):\n",
    "      print(f\"Index {i}: {col}\")\n",
    "\n",
    "\n",
    "    columns_to_combine = properties.iloc[:, 3:25]\n",
    "    properties['combined_array'] = columns_to_combine.apply(lambda row: row.values.tolist(), axis=1)\n",
    "\n",
    "    for index, row in properties.iterrows():\n",
    "      gpa = row['Vickers Hardness (Gpa) ']\n",
    "      hv = row['Vickers Hardness (HV)']\n",
    "      properties.at[index, 'Vickers Hardness (HV)'] = Convert_to_HV(gpa, hv)\n",
    "      properties.at[index, 'Vickers Hardness (Gpa) '] = Convert_to_GPA(gpa, hv)\n",
    "\n",
    "    return properties\n",
    "\n",
    "\n",
    "#Calculating MAPE score\n",
    "def MAPE(y, y_hat):\n",
    "    mape = np.mean(np.abs((y - y_hat)/y))*100\n",
    "    return mape\n",
    "\n",
    "def nested_pr(X, Y, scaled=False):\n",
    "    # Setup outer cross-validation loop\n",
    "    outer_cv = KFold(n_splits=10, shuffle=True, random_state=42)\n",
    "\n",
    "    # Create the pipeline with PCA and Polynomial Regression\n",
    "    pca = PCA()\n",
    "    poly = PolynomialFeatures(degree=2)\n",
    "    model = LinearRegression()\n",
    "\n",
    "    if scaled:\n",
    "        scaler = StandardScaler()\n",
    "        pipeline = Pipeline([\n",
    "            ('scaler', scaler),\n",
    "            ('pca', pca),\n",
    "            ('poly', poly),\n",
    "            ('regression', model)\n",
    "        ])\n",
    "    else:\n",
    "        pipeline = Pipeline([\n",
    "            ('pca', pca),\n",
    "            ('poly', poly),\n",
    "            ('regression', model)\n",
    "        ])\n",
    "\n",
    "    # Define parameter grid to search for the ideal number of PCs\n",
    "    param_grid = {\n",
    "        'pca__n_components': np.arange(1, 13)\n",
    "    }\n",
    "\n",
    "\n",
    "    # enumerate splits\n",
    "    outer_results = list()\n",
    "    # enumerate splits\n",
    "    best_pcs = list()\n",
    "    for train_ix, test_ix in outer_cv.split(X):\n",
    "        # split data\n",
    "        X_train, X_test = X[train_ix, :], X[test_ix, :]\n",
    "        y_train, y_test = Y[train_ix], Y[test_ix]\n",
    "\n",
    "        # Nested cross-validation for PCA components tuning\n",
    "        inner_cv = KFold(n_splits=5, shuffle=True, random_state=42)\n",
    "\n",
    "        search = GridSearchCV(pipeline, param_grid, cv=inner_cv, scoring='neg_mean_absolute_percentage_error', refit=True)\n",
    "        # execute search\n",
    "        result = search.fit(X_train, y_train)\n",
    "        # get the best performing model fit on the whole training set\n",
    "        best_model = result.best_estimator_\n",
    "        best_params = result.best_params_['pca__n_components']\n",
    "        best_pcs.append(best_params)\n",
    "        # evaluate model on the hold out dataset\n",
    "        yhat = best_model.predict(X_test)\n",
    "        # evaluate the model\n",
    "        acc = MAPE(y_test, yhat)\n",
    "        # store the result\n",
    "        outer_results.append(acc)\n",
    "\n",
    "        # report progress\n",
    "        print('MAPE=%.3f, Train MAPE=%.3f, Number of PCs=%s' % (acc, result.best_score_, best_params))\n",
    "\n",
    "    most_common_pc = max(set(best_pcs), key=best_pcs.count)\n",
    "    # summarize the estimated performance of the model\n",
    "    print(f\"\\nAverage MAPE across outer folds: {mean(outer_results):.3f}, Standard Deviation: {std(outer_results):.3f}, Most Common PC: {most_common_pc}\")\n",
    "    #print('Accuracy: %.3f (%.3f)' % (mean(outer_results), std(outer_results)))\n",
    "\n",
    "    return most_common_pc, outer_results\n",
    "\n",
    "\n",
    "def nested_lr(X, Y, scaled=False):\n",
    "\n",
    "    # Setup outer cross-validation loop\n",
    "    outer_cv = KFold(n_splits=10, shuffle=True, random_state=42)\n",
    "\n",
    "    # Create the pipeline with PCA\n",
    "    pca = PCA()\n",
    "    model = LinearRegression()\n",
    "\n",
    "    if scaled:\n",
    "        scaler = StandardScaler()\n",
    "        pipeline = Pipeline([\n",
    "            ('scaler', scaler),\n",
    "            ('pca', pca),\n",
    "            ('regression', model)\n",
    "        ])\n",
    "    else:\n",
    "        pipeline = Pipeline([\n",
    "            ('pca', pca),\n",
    "            ('regression', model)\n",
    "        ])\n",
    "\n",
    "    # Define parameter grid to search for the ideal number of PCs\n",
    "    param_grid = {\n",
    "        'pca__n_components': np.arange(1, 51)\n",
    "    }\n",
    "\n",
    "\n",
    "    # enumerate splits\n",
    "    outer_results = list()\n",
    "    # enumerate splits\n",
    "    best_pcs = list()\n",
    "    for train_ix, test_ix in outer_cv.split(X):\n",
    "        # split data\n",
    "        X_train, X_test = X[train_ix, :], X[test_ix, :]\n",
    "        y_train, y_test = Y[train_ix], Y[test_ix]\n",
    "\n",
    "        # Nested cross-validation for PCA components tuning\n",
    "        inner_cv = KFold(n_splits=5, shuffle=True, random_state=42)\n",
    "\n",
    "        search = GridSearchCV(pipeline, param_grid, cv=inner_cv, scoring='neg_mean_absolute_percentage_error', refit=True)\n",
    "        # execute search\n",
    "        result = search.fit(X_train, y_train)\n",
    "        # get the best performing model fit on the whole training set\n",
    "        best_model = result.best_estimator_\n",
    "        best_params = result.best_params_['pca__n_components']\n",
    "        best_pcs.append(best_params)\n",
    "        # evaluate model on the hold out dataset\n",
    "        yhat = best_model.predict(X_test)\n",
    "        # evaluate the model\n",
    "        acc = MAPE(y_test, yhat)\n",
    "        # store the result\n",
    "        outer_results.append(acc)\n",
    "\n",
    "        # report progress\n",
    "        print('MAPE=%.3f, Train MAPE=%.3f, Number of PCs=%s' % (acc, result.best_score_, best_params))\n",
    "\n",
    "    most_common_pc = max(set(best_pcs), key=best_pcs.count)\n",
    "    # summarize the estimated performance of the model\n",
    "    print(f\"\\nAverage MAPE across outer folds: {mean(outer_results):.3f}, Standard Deviation: {std(outer_results):.3f}, Most Common PC: {most_common_pc}\")\n",
    "    #print('Accuracy: %.3f (%.3f)' % (mean(outer_results), std(outer_results)))\n",
    "\n",
    "    return most_common_pc, outer_results\n",
    "\n",
    "\n",
    "def nested_svr(X, Y, scaled=False):\n",
    "\n",
    "    # Setup outer cross-validation loop\n",
    "    outer_cv = KFold(n_splits=10, shuffle=True, random_state=42)\n",
    "\n",
    "    # Create the pipeline with PCA\n",
    "    pca = PCA()\n",
    "    svr = SVR(kernel='linear')\n",
    "\n",
    "    if scaled == True:\n",
    "        scaler = StandardScaler()\n",
    "        pipeline = Pipeline([\n",
    "            ('scaler', scaler),\n",
    "            ('pca', pca),\n",
    "            ('svr', svr)\n",
    "        ])\n",
    "\n",
    "    else:\n",
    "        pipeline = Pipeline([\n",
    "            ('pca', pca),\n",
    "            ('svr', svr)\n",
    "        ])\n",
    "\n",
    "\n",
    "    # Define parameter grid to search for the ideal number of PCs\n",
    "    param_grid = {\n",
    "        'pca__n_components': np.arange(1, 51)\n",
    "    }\n",
    "\n",
    "\n",
    "    # enumerate splits\n",
    "    outer_results = list()\n",
    "    # enumerate splits\n",
    "    best_pcs = list()\n",
    "    for train_ix, test_ix in outer_cv.split(X):\n",
    "        # split data\n",
    "        X_train, X_test = X[train_ix, :], X[test_ix, :]\n",
    "        y_train, y_test = Y[train_ix], Y[test_ix]\n",
    "\n",
    "        # Nested cross-validation for PCA components tuning\n",
    "        inner_cv = KFold(n_splits=5, shuffle=True, random_state=42)\n",
    "\n",
    "        search = GridSearchCV(pipeline, param_grid, cv=inner_cv, scoring='neg_mean_absolute_percentage_error', refit=True)\n",
    "        # execute search\n",
    "        result = search.fit(X_train, y_train)\n",
    "        # get the best performing model fit on the whole training set\n",
    "        best_model = result.best_estimator_\n",
    "        best_params = result.best_params_['pca__n_components']\n",
    "        best_pcs.append(best_params)\n",
    "        # evaluate model on the hold out dataset\n",
    "        yhat = best_model.predict(X_test)\n",
    "        # evaluate the model\n",
    "        acc = MAPE(y_test, yhat)\n",
    "        # store the result\n",
    "        outer_results.append(acc)\n",
    "\n",
    "        # report progress\n",
    "        print('MAPE=%.3f, Train MAPE=%.3f, Number of PCs=%s' % (acc, result.best_score_, best_params))\n",
    "\n",
    "    most_common_pc = max(set(best_pcs), key=best_pcs.count)\n",
    "    # summarize the estimated performance of the model\n",
    "    print(f\"\\nAverage MAPE across outer folds: {mean(outer_results):.3f}, Standard Deviation: {std(outer_results):.3f}, Most Common PC: {most_common_pc}\")\n",
    "    #print('Accuracy: %.3f (%.3f)' % (mean(outer_results), std(outer_results)))\n",
    "\n",
    "    return most_common_pc, outer_results\n",
    "\n",
    "\n",
    "def Visualization(results, save = False, filename = \"\", min = 0, max = 50):\n",
    "    names = ['clip_vitb16', 'clip_vitb32', 'clip_vitl14', 'dino_vits', 'dino_vitb', 'dino_vitl', 'dino_vitg', 'sam', 'nasa']#, 'twopoint']\n",
    "    medians = np.median(results,axis = 1)\n",
    "\n",
    "    plt.figure(figsize=(10, 5))\n",
    "\n",
    "    ax = sns.boxplot(data = results)\n",
    "\n",
    "    for xtick in ax.get_xticks():\n",
    "        ax.text(xtick, medians[xtick], f'{medians[xtick]:.2f}',\n",
    "                    horizontalalignment='center', size='small', color='black')\n",
    "\n",
    "\n",
    "    ax.set_xticklabels(names)\n",
    "    ax.set_xlabel('Model')\n",
    "    ax.set_ylabel('MAPE')\n",
    "    ax.set_title('2nd Order Polynomial Regression Experimental Results - Just Images')\n",
    "    ax.set_ylim(min,max)\n",
    "\n",
    "    plt.tight_layout()\n",
    "    # if save == True:\n",
    "    #     plt.savefig(filename, dpi=300)\n",
    "    plt.show()\n",
    "\n",
    "\n",
    "def run_svr(x_train, y_train, x,y,num_comp, scale = False):\n",
    "\n",
    "    if scale == True:\n",
    "        scaler = StandardScaler()\n",
    "        x_train = scaler.fit_transform(x_train)\n",
    "        x = scaler.transform(x)\n",
    "\n",
    "    pca = PCA(\n",
    "            svd_solver='full',\n",
    "            n_components=num_comp,\n",
    "            random_state=10\n",
    "        ).fit(x_train)\n",
    "\n",
    "    x_red = pca.transform(x_train)\n",
    "    x_red_test = pca.transform(x)\n",
    "\n",
    "    model = SVR(kernel='linear').fit(x_red,y_train)\n",
    "\n",
    "    y_hat_train = model.predict(x_red)\n",
    "\n",
    "    y_hat_train = y_hat_train.reshape(-1,1)\n",
    "\n",
    "    mape_train = MAPE(y_train, y_hat_train)\n",
    "\n",
    "    residual_train = y_hat_train-y_train\n",
    "\n",
    "    y_hat_test = model.predict(x_red_test)\n",
    "\n",
    "    y_hat_test = y_hat_test.reshape(-1,1)\n",
    "\n",
    "    residual_test = (y_hat_test-y)\n",
    "\n",
    "    mape_test = MAPE(y, y_hat_test)\n",
    "\n",
    "    print ('Train MAPE: %.3f' % (mape_train))\n",
    "    print ('Test MAPE: %.3f' % (mape_test))\n",
    "\n",
    "\n",
    "    # Create a square figure\n",
    "    fig = plt.figure(figsize=(6, 6))  # 6x6 inches square figure\n",
    "\n",
    "    # Plot data\n",
    "    x_vals = range(150,750)\n",
    "    y_vals = range(150,750)\n",
    "    plt.plot(x_vals,y_vals, color = 'black')\n",
    "    plt.scatter(y_train,y_hat_train,color=\"#C1BCB6\", zorder = 2)\n",
    "    plt.scatter(y,y_hat_test,color=\"#FF206E\", zorder = 3) #\"#00E632\")\n",
    "\n",
    "    plt.xlabel('True hardness HV', fontsize = 18)\n",
    "    plt.ylabel('Predicted hardness HV', fontsize = 18)\n",
    "    plt.xlim(150,750)\n",
    "    plt.ylim(150,750)\n",
    "    #plt.ylim(1,7)#200,600)\n",
    "    # Set equal scaling by setting aspect ratio to 'equal'\n",
    "    plt.gca().set_aspect('equal', adjustable='box')\n",
    "\n",
    "    # Save the figure as a PDF file\n",
    "    name = str(num_comp) + '.pdf'\n",
    "    plt.savefig(name, format='pdf')\n",
    "\n",
    "    # Show the plot\n",
    "    plt.show()\n",
    "\n",
    "\n",
    "\n"
   ]
  },
  {
   "cell_type": "code",
   "execution_count": null,
   "id": "W1yBBNUTn6JG",
   "metadata": {
    "colab": {
     "base_uri": "https://localhost:8080/",
     "height": 1000
    },
    "executionInfo": {
     "elapsed": 1646,
     "status": "error",
     "timestamp": 1735574542061,
     "user": {
      "displayName": "Sheila Whitman",
      "userId": "11834864190234586210"
     },
     "user_tz": 420
    },
    "id": "W1yBBNUTn6JG",
    "outputId": "1a9a8014-407f-49c3-fb11-6e6270ee88dd"
   },
   "outputs": [],
   "source": [
    "#Loading the two-point correlations from the matlab files\n",
    "\n",
    "image_path = 'PATH'\n",
    "look = '_tp'\n",
    "\n",
    "desired_files = [file for file in os.listdir(image_path) if not file.startswith('.')]\n",
    "\n",
    "features = []\n",
    "image_names = []\n",
    "count = 0\n",
    "for filename in desired_files:\n",
    "    f = filename[:-4]\n",
    "    if f[-len(look):] == look:\n",
    "        feature = sio.loadmat(image_path + '/' + filename)\n",
    "        feature = feature['cross']\n",
    "        feature = np.array(feature)\n",
    "        print (feature.shape)\n",
    "        feature = np.squeeze(feature)\n",
    "        features.append(feature)\n",
    "        image_names.append(f[:-len(look)])\n",
    "\n",
    "tp_df = pd.DataFrame({look : features, 'Image_Name': image_names})\n",
    "\n",
    "print (tp_df.head())\n",
    "\n",
    "print (len(tp_df))\n",
    "\n"
   ]
  },
  {
   "cell_type": "code",
   "execution_count": null,
   "id": "6a97acef-b659-4c2b-b018-79b85e0e600b",
   "metadata": {
    "colab": {
     "base_uri": "https://localhost:8080/"
    },
    "executionInfo": {
     "elapsed": 39361,
     "status": "ok",
     "timestamp": 1734477150505,
     "user": {
      "displayName": "Sheila Whitman",
      "userId": "11834864190234586210"
     },
     "user_tz": 420
    },
    "id": "6a97acef-b659-4c2b-b018-79b85e0e600b",
    "outputId": "170cf357-bc69-4b09-d5d6-e671a75690fb"
   },
   "outputs": [],
   "source": [
    "#Loading the all of the other extracted features\n",
    "\n",
    "names = ['_clip_b16','_clip_b32','_clip_l14','_dino_s','_dino_b','_dino_l','_dino_g','_sam','_Nasa']#,'_twopoint']\n",
    "path1 = 'FEATURE PATH'\n",
    "dfs = []\n",
    "for name in names:\n",
    "    df1 = load_features(path1, name)\n",
    "    #df2 = load_features(path2, name)\n",
    "    #df = pd.concat([df1, df2], axis=0)\n",
    "    #print (df1.head())\n",
    "    print (len(df1))\n",
    "    dfs.append(df1)\n"
   ]
  },
  {
   "cell_type": "code",
   "execution_count": null,
   "id": "VDnXwMFPsdX4",
   "metadata": {
    "colab": {
     "base_uri": "https://localhost:8080/"
    },
    "executionInfo": {
     "elapsed": 194,
     "status": "ok",
     "timestamp": 1734477158307,
     "user": {
      "displayName": "Sheila Whitman",
      "userId": "11834864190234586210"
     },
     "user_tz": 420
    },
    "id": "VDnXwMFPsdX4",
    "outputId": "b9b291bb-45cc-449f-e7c2-fdb1621d43f0"
   },
   "outputs": [],
   "source": [
    "dfs.append(tp_df)\n",
    "print (len(dfs))"
   ]
  },
  {
   "cell_type": "code",
   "execution_count": null,
   "id": "uUj-gf0cOl0z",
   "metadata": {
    "colab": {
     "base_uri": "https://localhost:8080/"
    },
    "executionInfo": {
     "elapsed": 4102,
     "status": "ok",
     "timestamp": 1734477169463,
     "user": {
      "displayName": "Sheila Whitman",
      "userId": "11834864190234586210"
     },
     "user_tz": 420
    },
    "id": "uUj-gf0cOl0z",
    "outputId": "adf7bc77-0898-4d3e-be79-ff98cea1f74e"
   },
   "outputs": [],
   "source": [
    "#Loading the corresponding properties and merging dataframe on the saved image name \n",
    "\n",
    "merged_df = load_properties('PROPERTY PATH')\n",
    "\n",
    "for dataframe in dfs:\n",
    "    merged_df = pd.merge(dataframe,merged_df, on='Image_Name')\n",
    "\n",
    "print (merged_df.head())"
   ]
  },
  {
   "cell_type": "code",
   "execution_count": null,
   "id": "a1af60ac-496b-4f6d-b32c-bfe2ceaa6f7d",
   "metadata": {
    "id": "a1af60ac-496b-4f6d-b32c-bfe2ceaa6f7d"
   },
   "outputs": [],
   "source": [
    "clip_vitb16_features = np.array(merged_df['_clip_b16'].tolist())\n",
    "clip_vitb32_features = np.array(merged_df['_clip_b32'].tolist())\n",
    "clip_vitl14_features =  np.array(merged_df['_clip_l14'].tolist())\n",
    "sam_features =  np.array(merged_df['_sam'].tolist())\n",
    "dino_vits_features =   np.array(merged_df['_dino_s'].tolist())\n",
    "dino_vitb_features =  np.array(merged_df['_dino_b'].tolist())\n",
    "dino_vitl_features =  np.array(merged_df['_dino_l'].tolist())\n",
    "dino_vitg_features =  np.array(merged_df['_dino_g'].tolist())\n",
    "nasa_features =  np.array(merged_df['_Nasa'].tolist())\n",
    "twopoint_features = np.array(merged_df['_tp'].tolist())\n",
    "combined_array = np.array(merged_df['combined_array'].tolist())"
   ]
  },
  {
   "cell_type": "code",
   "execution_count": null,
   "id": "2m3tYWIgqkUY",
   "metadata": {
    "id": "2m3tYWIgqkUY"
   },
   "outputs": [],
   "source": [
    "clip_vitb16_features_comp = np.concatenate((clip_vitb16_features, combined_array), axis=1)\n",
    "clip_vitb32_features_comp = np.concatenate((clip_vitb32_features, combined_array), axis=1)\n",
    "clip_vitl14_features_comp =  np.concatenate((clip_vitl14_features, combined_array), axis=1)\n",
    "sam_features_comp = np.concatenate((sam_features, combined_array), axis=1)\n",
    "dino_vits_features_comp =  np.concatenate((dino_vits_features, combined_array), axis=1)\n",
    "dino_vitb_features_comp =  np.concatenate((dino_vitb_features, combined_array), axis=1)\n",
    "dino_vitl_features_comp =  np.concatenate((dino_vitl_features, combined_array), axis=1)\n",
    "dino_vitg_features_comp =  np.concatenate((dino_vitg_features, combined_array), axis=1)\n",
    "nasa_features_comp =  np.concatenate((nasa_features, combined_array), axis=1)\n",
    "twopoint_features_comp = np.concatenate((twopoint_features, combined_array), axis=1)"
   ]
  },
  {
   "cell_type": "code",
   "execution_count": null,
   "id": "RFDIaGtiqkfC",
   "metadata": {
    "id": "RFDIaGtiqkfC"
   },
   "outputs": [],
   "source": [
    "y = np.array(merged_df['Vickers Hardness (HV)'].to_list())"
   ]
  },
  {
   "cell_type": "code",
   "execution_count": null,
   "id": "IIp23Vopwo6j",
   "metadata": {
    "colab": {
     "base_uri": "https://localhost:8080/"
    },
    "executionInfo": {
     "elapsed": 594335,
     "status": "ok",
     "timestamp": 1733517152281,
     "user": {
      "displayName": "Sheila Whitman",
      "userId": "11834864190234586210"
     },
     "user_tz": 420
    },
    "id": "IIp23Vopwo6j",
    "outputId": "210cf1d3-5123-402f-c0f5-ceb9564ff2ce"
   },
   "outputs": [],
   "source": [
    "#Running the PR models\n",
    "\n",
    "print ('Just images')\n",
    "\n",
    "print ('CLIP VITB16')\n",
    "clip_vitb16_pr_pc, clip_vitb16_final_mape = nested_pr(clip_vitb16_features, y)\n",
    "\n",
    "print ('CLIP VITB32')\n",
    "clip_vitb32_pr_pc, clip_vitb32_final_mape = nested_pr(clip_vitb32_features, y)\n",
    "\n",
    "print ('CLIP VITL14')\n",
    "clip_vitl14_pr_pc, clip_vitl14_final_mape = nested_pr(clip_vitl14_features, y)\n",
    "\n",
    "print ('Dino VITs')\n",
    "dino_vits_pr_pc, dino_vits_final_mape = nested_pr(dino_vits_features, y)\n",
    "\n",
    "print ('Dino VITb')\n",
    "dino_vitb_pr_pc, dino_vitb_final_mape = nested_pr(dino_vitb_features, y)\n",
    "\n",
    "print ('Dino VITl')\n",
    "dino_vitl_pr_pc, dino_vitl_final_mape = nested_pr(dino_vitl_features, y)\n",
    "\n",
    "print ('Dino VITg')\n",
    "dino_vitg_pr_pc, dino_vitg_final_mape = nested_pr(dino_vitg_features, y)\n",
    "\n",
    "print ('SAM')\n",
    "sam_pr_pc, sam_final_mape = nested_pr(sam_features, y)\n",
    "\n",
    "print ('NASA')\n",
    "nasa_pr_pc, nasa_final_mape = nested_pr(nasa_features, y)\n",
    "\n",
    "\n",
    "print ('Images and Compositions')\n",
    "\n",
    "print ('CLIP VITB16')\n",
    "clip_vitb16_pr_comp_pc, clip_vitb16_final_mape_comp  = nested_pr(clip_vitb16_features_comp, y, scaled = True)\n",
    "\n",
    "print ('CLIP VITB32')\n",
    "clip_vitb32_pr_comp_pc, clip_vitb32_final_mape_comp = nested_pr(clip_vitb32_features_comp, y, scaled = True)\n",
    "\n",
    "print ('CLIP VITL14')\n",
    "clip_vitl14_pr_comp_pc, clip_vitl14_final_mape_comp = nested_pr(clip_vitl14_features_comp, y, scaled = True)\n",
    "\n",
    "print ('Dino VITs')\n",
    "dino_vits_pr_comp_pc, dino_vits_final_mape_comp = nested_pr(dino_vits_features_comp, y, scaled = True)\n",
    "\n",
    "print ('Dino VITb')\n",
    "dino_vitb_pr_comp_pc, dino_vitb_final_mape_comp = nested_pr(dino_vitb_features_comp, y, scaled = True)\n",
    "\n",
    "print ('Dino VITl')\n",
    "dino_vitl_pr_comp_pc, dino_vitl_final_mape_comp = nested_pr(dino_vitl_features_comp, y, scaled = True)\n",
    "\n",
    "print ('Dino VITg')\n",
    "dino_vitg_pr_comp_pc, dino_vitg_final_mape_comp = nested_pr(dino_vitg_features_comp, y, scaled = True)\n",
    "\n",
    "print ('SAM')\n",
    "sam_pr_comp_pc, sam_final_mape_comp = nested_pr(sam_features_comp, y, scaled = True)\n",
    "\n",
    "print ('NASA')\n",
    "nasa_pr_comp_pc, nasa_final_mape_comp = nested_pr(nasa_features_comp, y, scaled = True)\n",
    "\n"
   ]
  },
  {
   "cell_type": "code",
   "execution_count": null,
   "id": "Bdiu5Rxds3qY",
   "metadata": {
    "colab": {
     "base_uri": "https://localhost:8080/"
    },
    "executionInfo": {
     "elapsed": 347933,
     "status": "ok",
     "timestamp": 1733769898878,
     "user": {
      "displayName": "Sheila Whitman",
      "userId": "11834864190234586210"
     },
     "user_tz": 420
    },
    "id": "Bdiu5Rxds3qY",
    "outputId": "abd536ca-76ef-4daf-d8cf-e41fde347c8c"
   },
   "outputs": [],
   "source": [
    "print ('Just images')\n",
    "\n",
    "tp_pr_pc, tp_final_mape = nested_pr(twopoint_features, y)\n",
    "\n",
    "\n",
    "print ('Images and Compositions')\n",
    "\n",
    "tp_pr_comp_pc, tp_final_mape_comp  = nested_pr(twopoint_features_comp, y, scaled = True)"
   ]
  },
  {
   "cell_type": "code",
   "execution_count": null,
   "id": "8nqVQgbuv0Fl",
   "metadata": {
    "colab": {
     "base_uri": "https://localhost:8080/"
    },
    "executionInfo": {
     "elapsed": 163,
     "status": "ok",
     "timestamp": 1733770072729,
     "user": {
      "displayName": "Sheila Whitman",
      "userId": "11834864190234586210"
     },
     "user_tz": 420
    },
    "id": "8nqVQgbuv0Fl",
    "outputId": "9094c71f-c0fb-4262-e15c-770d034cf8a2"
   },
   "outputs": [],
   "source": [
    "print ('Just Images')\n",
    "\n",
    "path = '/content/drive/MyDrive/11_12/Experimental Dataset/12_6_Results/tp_pr_' + str(tp_pr_pc) + '.npy'\n",
    "np.save(path, tp_final_mape)\n",
    "\n",
    "path = '/content/drive/MyDrive/11_12/Experimental Dataset/12_6_Results/tp_pr_comp_' + str(tp_pr_comp_pc) + '.npy'\n",
    "np.save(path, tp_final_mape_comp)"
   ]
  },
  {
   "cell_type": "code",
   "execution_count": null,
   "id": "jm8RnDxCvkHx",
   "metadata": {
    "colab": {
     "base_uri": "https://localhost:8080/"
    },
    "executionInfo": {
     "elapsed": 145,
     "status": "ok",
     "timestamp": 1733519069229,
     "user": {
      "displayName": "Sheila Whitman",
      "userId": "11834864190234586210"
     },
     "user_tz": 420
    },
    "id": "jm8RnDxCvkHx",
    "outputId": "406d0256-676a-4cfc-fa06-f0144a5944c2"
   },
   "outputs": [],
   "source": [
    "print ('Just Images')\n",
    "\n",
    "print ('CLIP VITB16')\n",
    "path = '/content/drive/MyDrive/11_12/Experimental Dataset/12_6_Results/clip_vitb16_pr_' + str(clip_vitb16_pr_pc) + '.npy'\n",
    "np.save(path, clip_vitb16_final_mape)\n",
    "\n",
    "print ('CLIP VITB32')\n",
    "path = '/content/drive/MyDrive/11_12/Experimental Dataset/12_6_Results/clip_vitb32_pr_' + str(clip_vitb32_pr_pc) + '.npy'\n",
    "np.save(path, clip_vitb32_final_mape)\n",
    "\n",
    "print ('CLIP VITL14')\n",
    "path = '/content/drive/MyDrive/11_12/Experimental Dataset/12_6_Results/clip_vitl14_pr_' + str(clip_vitl14_pr_pc) + '.npy'\n",
    "np.save(path, clip_vitl14_final_mape)\n",
    "\n",
    "print ('DINOV2 Small')\n",
    "path = '/content/drive/MyDrive/11_12/Experimental Dataset/12_6_Results/dino_vits_pr_' + str(dino_vits_pr_pc) + '.npy'\n",
    "np.save(path, dino_vits_final_mape)\n",
    "\n",
    "print ('DINOV2 Base')\n",
    "path = '/content/drive/MyDrive/11_12/Experimental Dataset/12_6_Results/dino_vitb_pr_' + str(dino_vitb_pr_pc) + '.npy'\n",
    "np.save(path, dino_vitb_final_mape)\n",
    "\n",
    "print ('DINOV2 Large')\n",
    "path = '/content/drive/MyDrive/11_12/Experimental Dataset/12_6_Results/dino_vitl_pr_' + str(dino_vitl_pr_pc) + '.npy'\n",
    "np.save(path, dino_vitl_final_mape)\n",
    "\n",
    "print ('DINOV2 Giant')\n",
    "path = '/content/drive/MyDrive/11_12/Experimental Dataset/12_6_Results/dino_vitg_pr_' + str(dino_vitg_pr_pc) + '.npy'\n",
    "np.save(path, dino_vitg_final_mape)\n",
    "\n",
    "print ('NASA')\n",
    "path = '/content/drive/MyDrive/11_12/Experimental Dataset/12_6_Results/nasa_pr_' + str(nasa_pr_pc) + '.npy'\n",
    "np.save(path, nasa_final_mape)\n",
    "\n",
    "print ('SAM')\n",
    "path = '/content/drive/MyDrive/11_12/Experimental Dataset/12_6_Results/sam_pr_' + str(sam_pr_pc) + '.npy'\n",
    "np.save(path, sam_final_mape)"
   ]
  },
  {
   "cell_type": "code",
   "execution_count": null,
   "id": "6Aqpvv9syhFO",
   "metadata": {
    "colab": {
     "base_uri": "https://localhost:8080/"
    },
    "executionInfo": {
     "elapsed": 146,
     "status": "ok",
     "timestamp": 1733519190943,
     "user": {
      "displayName": "Sheila Whitman",
      "userId": "11834864190234586210"
     },
     "user_tz": 420
    },
    "id": "6Aqpvv9syhFO",
    "outputId": "f21dfaef-4a75-432a-a3ae-897159d01fab"
   },
   "outputs": [],
   "source": [
    "print ('Just Images')\n",
    "\n",
    "print ('CLIP VITB16')\n",
    "path = '/content/drive/MyDrive/11_12/Experimental Dataset/12_6_Results/clip_vitb16_pr_comp_' + str(clip_vitb16_pr_comp_pc) + '.npy'\n",
    "np.save(path, clip_vitb16_final_mape_comp)\n",
    "\n",
    "print ('CLIP VITB32')\n",
    "path = '/content/drive/MyDrive/11_12/Experimental Dataset/12_6_Results/clip_vitb32_pr_comp_' + str(clip_vitb32_pr_comp_pc) + '.npy'\n",
    "np.save(path, clip_vitb32_final_mape_comp)\n",
    "\n",
    "print ('CLIP VITL14')\n",
    "path = '/content/drive/MyDrive/11_12/Experimental Dataset/12_6_Results/clip_vitl14_pr_comp_' + str(clip_vitl14_pr_comp_pc) + '.npy'\n",
    "np.save(path, clip_vitl14_final_mape_comp)\n",
    "\n",
    "print ('DINOV2 Small')\n",
    "path = '/content/drive/MyDrive/11_12/Experimental Dataset/12_6_Results/dino_vits_pr_comp_' + str(dino_vits_pr_comp_pc) + '.npy'\n",
    "np.save(path, dino_vits_final_mape_comp)\n",
    "\n",
    "print ('DINOV2 Base')\n",
    "path = '/content/drive/MyDrive/11_12/Experimental Dataset/12_6_Results/dino_vitb_pr_comp_' + str(dino_vitb_pr_comp_pc) + '.npy'\n",
    "np.save(path, dino_vitb_final_mape_comp)\n",
    "\n",
    "print ('DINOV2 Large')\n",
    "path = '/content/drive/MyDrive/11_12/Experimental Dataset/12_6_Results/dino_vitl_pr_comp_' + str(dino_vitl_pr_comp_pc) + '.npy'\n",
    "np.save(path, dino_vitl_final_mape_comp)\n",
    "\n",
    "print ('DINOV2 Giant')\n",
    "path = '/content/drive/MyDrive/11_12/Experimental Dataset/12_6_Results/dino_vitg_pr_comp_' + str(dino_vitg_pr_comp_pc) + '.npy'\n",
    "np.save(path, dino_vitg_final_mape_comp)\n",
    "\n",
    "print ('NASA')\n",
    "path = '/content/drive/MyDrive/11_12/Experimental Dataset/12_6_Results/nasa_pr_comp_' + str(nasa_pr_comp_pc) + '.npy'\n",
    "np.save(path, nasa_final_mape_comp)\n",
    "\n",
    "print ('SAM')\n",
    "path = '/content/drive/MyDrive/11_12/Experimental Dataset/12_6_Results/sam_pr_comp_' + str(sam_pr_comp_pc) + '.npy'\n",
    "np.save(path, sam_final_mape_comp)"
   ]
  },
  {
   "cell_type": "code",
   "execution_count": null,
   "id": "bDrN8FDEUZTQ",
   "metadata": {
    "colab": {
     "base_uri": "https://localhost:8080/",
     "height": 1000
    },
    "executionInfo": {
     "elapsed": 2647,
     "status": "ok",
     "timestamp": 1733519196237,
     "user": {
      "displayName": "Sheila Whitman",
      "userId": "11834864190234586210"
     },
     "user_tz": 420
    },
    "id": "bDrN8FDEUZTQ",
    "outputId": "ec027787-5a7b-486d-9e1d-d263e800e44e"
   },
   "outputs": [],
   "source": [
    "pr_results = [clip_vitb16_final_mape,clip_vitb32_final_mape,clip_vitl14_final_mape,dino_vits_final_mape,dino_vitb_final_mape, dino_vitl_final_mape, dino_vitg_final_mape, sam_final_mape,nasa_final_mape]#,tp_pr]\n",
    "pr_results_comps = [clip_vitb16_final_mape_comp,clip_vitb32_final_mape_comp,clip_vitl14_final_mape_comp,dino_vits_final_mape_comp,dino_vitb_final_mape_comp, dino_vitl_final_mape_comp, dino_vitg_final_mape_comp, sam_final_mape_comp,nasa_final_mape_comp]#,tp_pr_comp]\n",
    "\n",
    "Visualization(pr_results)\n",
    "Visualization(pr_results_comps)"
   ]
  },
  {
   "cell_type": "code",
   "execution_count": null,
   "id": "RCk-1bfgnbdO",
   "metadata": {
    "colab": {
     "base_uri": "https://localhost:8080/"
    },
    "executionInfo": {
     "elapsed": 3060543,
     "status": "ok",
     "timestamp": 1733522404688,
     "user": {
      "displayName": "Sheila Whitman",
      "userId": "11834864190234586210"
     },
     "user_tz": 420
    },
    "id": "RCk-1bfgnbdO",
    "outputId": "ab971179-5651-4f67-bee8-de817680cfd0"
   },
   "outputs": [],
   "source": [
    "#Running the LR Models\n",
    "\n",
    "print ('Just images')\n",
    "\n",
    "print ('CLIP VITB16')\n",
    "clip_vitb16_lr_pc, clip_vitb16_lr_mape = nested_lr(clip_vitb16_features, y)\n",
    "\n",
    "print ('CLIP VITB32')\n",
    "clip_vitb32_lr_pc, clip_vitb32_lr_mape = nested_lr(clip_vitb32_features, y)\n",
    "\n",
    "print ('CLIP VITL14')\n",
    "clip_vitl14_lr_pc, clip_vitl14_lr_mape = nested_lr(clip_vitl14_features, y)\n",
    "\n",
    "print ('Dino VITs')\n",
    "dino_vits_lr_pc, dino_vits_lr_mape = nested_lr(dino_vits_features, y)\n",
    "\n",
    "print ('Dino VITb')\n",
    "dino_vitb_lr_pc, dino_vitb_lr_mape = nested_lr(dino_vitb_features, y)\n",
    "\n",
    "print ('Dino VITl')\n",
    "dino_vitl_lr_pc, dino_vitl_lr_mape = nested_lr(dino_vitl_features, y)\n",
    "\n",
    "print ('Dino VITg')\n",
    "dino_vitg_lr_pc, dino_vitg_lr_mape = nested_lr(dino_vitg_features, y)\n",
    "\n",
    "print ('SAM')\n",
    "sam_lr_pc, sam_lr_mape = nested_lr(sam_features, y)\n",
    "\n",
    "print ('NASA')\n",
    "nasa_lr_pc, nasa_lr_mape = nested_lr(nasa_features, y)\n",
    "\n",
    "\n",
    "print ('Images and Compositions')\n",
    "\n",
    "print ('CLIP VITB16')\n",
    "clip_vitb16_lr_comp_pc, clip_vitb16_lr_mape_comp  = nested_lr(clip_vitb16_features_comp, y, scaled = True)\n",
    "\n",
    "print ('CLIP VITB32')\n",
    "clip_vitb32_lr_comp_pc, clip_vitb32_lr_mape_comp = nested_lr(clip_vitb32_features_comp, y, scaled = True)\n",
    "\n",
    "print ('CLIP VITL14')\n",
    "clip_vitl14_lr_comp_pc, clip_vitl14_lr_mape_comp = nested_lr(clip_vitl14_features_comp, y, scaled = True)\n",
    "\n",
    "print ('Dino VITs')\n",
    "dino_vits_lr_comp_pc, dino_vits_lr_mape_comp = nested_lr(dino_vits_features_comp, y, scaled = True)\n",
    "\n",
    "print ('Dino VITb')\n",
    "dino_vitb_lr_comp_pc, dino_vitb_lr_mape_comp = nested_lr(dino_vitb_features_comp, y, scaled = True)\n",
    "\n",
    "print ('Dino VITl')\n",
    "dino_vitl_lr_comp_pc, dino_vitl_lr_mape_comp = nested_lr(dino_vitl_features_comp, y, scaled = True)\n",
    "\n",
    "print ('Dino VITg')\n",
    "dino_vitg_lr_comp_pc, dino_vitg_lr_mape_comp = nested_lr(dino_vitg_features_comp, y, scaled = True)\n",
    "\n",
    "print ('SAM')\n",
    "sam_lr_comp_pc, sam_lr_mape_comp = nested_lr(sam_features_comp, y, scaled = True)\n",
    "\n",
    "print ('NASA')\n",
    "nasa_lr_comp_pc, nasa_lr_mape_comp = nested_lr(nasa_features_comp, y, scaled = True)\n"
   ]
  },
  {
   "cell_type": "code",
   "execution_count": null,
   "id": "ObzzgniowG0t",
   "metadata": {
    "colab": {
     "background_save": true,
     "base_uri": "https://localhost:8080/"
    },
    "id": "ObzzgniowG0t",
    "outputId": "42f22412-0394-4f55-8393-ec1762406841"
   },
   "outputs": [],
   "source": [
    "print ('Just images')\n",
    "\n",
    "tp_lr_pc, tp_lr_mape = nested_lr(twopoint_features, y)\n",
    "\n",
    "\n",
    "print ('Images and Compositions')\n",
    "\n",
    "tp_lr_comp_pc, tp_lr_mape_comp  = nested_lr(twopoint_features_comp, y, scaled = True)"
   ]
  },
  {
   "cell_type": "code",
   "execution_count": null,
   "id": "GDOwREqVJcRR",
   "metadata": {
    "colab": {
     "base_uri": "https://localhost:8080/"
    },
    "executionInfo": {
     "elapsed": 120,
     "status": "ok",
     "timestamp": 1733776783699,
     "user": {
      "displayName": "Sheila Whitman",
      "userId": "11834864190234586210"
     },
     "user_tz": 420
    },
    "id": "GDOwREqVJcRR",
    "outputId": "ff8deec3-b396-413a-e814-d49ca29eca63"
   },
   "outputs": [],
   "source": [
    "print ('Just Images')\n",
    "\n",
    "path = '/content/drive/MyDrive/11_12/Experimental Dataset/12_6_Results/tp_lr_' + str(tp_lr_pc) + '.npy'\n",
    "np.save(path, tp_lr_mape)\n",
    "\n",
    "path = '/content/drive/MyDrive/11_12/Experimental Dataset/12_6_Results/tp_lr_comp_' + str(tp_lr_comp_pc) + '.npy'\n",
    "np.save(path, tp_lr_mape_comp)"
   ]
  },
  {
   "cell_type": "code",
   "execution_count": null,
   "id": "Qzavn1XVAw9U",
   "metadata": {
    "colab": {
     "base_uri": "https://localhost:8080/"
    },
    "executionInfo": {
     "elapsed": 325,
     "status": "ok",
     "timestamp": 1733522907071,
     "user": {
      "displayName": "Sheila Whitman",
      "userId": "11834864190234586210"
     },
     "user_tz": 420
    },
    "id": "Qzavn1XVAw9U",
    "outputId": "cd9f9ee3-4745-4900-dab6-ad35ff6a9199"
   },
   "outputs": [],
   "source": [
    "print ('Just Images')\n",
    "\n",
    "print ('CLIP VITB16')\n",
    "path = '/content/drive/MyDrive/11_12/Experimental Dataset/12_6_Results/clip_vitb16_lr_' + str(clip_vitb16_lr_pc) + '.npy'\n",
    "np.save(path, clip_vitb16_lr_mape)\n",
    "\n",
    "print ('CLIP VITB32')\n",
    "path = '/content/drive/MyDrive/11_12/Experimental Dataset/12_6_Results/clip_vitb32_lr_' + str(clip_vitb32_lr_pc) + '.npy'\n",
    "np.save(path, clip_vitb32_lr_mape)\n",
    "\n",
    "print ('CLIP VITL14')\n",
    "path = '/content/drive/MyDrive/11_12/Experimental Dataset/12_6_Results/clip_vitl14_lr_' + str(clip_vitl14_lr_pc) + '.npy'\n",
    "np.save(path, clip_vitl14_lr_mape)\n",
    "\n",
    "print ('DINOV2 Small')\n",
    "path = '/content/drive/MyDrive/11_12/Experimental Dataset/12_6_Results/dino_vits_lr_' + str(dino_vits_lr_pc) + '.npy'\n",
    "np.save(path, dino_vits_lr_mape)\n",
    "\n",
    "print ('DINOV2 Base')\n",
    "path = '/content/drive/MyDrive/11_12/Experimental Dataset/12_6_Results/dino_vitb_lr_' + str(dino_vitb_lr_pc) + '.npy'\n",
    "np.save(path, dino_vitb_lr_mape)\n",
    "\n",
    "print ('DINOV2 Large')\n",
    "path = '/content/drive/MyDrive/11_12/Experimental Dataset/12_6_Results/dino_vitl_lr_' + str(dino_vitl_lr_pc) + '.npy'\n",
    "np.save(path, dino_vitl_lr_mape)\n",
    "\n",
    "print ('DINOV2 Giant')\n",
    "path = '/content/drive/MyDrive/11_12/Experimental Dataset/12_6_Results/dino_vitg_lr_' + str(dino_vitg_lr_pc) + '.npy'\n",
    "np.save(path, dino_vitg_lr_mape)\n",
    "\n",
    "print ('NASA')\n",
    "path = '/content/drive/MyDrive/11_12/Experimental Dataset/12_6_Results/nasa_lr_' + str(nasa_lr_pc) + '.npy'\n",
    "np.save(path, nasa_lr_mape)\n",
    "\n",
    "print ('SAM')\n",
    "path = '/content/drive/MyDrive/11_12/Experimental Dataset/12_6_Results/sam_lr_' + str(sam_lr_pc) + '.npy'\n",
    "np.save(path, sam_lr_mape)"
   ]
  },
  {
   "cell_type": "code",
   "execution_count": null,
   "id": "VL2C7pqUBLUg",
   "metadata": {
    "colab": {
     "base_uri": "https://localhost:8080/"
    },
    "executionInfo": {
     "elapsed": 324,
     "status": "ok",
     "timestamp": 1733523068541,
     "user": {
      "displayName": "Sheila Whitman",
      "userId": "11834864190234586210"
     },
     "user_tz": 420
    },
    "id": "VL2C7pqUBLUg",
    "outputId": "2cac9ef6-bb7c-47b1-9870-a90810f9e26c"
   },
   "outputs": [],
   "source": [
    "print ('Just Images')\n",
    "\n",
    "print ('CLIP VITB16')\n",
    "path = '/content/drive/MyDrive/11_12/Experimental Dataset/12_6_Results/clip_vitb16_lr_comp_' + str(clip_vitb16_lr_comp_pc) + '.npy'\n",
    "np.save(path, clip_vitb16_lr_mape_comp)\n",
    "\n",
    "print ('CLIP VITB32')\n",
    "path = '/content/drive/MyDrive/11_12/Experimental Dataset/12_6_Results/clip_vitb32_lr_comp_' + str(clip_vitb32_lr_comp_pc) + '.npy'\n",
    "np.save(path, clip_vitb32_lr_mape_comp)\n",
    "\n",
    "print ('CLIP VITL14')\n",
    "path = '/content/drive/MyDrive/11_12/Experimental Dataset/12_6_Results/clip_vitl14_lr_comp_' + str(clip_vitl14_lr_comp_pc) + '.npy'\n",
    "np.save(path, clip_vitl14_lr_mape_comp)\n",
    "\n",
    "print ('DINOV2 Small')\n",
    "path = '/content/drive/MyDrive/11_12/Experimental Dataset/12_6_Results/dino_vits_lr_comp_' + str(dino_vits_lr_comp_pc) + '.npy'\n",
    "np.save(path, dino_vits_lr_mape_comp)\n",
    "\n",
    "print ('DINOV2 Base')\n",
    "path = '/content/drive/MyDrive/11_12/Experimental Dataset/12_6_Results/dino_vitb_lr_comp_' + str(dino_vitb_lr_comp_pc) + '.npy'\n",
    "np.save(path, dino_vitb_lr_mape_comp)\n",
    "\n",
    "print ('DINOV2 Large')\n",
    "path = '/content/drive/MyDrive/11_12/Experimental Dataset/12_6_Results/dino_vitl_lr_comp_' + str(dino_vitl_lr_comp_pc) + '.npy'\n",
    "np.save(path, dino_vitl_lr_mape_comp)\n",
    "\n",
    "print ('DINOV2 Giant')\n",
    "path = '/content/drive/MyDrive/11_12/Experimental Dataset/12_6_Results/dino_vitg_lr_comp_' + str(dino_vitg_lr_comp_pc) + '.npy'\n",
    "np.save(path, dino_vitg_lr_mape_comp)\n",
    "\n",
    "print ('NASA')\n",
    "path = '/content/drive/MyDrive/11_12/Experimental Dataset/12_6_Results/nasa_lr_comp_' + str(nasa_lr_comp_pc) + '.npy'\n",
    "np.save(path, nasa_lr_mape_comp)\n",
    "\n",
    "print ('SAM')\n",
    "path = '/content/drive/MyDrive/11_12/Experimental Dataset/12_6_Results/sam_lr_comp_' + str(sam_lr_comp_pc) + '.npy'\n",
    "np.save(path, sam_lr_mape_comp)"
   ]
  },
  {
   "cell_type": "code",
   "execution_count": null,
   "id": "V85HaRIunbl4",
   "metadata": {
    "colab": {
     "base_uri": "https://localhost:8080/",
     "height": 1000
    },
    "executionInfo": {
     "elapsed": 2733,
     "status": "ok",
     "timestamp": 1733523147273,
     "user": {
      "displayName": "Sheila Whitman",
      "userId": "11834864190234586210"
     },
     "user_tz": 420
    },
    "id": "V85HaRIunbl4",
    "outputId": "1a71b10a-0844-41af-c579-b9dcfec77cbc"
   },
   "outputs": [],
   "source": [
    "lr_results = [clip_vitb16_lr_mape,clip_vitb32_lr_mape,clip_vitl14_lr_mape,dino_vits_lr_mape,dino_vitb_lr_mape, dino_vitl_lr_mape, dino_vitg_lr_mape, sam_lr_mape,nasa_lr_mape]#,tp_lr]\n",
    "lr_results_comps = [clip_vitb16_lr_mape_comp,clip_vitb32_lr_mape_comp,clip_vitl14_lr_mape_comp,dino_vits_lr_mape_comp,dino_vitb_lr_mape_comp, dino_vitl_lr_mape_comp, dino_vitg_lr_mape_comp, sam_lr_mape_comp,nasa_lr_mape_comp]#,tp_lr_comp]\n",
    "\n",
    "Visualization(lr_results)\n",
    "Visualization(lr_results_comps)"
   ]
  },
  {
   "cell_type": "code",
   "execution_count": null,
   "id": "uif-lPcWE7P-",
   "metadata": {
    "colab": {
     "base_uri": "https://localhost:8080/"
    },
    "executionInfo": {
     "elapsed": 5467455,
     "status": "ok",
     "timestamp": 1733529514782,
     "user": {
      "displayName": "Sheila Whitman",
      "userId": "11834864190234586210"
     },
     "user_tz": 420
    },
    "id": "uif-lPcWE7P-",
    "outputId": "425c2cf5-3e69-49a5-8d67-4f68fcb52c23"
   },
   "outputs": [],
   "source": [
    "#Running the SVR Models\n",
    "\n",
    "print ('Just images')\n",
    "\n",
    "print ('CLIP VITB16')\n",
    "clip_vitb16_svr_pc, clip_vitb16_svr_mape = nested_svr(clip_vitb16_features, y)\n",
    "\n",
    "print ('CLIP VITB32')\n",
    "clip_vitb32_svr_pc, clip_vitb32_svr_mape = nested_svr(clip_vitb32_features, y)\n",
    "\n",
    "print ('CLIP VITL14')\n",
    "clip_vitl14_svr_pc, clip_vitl14_svr_mape = nested_svr(clip_vitl14_features, y)\n",
    "\n",
    "print ('Dino VITs')\n",
    "dino_vits_svr_pc, dino_vits_svr_mape = nested_svr(dino_vits_features, y)\n",
    "\n",
    "print ('Dino VITb')\n",
    "dino_vitb_svr_pc, dino_vitb_svr_mape = nested_svr(dino_vitb_features, y)\n",
    "\n",
    "print ('Dino VITl')\n",
    "dino_vitl_svr_pc, dino_vitl_svr_mape = nested_svr(dino_vitl_features, y)\n",
    "\n",
    "print ('Dino VITg')\n",
    "dino_vitg_svr_pc, dino_vitg_svr_mape = nested_svr(dino_vitg_features, y)\n",
    "\n",
    "print ('SAM')\n",
    "sam_svr_pc, sam_svr_mape = nested_svr(sam_features, y)\n",
    "\n",
    "print ('NASA')\n",
    "nasa_svr_pc, nasa_svr_mape = nested_svr(nasa_features, y)\n",
    "\n",
    "\n",
    "print ('Images and Compositions')\n",
    "\n",
    "print ('CLIP VITB16')\n",
    "clip_vitb16_svr_comp_pc, clip_vitb16_svr_mape_comp  = nested_svr(clip_vitb16_features_comp, y, scaled = True)\n",
    "\n",
    "print ('CLIP VITB32')\n",
    "clip_vitb32_svr_comp_pc, clip_vitb32_svr_mape_comp = nested_svr(clip_vitb32_features_comp, y, scaled = True)\n",
    "\n",
    "print ('CLIP VITL14')\n",
    "clip_vitl14_svr_comp_pc, clip_vitl14_svr_mape_comp = nested_svr(clip_vitl14_features_comp, y, scaled = True)\n",
    "\n",
    "print ('Dino VITs')\n",
    "dino_vits_svr_comp_pc, dino_vits_svr_mape_comp = nested_svr(dino_vits_features_comp, y, scaled = True)\n",
    "\n",
    "print ('Dino VITb')\n",
    "dino_vitb_svr_comp_pc, dino_vitb_svr_mape_comp = nested_svr(dino_vitb_features_comp, y, scaled = True)\n",
    "\n",
    "print ('Dino VITl')\n",
    "dino_vitl_svr_comp_pc, dino_vitl_svr_mape_comp = nested_svr(dino_vitl_features_comp, y, scaled = True)\n",
    "\n",
    "print ('Dino VITg')\n",
    "dino_vitg_svr_comp_pc, dino_vitg_svr_mape_comp = nested_svr(dino_vitg_features_comp, y, scaled = True)\n",
    "\n",
    "print ('SAM')\n",
    "sam_svr_comp_pc, sam_svr_mape_comp = nested_svr(sam_features_comp, y, scaled = True)\n",
    "\n",
    "print ('NASA')\n",
    "nasa_svr_comp_pc, nasa_svr_mape_comp = nested_svr(nasa_features_comp, y, scaled = True)\n"
   ]
  },
  {
   "cell_type": "code",
   "execution_count": null,
   "id": "BLv8kb-4JoCK",
   "metadata": {
    "colab": {
     "base_uri": "https://localhost:8080/"
    },
    "executionInfo": {
     "elapsed": 4003496,
     "status": "ok",
     "timestamp": 1733780822591,
     "user": {
      "displayName": "Sheila Whitman",
      "userId": "11834864190234586210"
     },
     "user_tz": 420
    },
    "id": "BLv8kb-4JoCK",
    "outputId": "d37fcf19-b66c-4dfd-dd24-0c4923a149b7"
   },
   "outputs": [],
   "source": [
    "print ('Just images')\n",
    "\n",
    "tp_svr_pc, tp_svr_mape = nested_svr(twopoint_features, y)\n",
    "\n",
    "\n",
    "print ('Images and Compositions')\n",
    "\n",
    "tp_svr_comp_pc, tp_svr_mape_comp  = nested_svr(twopoint_features_comp, y, scaled = True)"
   ]
  },
  {
   "cell_type": "code",
   "execution_count": null,
   "id": "StRHoIGNQ0rT",
   "metadata": {
    "id": "StRHoIGNQ0rT"
   },
   "outputs": [],
   "source": [
    "print ('Just Images')\n",
    "\n",
    "path = '/content/drive/MyDrive/11_12/Experimental Dataset/12_6_Results/tp_svr_' + str(tp_svr_pc) + '.npy'\n",
    "np.save(path, tp_svr_mape)\n",
    "\n",
    "path = '/content/drive/MyDrive/11_12/Experimental Dataset/12_6_Results/tp_svr_comp_' + str(tp_svr_comp_pc) + '.npy'\n",
    "np.save(path, tp_svr_mape_comp)"
   ]
  },
  {
   "cell_type": "code",
   "execution_count": null,
   "id": "quBozWD-kj4x",
   "metadata": {
    "colab": {
     "base_uri": "https://localhost:8080/"
    },
    "executionInfo": {
     "elapsed": 160,
     "status": "ok",
     "timestamp": 1733532282964,
     "user": {
      "displayName": "Sheila Whitman",
      "userId": "11834864190234586210"
     },
     "user_tz": 420
    },
    "id": "quBozWD-kj4x",
    "outputId": "e682c461-e811-44a6-8aec-6532f1c33a65"
   },
   "outputs": [],
   "source": [
    "print ('Just Images')\n",
    "\n",
    "print ('CLIP VITB16')\n",
    "path = '/content/drive/MyDrive/11_12/Experimental Dataset/12_6_Results/clip_vitb16_svr_' + str(clip_vitb16_svr_pc) + '.npy'\n",
    "np.save(path, clip_vitb16_svr_mape)\n",
    "\n",
    "print ('CLIP VITB32')\n",
    "path = '/content/drive/MyDrive/11_12/Experimental Dataset/12_6_Results/clip_vitb32_svr_' + str(clip_vitb32_svr_pc) + '.npy'\n",
    "np.save(path, clip_vitb32_svr_mape)\n",
    "\n",
    "print ('CLIP VITL14')\n",
    "path = '/content/drive/MyDrive/11_12/Experimental Dataset/12_6_Results/clip_vitl14_svr_' + str(clip_vitl14_svr_pc) + '.npy'\n",
    "np.save(path, clip_vitl14_svr_mape)\n",
    "\n",
    "print ('DINOV2 Small')\n",
    "path = '/content/drive/MyDrive/11_12/Experimental Dataset/12_6_Results/dino_vits_svr_' + str(dino_vits_svr_pc) + '.npy'\n",
    "np.save(path, dino_vits_svr_mape)\n",
    "\n",
    "print ('DINOV2 Base')\n",
    "path = '/content/drive/MyDrive/11_12/Experimental Dataset/12_6_Results/dino_vitb_svr_' + str(dino_vitb_svr_pc) + '.npy'\n",
    "np.save(path, dino_vitb_svr_mape)\n",
    "\n",
    "print ('DINOV2 Large')\n",
    "path = '/content/drive/MyDrive/11_12/Experimental Dataset/12_6_Results/dino_vitl_svr_' + str(dino_vitl_svr_pc) + '.npy'\n",
    "np.save(path, dino_vitl_svr_mape)\n",
    "\n",
    "print ('DINOV2 Giant')\n",
    "path = '/content/drive/MyDrive/11_12/Experimental Dataset/12_6_Results/dino_vitg_svr_' + str(dino_vitg_svr_pc) + '.npy'\n",
    "np.save(path, dino_vitg_svr_mape)\n",
    "\n",
    "print ('NASA')\n",
    "path = '/content/drive/MyDrive/11_12/Experimental Dataset/12_6_Results/nasa_svr_' + str(nasa_svr_pc) + '.npy'\n",
    "np.save(path, nasa_svr_mape)\n",
    "\n",
    "print ('SAM')\n",
    "path = '/content/drive/MyDrive/11_12/Experimental Dataset/12_6_Results/sam_svr_' + str(sam_svr_pc) + '.npy'\n",
    "np.save(path, sam_svr_mape)"
   ]
  },
  {
   "cell_type": "code",
   "execution_count": null,
   "id": "9987R52Sk5_G",
   "metadata": {
    "colab": {
     "base_uri": "https://localhost:8080/"
    },
    "executionInfo": {
     "elapsed": 151,
     "status": "ok",
     "timestamp": 1733532365742,
     "user": {
      "displayName": "Sheila Whitman",
      "userId": "11834864190234586210"
     },
     "user_tz": 420
    },
    "id": "9987R52Sk5_G",
    "outputId": "01ed99af-1605-462f-c0a8-494ee619704a"
   },
   "outputs": [],
   "source": [
    "print ('Just Images')\n",
    "\n",
    "print ('CLIP VITB16')\n",
    "path = '/content/drive/MyDrive/11_12/Experimental Dataset/12_6_Results/clip_vitb16_svr_comp_' + str(clip_vitb16_svr_comp_pc) + '.npy'\n",
    "np.save(path, clip_vitb16_svr_mape_comp)\n",
    "\n",
    "print ('CLIP VITB32')\n",
    "path = '/content/drive/MyDrive/11_12/Experimental Dataset/12_6_Results/clip_vitb32_svr_comp_' + str(clip_vitb32_svr_comp_pc) + '.npy'\n",
    "np.save(path, clip_vitb32_svr_mape_comp)\n",
    "\n",
    "print ('CLIP VITL14')\n",
    "path = '/content/drive/MyDrive/11_12/Experimental Dataset/12_6_Results/clip_vitl14_svr_comp_' + str(clip_vitl14_svr_comp_pc) + '.npy'\n",
    "np.save(path, clip_vitl14_svr_mape_comp)\n",
    "\n",
    "print ('DINOV2 Small')\n",
    "path = '/content/drive/MyDrive/11_12/Experimental Dataset/12_6_Results/dino_vits_svr_comp_' + str(dino_vits_svr_comp_pc) + '.npy'\n",
    "np.save(path, dino_vits_svr_mape_comp)\n",
    "\n",
    "print ('DINOV2 Base')\n",
    "path = '/content/drive/MyDrive/11_12/Experimental Dataset/12_6_Results/dino_vitb_svr_comp_' + str(dino_vitb_svr_comp_pc) + '.npy'\n",
    "np.save(path, dino_vitb_svr_mape_comp)\n",
    "\n",
    "print ('DINOV2 Large')\n",
    "path = '/content/drive/MyDrive/11_12/Experimental Dataset/12_6_Results/dino_vitl_svr_comp_' + str(dino_vitl_svr_comp_pc) + '.npy'\n",
    "np.save(path, dino_vitl_svr_mape_comp)\n",
    "\n",
    "print ('DINOV2 Giant')\n",
    "path = '/content/drive/MyDrive/11_12/Experimental Dataset/12_6_Results/dino_vitg_svr_comp_' + str(dino_vitg_svr_comp_pc) + '.npy'\n",
    "np.save(path, dino_vitg_svr_mape_comp)\n",
    "\n",
    "print ('NASA')\n",
    "path = '/content/drive/MyDrive/11_12/Experimental Dataset/12_6_Results/nasa_svr_comp_' + str(nasa_svr_comp_pc) + '.npy'\n",
    "np.save(path, nasa_svr_mape_comp)\n",
    "\n",
    "print ('SAM')\n",
    "path = '/content/drive/MyDrive/11_12/Experimental Dataset/12_6_Results/sam_svr_comp_' + str(sam_svr_comp_pc) + '.npy'\n",
    "np.save(path, sam_svr_mape_comp)"
   ]
  },
  {
   "cell_type": "code",
   "execution_count": null,
   "id": "31uYto3RvgRX",
   "metadata": {
    "colab": {
     "base_uri": "https://localhost:8080/",
     "height": 1000
    },
    "executionInfo": {
     "elapsed": 1046,
     "status": "ok",
     "timestamp": 1733532435522,
     "user": {
      "displayName": "Sheila Whitman",
      "userId": "11834864190234586210"
     },
     "user_tz": 420
    },
    "id": "31uYto3RvgRX",
    "outputId": "52c17623-35a5-4b43-ef93-3697994f1935"
   },
   "outputs": [],
   "source": [
    "svr_results = [clip_vitb16_svr_mape,clip_vitb32_svr_mape,clip_vitl14_svr_mape,dino_vits_svr_mape,dino_vitb_svr_mape, dino_vitl_svr_mape, dino_vitg_svr_mape, sam_lr_mape,nasa_svr_mape]#, tp_svr]\n",
    "svr_results_comps = [clip_vitb16_svr_mape_comp,clip_vitb32_svr_mape_comp,clip_vitl14_svr_mape_comp,dino_vits_svr_mape_comp,dino_vitb_svr_mape_comp, dino_vitl_svr_mape_comp, dino_vitg_svr_mape_comp, sam_svr_mape_comp,nasa_svr_mape_comp]#, tp_svr_comp]\n",
    "\n",
    "Visualization(svr_results)\n",
    "Visualization(svr_results_comps)"
   ]
  },
  {
   "cell_type": "code",
   "execution_count": null,
   "id": "I317PN5UGRmn",
   "metadata": {
    "id": "I317PN5UGRmn"
   },
   "outputs": [],
   "source": [
    "x_0_dino_large, x_test_dino_large, y_0_dino_large, y_test_dino_large = train_test_split(dino_vitl_features,y,test_size=0.1,random_state=2)\n",
    "x_0_dino_large_comp, x_test_dino_large_comp, y_0_dino_large_comp, y_test_dino_large_comp = train_test_split(dino_vitl_features_comp,y,test_size=0.1,random_state=2)"
   ]
  },
  {
   "cell_type": "code",
   "execution_count": null,
   "id": "YHYZgCjQGp93",
   "metadata": {
    "colab": {
     "base_uri": "https://localhost:8080/",
     "height": 584
    },
    "executionInfo": {
     "elapsed": 1470,
     "status": "ok",
     "timestamp": 1734477481385,
     "user": {
      "displayName": "Sheila Whitman",
      "userId": "11834864190234586210"
     },
     "user_tz": 420
    },
    "id": "YHYZgCjQGp93",
    "outputId": "e1f7fccc-21d7-42e9-85f2-b713c02a038b"
   },
   "outputs": [],
   "source": [
    "run_svr(x_0_dino_large, y_0_dino_large,  x_test_dino_large, y_test_dino_large ,34)"
   ]
  },
  {
   "cell_type": "code",
   "execution_count": null,
   "id": "-_6axi25Hg2s",
   "metadata": {
    "colab": {
     "base_uri": "https://localhost:8080/",
     "height": 584
    },
    "executionInfo": {
     "elapsed": 1435,
     "status": "ok",
     "timestamp": 1734477487712,
     "user": {
      "displayName": "Sheila Whitman",
      "userId": "11834864190234586210"
     },
     "user_tz": 420
    },
    "id": "-_6axi25Hg2s",
    "outputId": "03c49342-9c90-4030-cb92-055b83142385"
   },
   "outputs": [],
   "source": [
    "run_svr(x_0_dino_large_comp, y_0_dino_large_comp,  x_test_dino_large_comp, y_test_dino_large_comp ,49)"
   ]
  }
 ],
 "metadata": {
  "colab": {
   "provenance": []
  },
  "kernelspec": {
   "display_name": "Python 3",
   "name": "python3"
  },
  "language_info": {
   "codemirror_mode": {
    "name": "ipython",
    "version": 3
   },
   "file_extension": ".py",
   "mimetype": "text/x-python",
   "name": "python",
   "nbconvert_exporter": "python",
   "pygments_lexer": "ipython3",
   "version": "3.12.2"
  }
 },
 "nbformat": 4,
 "nbformat_minor": 5
}
