{
 "cells": [
  {
   "cell_type": "code",
   "execution_count": 35,
   "id": "8019a6a1-cf41-46c4-8080-50391848c75e",
   "metadata": {
    "executionInfo": {
     "elapsed": 194,
     "status": "ok",
     "timestamp": 1734464832417,
     "user": {
      "displayName": "Sheila Whitman",
      "userId": "11834864190234586210"
     },
     "user_tz": 420
    },
    "id": "8019a6a1-cf41-46c4-8080-50391848c75e"
   },
   "outputs": [],
   "source": [
    "#IMPORTS\n",
    "import numpy as np\n",
    "import scipy.io as sio\n",
    "import matplotlib.pyplot as plt\n",
    "import torch\n",
    "from torchvision import transforms\n",
    "from PIL import Image\n",
    "import os\n",
    "import pandas as pd\n",
    "import math\n",
    "import matplotlib.cm as cm\n",
    "\n",
    "from numpy import mean\n",
    "from numpy import std\n",
    "from numpy import absolute\n",
    "\n",
    "from sklearn.model_selection import train_test_split, LeaveOneOut, cross_val_score, KFold, GridSearchCV\n",
    "from sklearn.decomposition import PCA\n",
    "from sklearn.linear_model import LinearRegression\n",
    "from sklearn.preprocessing import PolynomialFeatures\n",
    "from sklearn.metrics import make_scorer,r2_score\n",
    "from sklearn.svm import SVR\n",
    "from sklearn.pipeline import Pipeline\n",
    "from sklearn.preprocessing import StandardScaler, MinMaxScaler\n",
    "import seaborn as sns\n",
    "from sklearn.metrics import mean_absolute_percentage_error\n",
    "\n",
    "\n",
    "def Visualization(results, save = False, filename = \"\", min = 0, max = 50,name = \"\", names = []):\n",
    "    if names == []:\n",
    "      names = ['clip_vitb16', 'clip_vitb32', 'clip_vitl14', 'dino_vits', 'dino_vitb', 'dino_vitl', 'dino_vitg', 'sam', 'nasa', 'twopoint']\n",
    "    medians = np.median(results,axis = 1)\n",
    "\n",
    "    plt.figure(figsize=(10, 5))\n",
    "\n",
    "    ax = sns.boxplot(data = results)\n",
    "\n",
    "    for xtick in ax.get_xticks():\n",
    "        ax.text(xtick, medians[xtick], f'{medians[xtick]:.2f}',\n",
    "                    horizontalalignment='center', size='small', color='black')\n",
    "\n",
    "\n",
    "    ax.set_xticklabels(names)\n",
    "    ax.set_xlabel('Model')\n",
    "    ax.set_ylabel('MAPE')\n",
    "    ax.set_title(name)\n",
    "    ax.set_ylim(min,max)\n",
    "\n",
    "    plt.tight_layout()\n",
    "    if save == True:\n",
    "        plt.savefig(filename, dpi=300)\n",
    "    plt.show()\n",
    "\n",
    "import matplotlib.pyplot as plt\n",
    "import numpy as np\n",
    "import matplotlib.cm as cm\n",
    "\n",
    "def Visualize_Mean(results, save=False, filename=\"\", min=0, max=50, Name=\"\", names=[]):\n",
    "    if names == []:\n",
    "        names = ['clip_vitb16', 'clip_vitb32', 'clip_vitl14',\n",
    "                 'dino_vits', 'dino_vitb', 'dino_vitl',\n",
    "                 'dino_vitg', 'sam', 'nasa', 'twopoint']\n",
    "\n",
    "    # Calculate mean and standard deviation\n",
    "    means = np.mean(results, axis=1)\n",
    "    std_devs = np.std(results, axis=1)\n",
    "\n",
    "    # Generate unique colors for markers\n",
    "    colors = cm.tab10(np.linspace(0, 1, len(names)))\n",
    "\n",
    "    plt.figure(figsize=(5,10))\n",
    "\n",
    "    # Plot error bars and colored circles\n",
    "    for i, (name, mean, std_dev) in enumerate(zip(names, means, std_devs)):\n",
    "        plt.errorbar(x=mean, y=i, xerr=std_dev, fmt='o', capsize=10,\n",
    "                     ecolor='black', color = colors[i], elinewidth=1, markersize=10)\n",
    "\n",
    "        plt.text(mean, i + 0.5, f'{mean:.2f}', verticalalignment='top',\n",
    "                 horizontalalignment='center', size='medium', color='black')\n",
    "\n",
    "\n",
    "    # Add labels, title, and customize x-axis ticks\n",
    "    plt.yticks(ticks=range(len(names)), labels=names)  # Set names and rotate labels\n",
    "    plt.xlabel('MAPE')\n",
    "    plt.ylabel('Model')\n",
    "    plt.title(Name)\n",
    "    plt.xlim(min, max)\n",
    "\n",
    "    # Adjust layout and save/show the plot\n",
    "    plt.tight_layout()\n",
    "    if save:\n",
    "        plt.savefig(filename, dpi=300)\n",
    "    plt.show()"
   ]
  },
  {
   "cell_type": "code",
   "execution_count": 3,
   "id": "4yC56qLWP2UK",
   "metadata": {
    "executionInfo": {
     "elapsed": 8625,
     "status": "ok",
     "timestamp": 1734458942979,
     "user": {
      "displayName": "Sheila Whitman",
      "userId": "11834864190234586210"
     },
     "user_tz": 420
    },
    "id": "4yC56qLWP2UK"
   },
   "outputs": [],
   "source": [
    "#Just Images\n",
    "clip_vitb16_final_mape = np.load('/content/drive/MyDrive/11_12/Experimental Dataset/12_6_Results/clip_vitb16_pr_4.npy')\n",
    "clip_vitb32_final_mape = np.load('/content/drive/MyDrive/11_12/Experimental Dataset/12_6_Results/clip_vitb32_pr_5.npy')\n",
    "clip_vitl14_final_mape = np.load('/content/drive/MyDrive/11_12/Experimental Dataset/12_6_Results/clip_vitl14_pr_5.npy')\n",
    "dino_vits_final_mape = np.load('/content/drive/MyDrive/11_12/Experimental Dataset/12_6_Results/dino_vits_pr_4.npy')\n",
    "dino_vitb_final_mape = np.load('/content/drive/MyDrive/11_12/Experimental Dataset/12_6_Results/dino_vitb_pr_3.npy')\n",
    "dino_vitl_final_mape = np.load('/content/drive/MyDrive/11_12/Experimental Dataset/12_6_Results/dino_vitl_pr_2.npy')\n",
    "dino_vitg_final_mape = np.load('/content/drive/MyDrive/11_12/Experimental Dataset/12_6_Results/dino_vitg_pr_4.npy')\n",
    "sam_final_mape = np.load('/content/drive/MyDrive/11_12/Experimental Dataset/12_6_Results/sam_pr_4.npy')\n",
    "nasa_final_mape = np.load('/content/drive/MyDrive/11_12/Experimental Dataset/12_6_Results/nasa_pr_2.npy')\n",
    "tp_final_mape = np.load('/content/drive/MyDrive/11_12/Experimental Dataset/12_6_Results/tp_pr_1.npy')\n",
    "\n",
    "#Images + Compositions\n",
    "clip_vitb16_final_mape_comp = np.load('/content/drive/MyDrive/11_12/Experimental Dataset/12_6_Results/clip_vitb16_pr_comp_5.npy')\n",
    "clip_vitb32_final_mape_comp = np.load('/content/drive/MyDrive/11_12/Experimental Dataset/12_6_Results/clip_vitb32_pr_comp_5.npy')\n",
    "clip_vitl14_final_mape_comp = np.load('/content/drive/MyDrive/11_12/Experimental Dataset/12_6_Results/clip_vitl14_pr_comp_5.npy')\n",
    "dino_vits_final_mape_comp = np.load('/content/drive/MyDrive/11_12/Experimental Dataset/12_6_Results/dino_vits_pr_comp_3.npy')\n",
    "dino_vitb_final_mape_comp = np.load('/content/drive/MyDrive/11_12/Experimental Dataset/12_6_Results/dino_vitb_pr_comp_2.npy')\n",
    "dino_vitl_final_mape_comp = np.load('/content/drive/MyDrive/11_12/Experimental Dataset/12_6_Results/dino_vitl_pr_comp_2.npy')\n",
    "dino_vitg_final_mape_comp = np.load('/content/drive/MyDrive/11_12/Experimental Dataset/12_6_Results/dino_vitg_pr_comp_4.npy')\n",
    "sam_final_mape_comp = np.load('/content/drive/MyDrive/11_12/Experimental Dataset/12_6_Results/sam_pr_comp_4.npy')\n",
    "nasa_final_mape_comp = np.load('/content/drive/MyDrive/11_12/Experimental Dataset/12_6_Results/nasa_pr_comp_2.npy')\n",
    "tp_final_mape_comp = np.load('/content/drive/MyDrive/11_12/Experimental Dataset/12_6_Results/tp_pr_comp_1.npy')"
   ]
  },
  {
   "cell_type": "code",
   "execution_count": null,
   "id": "rd6nl8hjd_rn",
   "metadata": {
    "colab": {
     "base_uri": "https://localhost:8080/"
    },
    "executionInfo": {
     "elapsed": 159,
     "status": "ok",
     "timestamp": 1734302492581,
     "user": {
      "displayName": "Sheila Whitman",
      "userId": "11834864190234586210"
     },
     "user_tz": 420
    },
    "id": "rd6nl8hjd_rn",
    "outputId": "2984de95-0a7c-4ae8-ac54-a58775d8ed1e"
   },
   "outputs": [],
   "source": [
    "print (\"Just Images\")\n",
    "print(\"CLIP VitB16\",mean(clip_vitb16_final_mape))\n",
    "print(\"CLIP VitB32\",mean(clip_vitb32_final_mape))\n",
    "print(\"CLIP VitL14\",mean(clip_vitl14_final_mape))\n",
    "print(\"DINO Vits\",mean(dino_vits_final_mape))\n",
    "print(\"DINO VitB\",mean(dino_vitb_final_mape))\n",
    "print(\"DINO VitL\",mean(dino_vitl_final_mape))\n",
    "print(\"DINO VitG\",mean(dino_vitg_final_mape))\n",
    "print(\"SAM\",mean(sam_final_mape))\n",
    "print(\"NASA\",mean(nasa_final_mape))\n",
    "print(\"Two Point\",mean(tp_final_mape))\n",
    "\n",
    "print (\"Images & Compositions\")\n",
    "print(\"CLIP VitB16\",mean(clip_vitb16_final_mape_comp))\n",
    "print(\"CLIP VitB32\",mean(clip_vitb32_final_mape_comp))\n",
    "print(\"CLIP VitL14\",mean(clip_vitl14_final_mape_comp))\n",
    "print(\"DINO Vits\",mean(dino_vits_final_mape_comp))\n",
    "print(\"DINO VitB\",mean(dino_vitb_final_mape_comp))\n",
    "print(\"DINO VitL\",mean(dino_vitl_final_mape_comp))\n",
    "print(\"DINO VitG\",mean(dino_vitg_final_mape_comp))\n",
    "print(\"SAM\",mean(sam_final_mape_comp))\n",
    "print(\"NASA\",mean(nasa_final_mape_comp))\n",
    "print(\"Two Point\",mean(tp_final_mape_comp))"
   ]
  },
  {
   "cell_type": "code",
   "execution_count": null,
   "id": "_hhQRF11rvoj",
   "metadata": {
    "colab": {
     "base_uri": "https://localhost:8080/",
     "height": 1000
    },
    "executionInfo": {
     "elapsed": 1042,
     "status": "ok",
     "timestamp": 1734464838431,
     "user": {
      "displayName": "Sheila Whitman",
      "userId": "11834864190234586210"
     },
     "user_tz": 420
    },
    "id": "_hhQRF11rvoj",
    "outputId": "55ec8b8b-53d5-446b-c6bd-95c7178f53ee"
   },
   "outputs": [],
   "source": [
    "#IMAGES ONLY\n",
    "\n",
    "\n",
    "names = ['clip_vitb16_PR',  'clip_vitl14_LR','clip_vitb16_SVR','dino_vitb_PR', 'dino_vitl_LR', 'dino_vitl_SVR', 'sam_PR', 'sam_LR','sam_SVR','nasa_PR', 'nasa_LR', 'nasa_SVR','twopoint_PR', 'twopoint_LR', 'twopoint_SVR']\n",
    "\n",
    "\n",
    "best_image_results = [clip_vitb16_final_mape,clip_vitl14_lr,clip_vitb16_svr, \\\n",
    "                      dino_vitb_final_mape, dino_vitl_lr,dino_vitl_svr, \\\n",
    "                      sam_final_mape,sam_lr,sam_svr,\\\n",
    "                      nasa_final_mape,nasa_lr,nasa_svr,\\\n",
    "                      tp_final_mape,tp_lr,tp_svr]\n",
    "\n",
    "Visualize_Mean(best_image_results, names = names,save = True, filename = \"/content/drive/MyDrive/11_12/Experimental Dataset/12_6_Results/IMAGES.pdf\",Name = \"Just Images\")"
   ]
  },
  {
   "cell_type": "code",
   "execution_count": null,
   "id": "0I2EgtbP-MOS",
   "metadata": {
    "colab": {
     "base_uri": "https://localhost:8080/"
    },
    "executionInfo": {
     "elapsed": 150,
     "status": "ok",
     "timestamp": 1734461899175,
     "user": {
      "displayName": "Sheila Whitman",
      "userId": "11834864190234586210"
     },
     "user_tz": 420
    },
    "id": "0I2EgtbP-MOS",
    "outputId": "b9646d08-9364-43cf-d304-0436200b8b69"
   },
   "outputs": [],
   "source": [
    "print (sam_svr_comp)\n",
    "print (np.mean(sam_svr_comp))\n",
    "print (np.std(sam_svr_comp))\n",
    "new_sam = np.concatenate((sam_svr_comp[:2],sam_svr_comp[3:]))\n",
    "print (new_sam)\n",
    "print (np.mean(new_sam))\n",
    "print (np.std(new_sam))"
   ]
  },
  {
   "cell_type": "code",
   "execution_count": null,
   "id": "121HC-lq8CTQ",
   "metadata": {
    "colab": {
     "base_uri": "https://localhost:8080/",
     "height": 1000
    },
    "executionInfo": {
     "elapsed": 974,
     "status": "ok",
     "timestamp": 1734464843180,
     "user": {
      "displayName": "Sheila Whitman",
      "userId": "11834864190234586210"
     },
     "user_tz": 420
    },
    "id": "121HC-lq8CTQ",
    "outputId": "a80bf713-3d0f-4506-afc0-310594abf413"
   },
   "outputs": [],
   "source": [
    "names = ['clip_vitb16_PR', 'clip_vitl14_LR', 'clip_vitb16_SVR', 'dino_vitb_PR', 'dino_vitl_LR', 'dino_vitl_SVR', 'sam_PR', 'sam_LR','sam_SVR','nasa_PR', 'nasa_LR','nasa_SVR',\\\n",
    "         'twopoint_PR', 'twopoint_LR' ,'twopoint_SVR']\n",
    "\n",
    "best_comp_results = [clip_vitb16_final_mape_comp,clip_vitl14_lr_comp,clip_vitb16_svr_comp,dino_vitb_final_mape_comp, dino_vitl_lr_comp,dino_vitl_svr_comp,\\\n",
    "                     sam_final_mape_comp,sam_lr_comp,sam_svr_comp, nasa_final_mape_comp,nasa_lr_comp, nasa_svr_comp,tp_final_mape_comp, tp_lr_comp, tp_svr_comp]\n",
    "\n",
    "Visualize_Mean(best_comp_results, names = names,save = True, filename = \"/content/drive/MyDrive/11_12/Experimental Dataset/12_6_Results/IMAGES_COMPS.pdf\",Name = \"BOTH\")"
   ]
  },
  {
   "cell_type": "code",
   "execution_count": null,
   "id": "jJEwrM0KRsAV",
   "metadata": {
    "colab": {
     "base_uri": "https://localhost:8080/",
     "height": 1000
    },
    "executionInfo": {
     "elapsed": 3332,
     "status": "ok",
     "timestamp": 1734299485061,
     "user": {
      "displayName": "Sheila Whitman",
      "userId": "11834864190234586210"
     },
     "user_tz": 420
    },
    "id": "jJEwrM0KRsAV",
    "outputId": "bdbd4a21-8199-4fe4-e51b-8ef30d3abe1d"
   },
   "outputs": [],
   "source": [
    "pr_results = [clip_vitb16_final_mape,clip_vitb32_final_mape,clip_vitl14_final_mape,dino_vits_final_mape,dino_vitb_final_mape, dino_vitl_final_mape, dino_vitg_final_mape, sam_final_mape,nasa_final_mape,tp_final_mape]\n",
    "pr_results_comps = [clip_vitb16_final_mape_comp,clip_vitb32_final_mape_comp,clip_vitl14_final_mape_comp,dino_vits_final_mape_comp,dino_vitb_final_mape_comp, dino_vitl_final_mape_comp, dino_vitg_final_mape_comp, sam_final_mape_comp,nasa_final_mape_comp,tp_final_mape_comp]\n",
    "\n",
    "best_pr_results = [clip_vitb16_final_mape,dino_vitb_final_mape, sam_final_mape,nasa_final_mape,tp_final_mape]\n",
    "best_pr_results_comps = [clip_vitb16_final_mape_comp,dino_vitb_final_mape_comp, sam_final_mape_comp,nasa_final_mape_comp,tp_final_mape_comp]\n",
    "\n",
    "names = ['clip_vitb16',  'dino_vitb',  'sam', 'nasa', 'twopoint']\n",
    "\n",
    "\n",
    "\n",
    "Visualization(pr_results)\n",
    "Visualization(pr_results_comps)\n",
    "\n",
    "Visualization(best_pr_results, save = True, filename = \"/content/drive/MyDrive/11_12/Experimental Dataset/12_6_Results/Clip_VitB16_PR.pdf\",name = \"2nd Order Polynomial Regression - Just Images\", names = names)\n",
    "Visualization(best_pr_results_comps, save = True, filename = \"/content/drive/MyDrive/11_12/Experimental Dataset/12_6_Results/Clip_VitB16_PR_COMP.pdf\",name = \"2nd Order Polynomial Regression - Both\", names = names)"
   ]
  },
  {
   "cell_type": "code",
   "execution_count": null,
   "id": "3prQSgZNzzSm",
   "metadata": {
    "colab": {
     "base_uri": "https://localhost:8080/",
     "height": 997
    },
    "executionInfo": {
     "elapsed": 1333,
     "status": "ok",
     "timestamp": 1734459161977,
     "user": {
      "displayName": "Sheila Whitman",
      "userId": "11834864190234586210"
     },
     "user_tz": 420
    },
    "id": "3prQSgZNzzSm",
    "outputId": "99160cc9-aeef-4e0b-c3f3-f2077e6bcac4"
   },
   "outputs": [],
   "source": [
    "\n",
    "Visualize_Mean(pr_results)\n",
    "Visualize_Mean(pr_results_comps)"
   ]
  },
  {
   "cell_type": "code",
   "execution_count": null,
   "id": "8PCUAf1ojOzN",
   "metadata": {
    "colab": {
     "base_uri": "https://localhost:8080/",
     "height": 1000
    },
    "executionInfo": {
     "elapsed": 1900,
     "status": "ok",
     "timestamp": 1734373751691,
     "user": {
      "displayName": "Sheila Whitman",
      "userId": "11834864190234586210"
     },
     "user_tz": 420
    },
    "id": "8PCUAf1ojOzN",
    "outputId": "dca3b7b8-5e27-4cb2-f090-9f5404d77f1c"
   },
   "outputs": [],
   "source": [
    "\n",
    "Visualize_Mean(pr_results)\n",
    "Visualize_Mean(pr_results_comps)\n",
    "\n",
    "best_pr_results = [clip_vitb16_final_mape,dino_vitb_final_mape, sam_final_mape,nasa_final_mape,tp_final_mape]\n",
    "best_pr_results_comps = [clip_vitb16_final_mape_comp,dino_vitb_final_mape_comp, sam_final_mape_comp,nasa_final_mape_comp,tp_final_mape_comp]\n",
    "\n",
    "names = ['clip_vitb16',  'dino_vitb',  'sam', 'nasa', 'twopoint']\n",
    "\n",
    "Visualize_Mean(best_pr_results, save = True, filename = \"/content/drive/MyDrive/11_12/Experimental Dataset/12_6_Results/PR_alt.pdf\",Name = \"2nd Order Polynomial Regression - Just Images\", names = names)\n",
    "Visualize_Mean(best_pr_results_comps, save = True, filename = \"/content/drive/MyDrive/11_12/Experimental Dataset/12_6_Results/PR_COMP_alt.pdf\",Name = \"2nd Order Polynomial Regression - Both\", names = names)"
   ]
  },
  {
   "cell_type": "code",
   "execution_count": 14,
   "id": "aQsXxzraToAO",
   "metadata": {
    "executionInfo": {
     "elapsed": 6602,
     "status": "ok",
     "timestamp": 1734459210881,
     "user": {
      "displayName": "Sheila Whitman",
      "userId": "11834864190234586210"
     },
     "user_tz": 420
    },
    "id": "aQsXxzraToAO"
   },
   "outputs": [],
   "source": [
    "#Just Images\n",
    "clip_vitb16_lr = np.load('/content/drive/MyDrive/11_12/Experimental Dataset/12_6_Results/clip_vitb16_lr_32.npy')\n",
    "clip_vitb32_lr = np.load('/content/drive/MyDrive/11_12/Experimental Dataset/12_6_Results/clip_vitb32_lr_20.npy')\n",
    "clip_vitl14_lr = np.load('/content/drive/MyDrive/11_12/Experimental Dataset/12_6_Results/clip_vitl14_lr_42.npy')\n",
    "dino_vits_lr = np.load('/content/drive/MyDrive/11_12/Experimental Dataset/12_6_Results/dino_vits_lr_47.npy')\n",
    "dino_vitb_lr = np.load('/content/drive/MyDrive/11_12/Experimental Dataset/12_6_Results/dino_vitb_lr_33.npy')\n",
    "dino_vitl_lr = np.load('/content/drive/MyDrive/11_12/Experimental Dataset/12_6_Results/dino_vitl_lr_44.npy')\n",
    "dino_vitg_lr = np.load('/content/drive/MyDrive/11_12/Experimental Dataset/12_6_Results/dino_vitg_lr_41.npy')\n",
    "sam_lr = np.load('/content/drive/MyDrive/11_12/Experimental Dataset/12_6_Results/sam_lr_4.npy')\n",
    "nasa_lr = np.load('/content/drive/MyDrive/11_12/Experimental Dataset/12_6_Results/nasa_lr_2.npy')\n",
    "tp_lr = np.load('/content/drive/MyDrive/11_12/Experimental Dataset/12_6_Results/tp_lr_1.npy')\n",
    "\n",
    "#Images + Compositions\n",
    "clip_vitb16_lr_comp = np.load('/content/drive/MyDrive/11_12/Experimental Dataset/12_6_Results/clip_vitb16_lr_comp_32.npy')\n",
    "clip_vitb32_lr_comp = np.load('/content/drive/MyDrive/11_12/Experimental Dataset/12_6_Results/clip_vitb32_lr_comp_18.npy')\n",
    "clip_vitl14_lr_comp = np.load('/content/drive/MyDrive/11_12/Experimental Dataset/12_6_Results/clip_vitl14_lr_comp_43.npy')\n",
    "dino_vits_lr_comp = np.load('/content/drive/MyDrive/11_12/Experimental Dataset/12_6_Results/dino_vits_lr_comp_50.npy')\n",
    "dino_vitb_lr_comp = np.load('/content/drive/MyDrive/11_12/Experimental Dataset/12_6_Results/dino_vitb_lr_comp_33.npy')\n",
    "dino_vitl_lr_comp = np.load('/content/drive/MyDrive/11_12/Experimental Dataset/12_6_Results/dino_vitl_lr_comp_41.npy')\n",
    "dino_vitg_lr_comp = np.load('/content/drive/MyDrive/11_12/Experimental Dataset/12_6_Results/dino_vitg_lr_comp_36.npy')\n",
    "sam_lr_comp = np.load('/content/drive/MyDrive/11_12/Experimental Dataset/12_6_Results/sam_lr_comp_27.npy')\n",
    "nasa_lr_comp = np.load('/content/drive/MyDrive/11_12/Experimental Dataset/12_6_Results/nasa_lr_comp_3.npy')\n",
    "tp_lr_comp = np.load('/content/drive/MyDrive/11_12/Experimental Dataset/12_6_Results/tp_lr_comp_5.npy')"
   ]
  },
  {
   "cell_type": "code",
   "execution_count": null,
   "id": "OE64ACp7fJex",
   "metadata": {
    "colab": {
     "base_uri": "https://localhost:8080/"
    },
    "executionInfo": {
     "elapsed": 139,
     "status": "ok",
     "timestamp": 1734302591211,
     "user": {
      "displayName": "Sheila Whitman",
      "userId": "11834864190234586210"
     },
     "user_tz": 420
    },
    "id": "OE64ACp7fJex",
    "outputId": "e902bfa1-9e6d-4387-e888-f4461af6d26a"
   },
   "outputs": [],
   "source": [
    "print (\"Just Images\")\n",
    "print(\"CLIP VitB16\",mean(clip_vitb16_lr))\n",
    "print(\"CLIP VitB32\",mean(clip_vitb32_lr))\n",
    "print(\"CLIP VitL14\",mean(clip_vitl14_lr))\n",
    "print(\"DINO Vits\",mean(dino_vits_lr))\n",
    "print(\"DINO VitB\",mean(dino_vitb_lr))\n",
    "print(\"DINO VitL\",mean(dino_vitl_lr))\n",
    "print(\"DINO VitG\",mean(dino_vitg_lr))\n",
    "print(\"SAM\",mean(sam_lr))\n",
    "print(\"NASA\",mean(nasa_lr))\n",
    "print(\"Two Point\",mean(tp_lr))\n",
    "\n",
    "print (\"Images & Compositions\")\n",
    "print(\"CLIP VitB16\",mean(clip_vitb16_lr_comp))\n",
    "print(\"CLIP VitB32\",mean(clip_vitb32_lr_comp))\n",
    "print(\"CLIP VitL14\",mean(clip_vitl14_lr_comp))\n",
    "print(\"DINO Vits\",mean(dino_vits_lr_comp))\n",
    "print(\"DINO VitB\",mean(dino_vitb_lr_comp))\n",
    "print(\"DINO VitL\",mean(dino_vitl_lr_comp))\n",
    "print(\"DINO VitG\",mean(dino_vitg_lr_comp))\n",
    "print(\"SAM\",mean(sam_lr_comp))\n",
    "print(\"NASA\",mean(nasa_lr_comp))\n",
    "print(\"Two Point\",mean(tp_lr_comp))"
   ]
  },
  {
   "cell_type": "code",
   "execution_count": null,
   "id": "3wZ7TmaSVOsH",
   "metadata": {
    "colab": {
     "base_uri": "https://localhost:8080/",
     "height": 1000
    },
    "executionInfo": {
     "elapsed": 2158,
     "status": "ok",
     "timestamp": 1734300242941,
     "user": {
      "displayName": "Sheila Whitman",
      "userId": "11834864190234586210"
     },
     "user_tz": 420
    },
    "id": "3wZ7TmaSVOsH",
    "outputId": "2e365969-3d15-4de1-db4f-dcd883d8c1c2"
   },
   "outputs": [],
   "source": [
    "lr_results = [clip_vitb16_lr,clip_vitb32_lr,clip_vitl14_lr,dino_vits_lr,dino_vitb_lr, dino_vitl_lr, dino_vitg_lr, sam_lr,nasa_lr,tp_lr]\n",
    "lr_results_comps = [clip_vitb16_lr_comp,clip_vitb32_lr_comp,clip_vitl14_lr_comp,dino_vits_lr_comp,dino_vitb_lr_comp, dino_vitl_lr_comp, dino_vitg_lr_comp, sam_lr_comp,nasa_lr_comp,tp_lr_comp]\n",
    "\n",
    "best_lr_results = [clip_vitb16_lr,dino_vitl_lr, sam_lr,nasa_lr,tp_lr]\n",
    "best_lr_results_comps = [clip_vitl14_lr_comp, dino_vitl_lr_comp, sam_lr_comp,nasa_lr_comp,tp_lr_comp]\n",
    "\n",
    "\n",
    "names1 = ['clip_vitb16',  'dino_vitl',  'sam', 'nasa', 'twopoint']\n",
    "names2 = ['clip_vitl14',  'dino_vitl',  'sam', 'nasa', 'twopoint']\n",
    "\n",
    "Visualization(lr_results)\n",
    "Visualization(lr_results_comps)\n",
    "\n",
    "Visualization(best_lr_results, save = True, filename = \"/content/drive/MyDrive/11_12/Experimental Dataset/12_6_Results/LR.pdf\",name = \"Linear Regression - Just Images\", names = names1)\n",
    "Visualization(best_lr_results_comps, save = True, filename = \"/content/drive/MyDrive/11_12/Experimental Dataset/12_6_Results/LR_COMP.pdf\",name = \"Linear Regression - Both\", names = names2)\n",
    "\n"
   ]
  },
  {
   "cell_type": "code",
   "execution_count": null,
   "id": "H_ct_P3ojouP",
   "metadata": {
    "colab": {
     "base_uri": "https://localhost:8080/",
     "height": 1000
    },
    "executionInfo": {
     "elapsed": 1579,
     "status": "ok",
     "timestamp": 1734373932182,
     "user": {
      "displayName": "Sheila Whitman",
      "userId": "11834864190234586210"
     },
     "user_tz": 420
    },
    "id": "H_ct_P3ojouP",
    "outputId": "b6a01fb1-da9b-4d12-b460-8e403543be22"
   },
   "outputs": [],
   "source": [
    "lr_results = [clip_vitb16_lr,clip_vitb32_lr,clip_vitl14_lr,dino_vits_lr,dino_vitb_lr, dino_vitl_lr, dino_vitg_lr, sam_lr,nasa_lr,tp_lr]\n",
    "lr_results_comps = [clip_vitb16_lr_comp,clip_vitb32_lr_comp,clip_vitl14_lr_comp,dino_vits_lr_comp,dino_vitb_lr_comp, dino_vitl_lr_comp, dino_vitg_lr_comp, sam_lr_comp,nasa_lr_comp,tp_lr_comp]\n",
    "\n",
    "best_lr_results = [clip_vitl14_lr,dino_vitl_lr, sam_lr,nasa_lr,tp_lr]\n",
    "best_lr_results_comps = [clip_vitl14_lr_comp, dino_vitl_lr_comp, sam_lr_comp,nasa_lr_comp,tp_lr_comp]\n",
    "\n",
    "names1 = ['clip_vitl14',  'dino_vitl',  'sam', 'nasa', 'twopoint']\n",
    "names2 = ['clip_vitl14',  'dino_vitl',  'sam', 'nasa', 'twopoint']\n",
    "\n",
    "Visualize_Mean(lr_results)\n",
    "Visualize_Mean(lr_results_comps)\n",
    "\n",
    "Visualize_Mean(best_lr_results, save = True, filename = \"/content/drive/MyDrive/11_12/Experimental Dataset/12_6_Results/LR_alt.pdf\",Name = \"Linear Regression - Just Images\", names = names1)\n",
    "Visualize_Mean(best_lr_results_comps, save = True, filename = \"/content/drive/MyDrive/11_12/Experimental Dataset/12_6_Results/LR_COMP_alt.pdf\",Name = \"Linear Regression - Both\", names = names2)\n",
    "\n",
    "\n",
    "\n",
    "\n"
   ]
  },
  {
   "cell_type": "code",
   "execution_count": 15,
   "id": "1urLjVPGWgUB",
   "metadata": {
    "executionInfo": {
     "elapsed": 6611,
     "status": "ok",
     "timestamp": 1734459221286,
     "user": {
      "displayName": "Sheila Whitman",
      "userId": "11834864190234586210"
     },
     "user_tz": 420
    },
    "id": "1urLjVPGWgUB"
   },
   "outputs": [],
   "source": [
    "#Just Images\n",
    "clip_vitb16_svr = np.load('/content/drive/MyDrive/11_12/Experimental Dataset/12_6_Results/clip_vitb16_svr_50.npy')\n",
    "clip_vitb32_svr = np.load('/content/drive/MyDrive/11_12/Experimental Dataset/12_6_Results/clip_vitb32_svr_50.npy')\n",
    "clip_vitl14_svr = np.load('/content/drive/MyDrive/11_12/Experimental Dataset/12_6_Results/clip_vitl14_svr_42.npy')\n",
    "dino_vits_svr = np.load('/content/drive/MyDrive/11_12/Experimental Dataset/12_6_Results/dino_vits_svr_14.npy')\n",
    "dino_vitb_svr = np.load('/content/drive/MyDrive/11_12/Experimental Dataset/12_6_Results/dino_vitb_svr_30.npy')\n",
    "dino_vitl_svr = np.load('/content/drive/MyDrive/11_12/Experimental Dataset/12_6_Results/dino_vitl_svr_34.npy')\n",
    "dino_vitg_svr = np.load('/content/drive/MyDrive/11_12/Experimental Dataset/12_6_Results/dino_vitg_svr_37.npy')\n",
    "sam_svr = np.load('/content/drive/MyDrive/11_12/Experimental Dataset/12_6_Results/sam_svr_1.npy')\n",
    "nasa_svr = np.load('/content/drive/MyDrive/11_12/Experimental Dataset/12_6_Results/nasa_svr_5.npy')\n",
    "tp_svr = np.load('/content/drive/MyDrive/11_12/Experimental Dataset/12_6_Results/tp_svr_5.npy')\n",
    "\n",
    "#Images + Compositions\n",
    "clip_vitb16_svr_comp = np.load('/content/drive/MyDrive/11_12/Experimental Dataset/12_6_Results/clip_vitb16_svr_comp_40.npy')\n",
    "clip_vitb32_svr_comp = np.load('/content/drive/MyDrive/11_12/Experimental Dataset/12_6_Results/clip_vitb32_svr_comp_23.npy')\n",
    "clip_vitl14_svr_comp = np.load('/content/drive/MyDrive/11_12/Experimental Dataset/12_6_Results/clip_vitl14_svr_comp_46.npy')\n",
    "dino_vits_svr_comp = np.load('/content/drive/MyDrive/11_12/Experimental Dataset/12_6_Results/dino_vits_svr_comp_42.npy')\n",
    "dino_vitb_svr_comp = np.load('/content/drive/MyDrive/11_12/Experimental Dataset/12_6_Results/dino_vitb_svr_comp_23.npy')\n",
    "dino_vitl_svr_comp = np.load('/content/drive/MyDrive/11_12/Experimental Dataset/12_6_Results/dino_vitl_svr_comp_49.npy')\n",
    "dino_vitg_svr_comp = np.load('/content/drive/MyDrive/11_12/Experimental Dataset/12_6_Results/dino_vitg_svr_comp_38.npy')\n",
    "sam_svr_comp = np.load('/content/drive/MyDrive/11_12/Experimental Dataset/12_6_Results/sam_svr_comp_3.npy')\n",
    "nasa_svr_comp = np.load('/content/drive/MyDrive/11_12/Experimental Dataset/12_6_Results/nasa_svr_comp_4.npy')\n",
    "tp_svr_comp = np.load('/content/drive/MyDrive/11_12/Experimental Dataset/12_6_Results/tp_svr_comp_5.npy')"
   ]
  },
  {
   "cell_type": "code",
   "execution_count": null,
   "id": "J8WR2smzfjzq",
   "metadata": {
    "colab": {
     "base_uri": "https://localhost:8080/"
    },
    "executionInfo": {
     "elapsed": 177,
     "status": "ok",
     "timestamp": 1734302694733,
     "user": {
      "displayName": "Sheila Whitman",
      "userId": "11834864190234586210"
     },
     "user_tz": 420
    },
    "id": "J8WR2smzfjzq",
    "outputId": "80b944a9-d345-4d97-8419-8dca9b1e41a9"
   },
   "outputs": [],
   "source": [
    "print (\"Just Images\")\n",
    "print(\"CLIP VitB16\",mean(clip_vitb16_svr))\n",
    "print(\"CLIP VitB32\",mean(clip_vitb32_svr))\n",
    "print(\"CLIP VitL14\",mean(clip_vitl14_svr))\n",
    "print(\"DINO Vits\",mean(dino_vits_svr))\n",
    "print(\"DINO VitB\",mean(dino_vitb_svr))\n",
    "print(\"DINO VitL\",mean(dino_vitl_svr))\n",
    "print(\"DINO VitG\",mean(dino_vitg_svr))\n",
    "print(\"SAM\",mean(sam_svr))\n",
    "print(\"NASA\",mean(nasa_svr))\n",
    "print(\"Two Point\",mean(tp_svr))\n",
    "\n",
    "print (\"Images & Compositions\")\n",
    "print(\"CLIP VitB16\",mean(clip_vitb16_svr_comp))\n",
    "print(\"CLIP VitB32\",mean(clip_vitb32_svr_comp))\n",
    "print(\"CLIP VitL14\",mean(clip_vitl14_svr_comp))\n",
    "print(\"DINO Vits\",mean(dino_vits_svr_comp))\n",
    "print(\"DINO VitB\",mean(dino_vitb_svr_comp))\n",
    "print(\"DINO VitL\",mean(dino_vitl_svr_comp))\n",
    "print(\"DINO VitG\",mean(dino_vitg_svr_comp))\n",
    "print(\"SAM\",mean(sam_svr_comp))\n",
    "print(\"NASA\",mean(nasa_svr_comp))\n",
    "print(\"Two Point\",mean(tp_svr_comp))"
   ]
  },
  {
   "cell_type": "code",
   "execution_count": null,
   "id": "pOcrloI7cj9c",
   "metadata": {
    "colab": {
     "base_uri": "https://localhost:8080/",
     "height": 1000
    },
    "executionInfo": {
     "elapsed": 3862,
     "status": "ok",
     "timestamp": 1734302195531,
     "user": {
      "displayName": "Sheila Whitman",
      "userId": "11834864190234586210"
     },
     "user_tz": 420
    },
    "id": "pOcrloI7cj9c",
    "outputId": "e36d8bed-3d6b-4a0b-b31b-c92d5712e116"
   },
   "outputs": [],
   "source": [
    "svr_results = [clip_vitb16_svr,clip_vitb32_svr,clip_vitl14_svr,dino_vits_svr,dino_vitb_svr, dino_vitl_svr, dino_vitg_svr, sam_svr,nasa_svr,tp_svr]\n",
    "svr_results_comps = [clip_vitb16_svr_comp,clip_vitb32_svr_comp,clip_vitl14_svr_comp,dino_vits_svr_comp,dino_vitb_svr_comp, dino_vitl_svr_comp, dino_vitg_svr_comp, sam_svr_comp,nasa_svr_comp,tp_svr_comp]\n",
    "\n",
    "best_svr_results = [clip_vitl14_svr,dino_vitg_svr, sam_svr,nasa_svr,tp_svr]\n",
    "best_svr_results_comps = [clip_vitb16_svr_comp, dino_vitg_svr_comp, sam_svr_comp,nasa_svr_comp,tp_svr_comp]\n",
    "\n",
    "\n",
    "names1 = ['clip_vitl14',  'dino_vitg',  'sam', 'nasa', 'twopoint']\n",
    "names2 = ['clip_vitb16',  'dino_vitg',  'sam', 'nasa', 'twopoint']\n",
    "\n",
    "Visualization(svr_results)\n",
    "Visualization(svr_results_comps)\n",
    "\n",
    "Visualization(best_svr_results, save = True, filename = \"/content/drive/MyDrive/11_12/Experimental Dataset/12_6_Results/SVR.pdf\",name = \"Support Vector Regression - Just Images\", names = names1)\n",
    "Visualization(best_svr_results_comps, save = True, filename = \"/content/drive/MyDrive/11_12/Experimental Dataset/12_6_Results/SVR_COMP.pdf\",name = \"Support Vector Regression - Both\", names = names2)\n"
   ]
  },
  {
   "cell_type": "code",
   "execution_count": null,
   "id": "DCgN5hMbwkuN",
   "metadata": {
    "colab": {
     "base_uri": "https://localhost:8080/",
     "height": 1000
    },
    "executionInfo": {
     "elapsed": 998,
     "status": "ok",
     "timestamp": 1734374221126,
     "user": {
      "displayName": "Sheila Whitman",
      "userId": "11834864190234586210"
     },
     "user_tz": 420
    },
    "id": "DCgN5hMbwkuN",
    "outputId": "348fd6e6-9198-452e-8f04-cbb447cbf3f5"
   },
   "outputs": [],
   "source": [
    "Visualization(svr_results)\n",
    "Visualization(svr_results_comps)"
   ]
  },
  {
   "cell_type": "code",
   "execution_count": null,
   "id": "L1v9f30Ojw0N",
   "metadata": {
    "colab": {
     "base_uri": "https://localhost:8080/",
     "height": 1000
    },
    "executionInfo": {
     "elapsed": 1920,
     "status": "ok",
     "timestamp": 1734374068815,
     "user": {
      "displayName": "Sheila Whitman",
      "userId": "11834864190234586210"
     },
     "user_tz": 420
    },
    "id": "L1v9f30Ojw0N",
    "outputId": "06194cd0-e213-482d-8de1-a3f539047446"
   },
   "outputs": [],
   "source": [
    "svr_results = [clip_vitb16_svr,clip_vitb32_svr,clip_vitl14_svr,dino_vits_svr,dino_vitb_svr, dino_vitl_svr, dino_vitg_svr, sam_svr,nasa_svr,tp_svr]\n",
    "svr_results_comps = [clip_vitb16_svr_comp,clip_vitb32_svr_comp,clip_vitl14_svr_comp,dino_vits_svr_comp,dino_vitb_svr_comp, dino_vitl_svr_comp, dino_vitg_svr_comp, sam_svr_comp,nasa_svr_comp,tp_svr_comp]\n",
    "\n",
    "best_svr_results = [clip_vitb16_svr,dino_vitl_svr, sam_svr,nasa_svr,tp_svr]\n",
    "best_svr_results_comps = [clip_vitb16_svr_comp, dino_vitl_svr_comp, sam_svr_comp,nasa_svr_comp,tp_svr_comp]\n",
    "\n",
    "\n",
    "names1 = ['clip_vitb16',  'dino_vitl',  'sam', 'nasa', 'twopoint']\n",
    "names2 = ['clip_vitb16',  'dino_vitl',  'sam', 'nasa', 'twopoint']\n",
    "\n",
    "Visualize_Mean(svr_results)\n",
    "Visualize_Mean(svr_results_comps)\n",
    "\n",
    "Visualize_Mean(best_svr_results, save = True, filename = \"/content/drive/MyDrive/11_12/Experimental Dataset/12_6_Results/SVR_alt.pdf\",Name = \"Support Vector Regression - Just Images\", names = names1)\n",
    "Visualize_Mean(best_svr_results_comps, save = True, filename = \"/content/drive/MyDrive/11_12/Experimental Dataset/12_6_Results/SVR_COMP_alt.pdf\",Name = \"Support Vector Regression - Both\", names = names2)\n",
    "\n",
    "\n"
   ]
  }
 ],
 "metadata": {
  "colab": {
   "provenance": []
  },
  "kernelspec": {
   "display_name": "Python 3",
   "name": "python3"
  },
  "language_info": {
   "codemirror_mode": {
    "name": "ipython",
    "version": 3
   },
   "file_extension": ".py",
   "mimetype": "text/x-python",
   "name": "python",
   "nbconvert_exporter": "python",
   "pygments_lexer": "ipython3",
   "version": "3.12.2"
  }
 },
 "nbformat": 4,
 "nbformat_minor": 5
}
