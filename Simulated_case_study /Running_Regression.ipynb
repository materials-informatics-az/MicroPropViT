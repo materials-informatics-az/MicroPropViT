{
 "cells": [
  {
   "cell_type": "code",
   "execution_count": null,
   "id": "8019a6a1-cf41-46c4-8080-50391848c75e",
   "metadata": {
    "id": "8019a6a1-cf41-46c4-8080-50391848c75e"
   },
   "outputs": [],
   "source": [
    "#Imports\n",
    "\n",
    "import numpy as np\n",
    "import scipy.io as sio\n",
    "import matplotlib.pyplot as plt\n",
    "import torch\n",
    "from torchvision import transforms\n",
    "from PIL import Image\n",
    "import os\n",
    "import pandas as pd\n",
    "import math\n",
    "from transformers import CLIPProcessor, CLIPModel, AutoModel, CLIPImageProcessor, SamModel, SamProcessor\n",
    "\n",
    "from numpy import mean\n",
    "from numpy import std\n",
    "from numpy import absolute\n",
    "\n",
    "from sklearn.model_selection import train_test_split, LeaveOneOut, cross_val_score, KFold\n",
    "from sklearn.decomposition import PCA\n",
    "from sklearn.linear_model import LinearRegression\n",
    "from sklearn.preprocessing import PolynomialFeatures\n",
    "from sklearn.metrics import make_scorer,r2_score\n",
    "from sklearn.svm import SVR"
   ]
  },
  {
   "cell_type": "code",
   "execution_count": null,
   "id": "6296f8f1-5d24-4a1f-881b-cd98b38ac4ba",
   "metadata": {
    "id": "6296f8f1-5d24-4a1f-881b-cd98b38ac4ba"
   },
   "outputs": [],
   "source": [
    "#Loading simulated dataset\n",
    "\n",
    "xx_bin = np.load('/content/drive/MyDrive/11_12/xx.npy')\n",
    "xy_bin = np.load('/content/drive/MyDrive/11_12/xy.npy')\n",
    "xz_bin = np.load('/content/drive/MyDrive/11_12/xz.npy')\n",
    "\n",
    "y = np.load('/content/drive/MyDrive/11_12/digital_y.npy')\n"
   ]
  },
  {
   "cell_type": "code",
   "execution_count": null,
   "id": "rcBPDJUJwMMm",
   "metadata": {
    "colab": {
     "base_uri": "https://localhost:8080/"
    },
    "executionInfo": {
     "elapsed": 7798,
     "status": "ok",
     "timestamp": 1736271190533,
     "user": {
      "displayName": "Sheila Whitman",
      "userId": "11834864190234586210"
     },
     "user_tz": 420
    },
    "id": "rcBPDJUJwMMm",
    "outputId": "cdbc4a3d-1e9b-4bb5-d242-e00138f27d9d"
   },
   "outputs": [],
   "source": [
    "#Loading SAM features\n",
    "\n",
    "sam_xx_1 = np.load('/content/drive/MyDrive/11_12/11_12_Digital_Features/xx_sam_1.npy')\n",
    "sam_xx_2 = np.load('/content/drive/MyDrive/11_12/11_12_Digital_Features/xx_sam_2.npy')\n",
    "sam_xx_3 = np.load('/content/drive/MyDrive/11_12/11_12_Digital_Features/xx_sam_3.npy')\n",
    "sam_xx_4 = np.load('/content/drive/MyDrive/11_12/11_12_Digital_Features/xx_sam_4.npy')\n",
    "sam_xx_5 = np.load('/content/drive/MyDrive/11_12/11_12_Digital_Features/xx_sam_5.npy')\n",
    "sam_xx_5 = sam_xx_5[200:]\n",
    "\n",
    "sam_xx = np.concatenate((sam_xx_1,sam_xx_2,sam_xx_3,sam_xx_4,sam_xx_5),axis = 0)\n",
    "\n",
    "sam_xy_1 = np.load('/content/drive/MyDrive/11_12/11_12_Digital_Features/xy_sam_1.npy')\n",
    "sam_xy_2 = np.load('/content/drive/MyDrive/11_12/11_12_Digital_Features/xy_sam_2.npy')\n",
    "sam_xy_3 = np.load('/content/drive/MyDrive/11_12/11_12_Digital_Features/xy_sam_3.npy')\n",
    "sam_xy_4 = np.load('/content/drive/MyDrive/11_12/11_12_Digital_Features/xy_sam_4.npy')\n",
    "sam_xy_5 = np.load('/content/drive/MyDrive/11_12/11_12_Digital_Features/xy_sam_5.npy')\n",
    "\n",
    "sam_xy = np.concatenate((sam_xy_1,sam_xy_2,sam_xy_3,sam_xy_4,sam_xy_5),axis = 0)\n",
    "\n",
    "sam_xz_1 = np.load('/content/drive/MyDrive/11_12/11_12_Digital_Features/xz_sam_1.npy')\n",
    "sam_xz_2 = np.load('/content/drive/MyDrive/11_12/11_12_Digital_Features/xz_sam_2.npy')\n",
    "sam_xz_3 = np.load('/content/drive/MyDrive/11_12/11_12_Digital_Features/xz_sam_3.npy')\n",
    "sam_xz_4 = np.load('/content/drive/MyDrive/11_12/11_12_Digital_Features/xz_sam_4.npy')\n",
    "sam_xz_5 = np.load('/content/drive/MyDrive/11_12/11_12_Digital_Features/xz_sam_5.npy')\n",
    "\n",
    "sam_xz = np.concatenate((sam_xz_1,sam_xz_2,sam_xz_3,sam_xz_4,sam_xz_5),axis = 0)\n",
    "\n",
    "sam_concat_features = np.concatenate((sam_xx,sam_xy,sam_xz),axis = 1)\n",
    "\n",
    "sam_mean_features = np.mean((sam_xx,sam_xy,sam_xz),axis = 0)\n",
    "\n",
    "print(sam_concat_features.shape)\n",
    "print(sam_mean_features.shape)"
   ]
  },
  {
   "cell_type": "code",
   "execution_count": null,
   "id": "c2dd21be-e013-408d-95e7-6b2e46b04f61",
   "metadata": {
    "colab": {
     "base_uri": "https://localhost:8080/"
    },
    "executionInfo": {
     "elapsed": 13609,
     "status": "ok",
     "timestamp": 1736461765784,
     "user": {
      "displayName": "Sheila Whitman",
      "userId": "11834864190234586210"
     },
     "user_tz": 420
    },
    "id": "c2dd21be-e013-408d-95e7-6b2e46b04f61",
    "outputId": "241f8936-181b-4385-dca8-3797aed45600"
   },
   "outputs": [],
   "source": [
    "#CLIP\n",
    "\n",
    "clip_vitb16_xx = np.load('/content/drive/MyDrive/11_12/11_12_Digital_Features/xx_clip_b16.npy')\n",
    "clip_vitb16_xy = np.load('/content/drive/MyDrive/11_12/11_12_Digital_Features/xy_clip_b16.npy')\n",
    "clip_vitb16_xz = np.load('/content/drive/MyDrive/11_12/11_12_Digital_Features/xz_clip_b16.npy')\n",
    "clip_vitb32_xx = np.load('/content/drive/MyDrive/11_12/11_12_Digital_Features/xx_clip_b32.npy')\n",
    "clip_vitb32_xy = np.load('/content/drive/MyDrive/11_12/11_12_Digital_Features/xy_clip_b32.npy')\n",
    "clip_vitb32_xz = np.load('/content/drive/MyDrive/11_12/11_12_Digital_Features/xz_clip_b32.npy')\n",
    "clip_vitl14_xx = np.load('/content/drive/MyDrive/11_12/11_12_Digital_Features/xx_clip_l14.npy')\n",
    "clip_vitl14_xy = np.load('/content/drive/MyDrive/11_12/11_12_Digital_Features/xy_clip_l14.npy')\n",
    "clip_vitl14_xz = np.load('/content/drive/MyDrive/11_12/11_12_Digital_Features/xz_clip_l14.npy')\n",
    "\n",
    "clip_vitb16_concat_features = np.concatenate((clip_vitb16_xx,clip_vitb16_xy,clip_vitb16_xz),axis = 1)\n",
    "clip_vitb32_concat_features = np.concatenate((clip_vitb32_xx,clip_vitb32_xy,clip_vitb32_xz),axis = 1)\n",
    "clip_vitl14_concat_features = np.concatenate((clip_vitl14_xx,clip_vitl14_xy,clip_vitl14_xz),axis = 1)\n",
    "\n",
    "clip_vitb16_mean_features = np.mean((clip_vitb16_xx,clip_vitb16_xy,clip_vitb16_xz),axis = 0)\n",
    "clip_vitb32_mean_features = np.mean((clip_vitb32_xx,clip_vitb32_xy,clip_vitb32_xz),axis = 0)\n",
    "clip_vitl14_mean_features = np.mean((clip_vitl14_xx,clip_vitl14_xy,clip_vitl14_xz),axis = 0)\n",
    "\n",
    "print(clip_vitb16_concat_features.shape, clip_vitb32_concat_features.shape ,clip_vitl14_concat_features.shape)\n",
    "print(clip_vitb16_mean_features.shape, clip_vitb32_mean_features.shape ,clip_vitl14_mean_features.shape)"
   ]
  },
  {
   "cell_type": "code",
   "execution_count": null,
   "id": "ca0b5da8-4165-49f2-b601-0af9c44224f5",
   "metadata": {
    "colab": {
     "base_uri": "https://localhost:8080/"
    },
    "executionInfo": {
     "elapsed": 19133,
     "status": "ok",
     "timestamp": 1736271214188,
     "user": {
      "displayName": "Sheila Whitman",
      "userId": "11834864190234586210"
     },
     "user_tz": 420
    },
    "id": "ca0b5da8-4165-49f2-b601-0af9c44224f5",
    "outputId": "d1fff6a1-85b6-4cbc-8760-8da2c814ea8f"
   },
   "outputs": [],
   "source": [
    "#Dino\n",
    "\n",
    "dino_s_xx = np.squeeze(np.load('/content/drive/MyDrive/11_12/11_12_Digital_Features/xx_dino_s.npy'))\n",
    "dino_s_xy = np.squeeze(np.load('/content/drive/MyDrive/11_12/11_12_Digital_Features/xy_dino_s.npy'))\n",
    "dino_s_xz = np.squeeze(np.load('/content/drive/MyDrive/11_12/11_12_Digital_Features/xz_dino_s.npy'))\n",
    "dino_b_xx = np.squeeze(np.load('/content/drive/MyDrive/11_12/11_12_Digital_Features/xx_dino_b.npy'))\n",
    "dino_b_xy = np.squeeze(np.load('/content/drive/MyDrive/11_12/11_12_Digital_Features/xy_dino_b.npy'))\n",
    "dino_b_xz = np.squeeze(np.load('/content/drive/MyDrive/11_12/11_12_Digital_Features/xz_dino_b.npy'))\n",
    "dino_l_xx = np.squeeze(np.load('/content/drive/MyDrive/11_12/11_12_Digital_Features/xx_dino_l.npy'))\n",
    "dino_l_xy = np.squeeze(np.load('/content/drive/MyDrive/11_12/11_12_Digital_Features/xy_dino_l.npy'))\n",
    "dino_l_xz = np.squeeze(np.load('/content/drive/MyDrive/11_12/11_12_Digital_Features/xz_dino_l.npy'))\n",
    "dino_g_xx = np.squeeze(np.load('/content/drive/MyDrive/11_12/11_12_Digital_Features/xx_dino_g.npy'))\n",
    "dino_g_xy = np.squeeze(np.load('/content/drive/MyDrive/11_12/11_12_Digital_Features/xy_dino_g.npy'))\n",
    "dino_g_xz = np.squeeze(np.load('/content/drive/MyDrive/11_12/11_12_Digital_Features/xz_dino_g.npy'))\n",
    "\n",
    "dino_vits_concat_features = np.concatenate((dino_s_xx,dino_s_xy,dino_s_xz),axis = 1)\n",
    "dino_vitb_concat_features = np.concatenate((dino_b_xx,dino_b_xy,dino_b_xz),axis = 1)\n",
    "dino_vitl_concat_features = np.concatenate((dino_l_xx,dino_l_xy,dino_l_xz),axis = 1)\n",
    "dino_vitg_concat_features = np.concatenate((dino_g_xx,dino_g_xy,dino_g_xz),axis = 1)\n",
    "\n",
    "dino_vits_mean_features = np.mean((dino_s_xx,dino_s_xy,dino_s_xz),axis = 0)\n",
    "dino_vitb_mean_features = np.mean((dino_b_xx,dino_b_xy,dino_b_xz),axis = 0)\n",
    "dino_vitl_mean_features = np.mean((dino_l_xx,dino_l_xy,dino_l_xz),axis = 0)\n",
    "dino_vitg_mean_features = np.mean((dino_g_xx,dino_g_xy,dino_g_xz),axis = 0)\n",
    "\n",
    "print(dino_vits_concat_features.shape, dino_vitb_concat_features.shape, dino_vitl_concat_features.shape, dino_vitg_concat_features.shape)\n",
    "print(dino_vits_mean_features.shape, dino_vitb_mean_features.shape, dino_vitl_mean_features.shape, dino_vitg_mean_features.shape)"
   ]
  },
  {
   "cell_type": "code",
   "execution_count": null,
   "id": "3f7cf5b5-7e69-4764-ba33-9282aa6d0155",
   "metadata": {
    "colab": {
     "base_uri": "https://localhost:8080/"
    },
    "executionInfo": {
     "elapsed": 10711,
     "status": "ok",
     "timestamp": 1736271251806,
     "user": {
      "displayName": "Sheila Whitman",
      "userId": "11834864190234586210"
     },
     "user_tz": 420
    },
    "id": "3f7cf5b5-7e69-4764-ba33-9282aa6d0155",
    "outputId": "85d7bda7-7d43-41fa-c931-1b589ad17861"
   },
   "outputs": [],
   "source": [
    "#NASA\n",
    "\n",
    "nasa_xx = np.load('/content/drive/MyDrive/11_12/11_12_Digital_Features/xx_Nasa.npy')\n",
    "nasa_xy = np.load('/content/drive/MyDrive/11_12/11_12_Digital_Features/xy_Nasa.npy')\n",
    "nasa_xz = np.load('/content/drive/MyDrive/11_12/11_12_Digital_Features/xz_Nasa.npy')\n",
    "\n",
    "nasa_concat_features = np.concatenate((nasa_xx,nasa_xy,nasa_xz),axis = 1)\n",
    "nasa_mean_features = np.mean((nasa_xx,nasa_xy,nasa_xz),axis = 0)\n",
    "\n",
    "print(nasa_concat_features.shape)\n",
    "print(nasa_mean_features.shape)"
   ]
  },
  {
   "cell_type": "code",
   "execution_count": null,
   "id": "27b5b761-1866-4ec8-a80d-996f913afdca",
   "metadata": {
    "colab": {
     "base_uri": "https://localhost:8080/"
    },
    "executionInfo": {
     "elapsed": 11239,
     "status": "ok",
     "timestamp": 1736461782169,
     "user": {
      "displayName": "Sheila Whitman",
      "userId": "11834864190234586210"
     },
     "user_tz": 420
    },
    "id": "27b5b761-1866-4ec8-a80d-996f913afdca",
    "outputId": "e679594d-4831-4062-9475-d84b1fe5361b"
   },
   "outputs": [],
   "source": [
    "#Two Point\n",
    "\n",
    "twopoint_xx = sio.loadmat('/content/drive/MyDrive/11_12/11_12_Digital_Features/xx_tp_auto_periodic.mat')\n",
    "twopoint_xy = sio.loadmat('/content/drive/MyDrive/11_12/11_12_Digital_Features/xy_tp_auto_periodic.mat')\n",
    "twopoint_xz = sio.loadmat('/content/drive/MyDrive/11_12/11_12_Digital_Features/xz_tp_auto_periodic.mat')\n",
    "\n",
    "\n",
    "twopoint_xx = twopoint_xx['xx_tps']\n",
    "twopoint_xy = twopoint_xy['xy_tps']\n",
    "twopoint_xz = twopoint_xz['xz_tps']\n",
    "\n",
    "twopoint_xx = np.array(twopoint_xx)\n",
    "twopoint_xy = np.array(twopoint_xy)\n",
    "twopoint_xz = np.array(twopoint_xz)\n",
    "\n",
    "print(twopoint_xx.shape, twopoint_xy.shape, twopoint_xz.shape)\n",
    "\n",
    "twopoint_concat_features = np.concatenate((twopoint_xx,twopoint_xy,twopoint_xz),axis = 1)\n",
    "twopoint_mean_features = np.mean((twopoint_xx,twopoint_xy,twopoint_xz),axis = 0)\n",
    "\n",
    "print(twopoint_concat_features.shape)\n",
    "print(twopoint_mean_features.shape)"
   ]
  },
  {
   "cell_type": "code",
   "execution_count": null,
   "id": "7710d6b1-5061-42ca-8d2f-27b8611876d9",
   "metadata": {
    "id": "7710d6b1-5061-42ca-8d2f-27b8611876d9"
   },
   "outputs": [],
   "source": [
    "def MAPE(y, y_hat):\n",
    "    mape = np.mean(np.abs((y - y_hat)/y))*100\n",
    "    return mape\n",
    "\n",
    "def count_terms(num_comps):\n",
    "    num = num_comps + 2\n",
    "    terms = math.factorial(num)/2 - 1\n",
    "    return math.comb(num_comps + 2, 2)"
   ]
  },
  {
   "cell_type": "code",
   "execution_count": null,
   "id": "8b732329-f8e5-4189-a431-af329b9120b9",
   "metadata": {
    "colab": {
     "base_uri": "https://localhost:8080/",
     "height": 201
    },
    "executionInfo": {
     "elapsed": 1010,
     "status": "error",
     "timestamp": 1736461789120,
     "user": {
      "displayName": "Sheila Whitman",
      "userId": "11834864190234586210"
     },
     "user_tz": 420
    },
    "id": "8b732329-f8e5-4189-a431-af329b9120b9",
    "outputId": "7092a4f7-a503-4881-c135-882604f6360e"
   },
   "outputs": [],
   "source": [
    "# Train / Test Splits\n",
    "\n",
    "#CLIP\n",
    "x_0_concat_clipvitb16, x_test_concat_clipvitb16, y_0_concat_clipvitb16, y_test_concat_clipvitb16 = \\\n",
    "train_test_split(clip_vitb16_concat_features,y,test_size=0.1,random_state=11)\n",
    "x_0_concat_clipvitb32, x_test_concat_clipvitb32, y_0_concat_clipvitb32, y_test_concat_clipvitb32 = \\\n",
    "train_test_split(clip_vitb32_concat_features,y,test_size=0.1,random_state=11)\n",
    "x_0_concat_clipvitl14, x_test_concat_clipvitl14, y_0_concat_clipvitl14, y_test_concat_clipvitl14 = \\\n",
    "train_test_split(clip_vitl14_concat_features,y,test_size=0.1,random_state=11)\n",
    "x_0_mean_clipvitb16, x_test_mean_clipvitb16, y_0_mean_clipvitb16, y_test_mean_clipvitb16 = \\\n",
    "train_test_split(clip_vitb16_mean_features,y,test_size=0.1,random_state=11)\n",
    "x_0_mean_clipvitb32, x_test_mean_clipvitb32, y_0_mean_clipvitb32, y_test_mean_clipvitb32 = \\\n",
    "train_test_split(clip_vitb32_mean_features,y,test_size=0.1,random_state=11)\n",
    "x_0_mean_clipvitl14, x_test_mean_clipvitl14, y_0_mean_clipvitl14, y_test_mean_clipvitl14 = \\\n",
    "train_test_split(clip_vitl14_mean_features,y,test_size=0.1,random_state=11)\n",
    "\n",
    "# #DINO\n",
    "x_0_concat_dinovits, x_test_concat_dinovits, y_0_concat_dinovits, y_test_concat_dinovits = \\\n",
    "train_test_split(dino_vits_concat_features,y,test_size=0.1,random_state=11)\n",
    "x_0_concat_dinovitb, x_test_concat_dinovitb, y_0_concat_dinovitb, y_test_concat_dinovitb = \\\n",
    "train_test_split(dino_vitb_concat_features,y,test_size=0.1,random_state=11)\n",
    "x_0_concat_dinovitl, x_test_concat_dinovitl, y_0_concat_dinovitl, y_test_concat_dinovitl = \\\n",
    "train_test_split(dino_vitl_concat_features,y,test_size=0.1,random_state=11)\n",
    "x_0_concat_dinovitg, x_test_concat_dinovitg, y_0_concat_dinovitg, y_test_concat_dinovitg = \\\n",
    "train_test_split(dino_vitg_concat_features,y,test_size=0.1,random_state=11)\n",
    "x_0_mean_dinovits, x_test_mean_dinovits, y_0_mean_dinovits, y_test_mean_dinovits = \\\n",
    "train_test_split(dino_vits_mean_features,y,test_size=0.1,random_state=11)\n",
    "x_0_mean_dinovitb, x_test_mean_dinovitb, y_0_mean_dinovitb, y_test_mean_dinovitb = \\\n",
    "train_test_split(dino_vitb_mean_features,y,test_size=0.1,random_state=11)\n",
    "x_0_mean_dinovitl, x_test_mean_dinovitl, y_0_mean_dinovitl, y_test_mean_dinovitl = \\\n",
    "train_test_split(dino_vitl_mean_features,y,test_size=0.1,random_state=11)\n",
    "x_0_mean_dinovitg, x_test_mean_dinovitg, y_0_mean_dinovitg, y_test_mean_dinovitg = \\\n",
    "train_test_split(dino_vitg_mean_features,y,test_size=0.1,random_state=11)\n",
    "\n",
    "\n",
    "# #NASA\n",
    "x_0_concat_nasa, x_test_concat_nasa, y_0_concat_nasa, y_test_concat_nasa = \\\n",
    "train_test_split(nasa_concat_features,y,test_size=0.1,random_state=11)\n",
    "x_0_mean_nasa, x_test_mean_nasa, y_0_mean_nasa, y_test_mean_nasa = \\\n",
    "train_test_split(nasa_mean_features,y,test_size=0.1,random_state=11)\n",
    "\n",
    "#Two Point\n",
    "x_0_concat_tp, x_test_concat_tp, y_0_concat_tp, y_test_concat_tp = \\\n",
    "train_test_split(twopoint_concat_features,y,test_size=0.1,random_state=11)\n",
    "x_0_mean_tp, x_test_mean_tp, y_0_mean_tp, y_test_mean_tp = \\\n",
    "train_test_split(twopoint_mean_features,y,test_size=0.1,random_state=11)\n",
    "\n",
    "#SAM\n",
    "x_0_concat_sam, x_test_concat_sam, y_0_concat_sam, y_test_concat_sam = \\\n",
    "train_test_split(sam_concat_features,y,test_size=0.1,random_state=11)\n",
    "x_0_mean_sam, x_test_mean_sam, y_0_mean_sam, y_test_mean_sam = \\\n",
    "train_test_split(sam_mean_features,y,test_size=0.1,random_state=11)\n"
   ]
  },
  {
   "cell_type": "code",
   "execution_count": null,
   "id": "4037d2cb-faec-46a0-8000-7ab9c1e6f27b",
   "metadata": {
    "id": "4037d2cb-faec-46a0-8000-7ab9c1e6f27b"
   },
   "outputs": [],
   "source": [
    "# Find Best PCs for 2nd order polynomial regression\n",
    "\n",
    "def pr_pc(x_0,y_0):\n",
    "\n",
    "    x_train,x_val,y_train,y_val = train_test_split(x_0,y_0, test_size=0.2, random_state=32)\n",
    "\n",
    "    pca = PCA(\n",
    "        svd_solver='full',\n",
    "        n_components=50,\n",
    "        random_state=10\n",
    "    ).fit(x_train)\n",
    "\n",
    "\n",
    "    x_train_red = pca.transform(x_train)\n",
    "    x_val_red = pca.transform(x_val)\n",
    "\n",
    "    poly = PolynomialFeatures(2)\n",
    "\n",
    "    best_score = float('inf')\n",
    "    best_n_components = None\n",
    "    for n_components in range(1, 51):\n",
    "        x_train_reduced = x_train_red[:, :n_components]\n",
    "        x_val_reduced = x_val_red[:, :n_components]\n",
    "\n",
    "        x_poly_train = poly.fit_transform(x_train_reduced)\n",
    "        x_poly_val = poly.transform(x_val_reduced)\n",
    "\n",
    "        lr = LinearRegression()\n",
    "        lr.fit(x_poly_train, y_train)\n",
    "\n",
    "\n",
    "        y_train_pred = lr.predict(x_poly_train)\n",
    "        y_pred = lr.predict(x_poly_val)\n",
    "\n",
    "        train_score = MAPE(y_train,y_train_pred)\n",
    "        val_score = MAPE(y_val,y_pred)\n",
    "\n",
    "        print(f\"Comp: {n_components}, MAPE Train Score: {train_score:.3f}, MAPE Val Score: {val_score:.3f}\")\n",
    "\n",
    "\n",
    "        if val_score < best_score:\n",
    "            best_score = val_score\n",
    "            best_n_components = n_components\n",
    "\n",
    "    print(f\"Best Comps: {best_n_components}, MAPE Val Score: {best_score:.3f}\")\n",
    "\n",
    "    return best_score, best_n_components\n",
    "\n"
   ]
  },
  {
   "cell_type": "code",
   "execution_count": null,
   "id": "jL_xPxr_uXO7",
   "metadata": {
    "id": "jL_xPxr_uXO7"
   },
   "outputs": [],
   "source": [
    "# Running best models for 2nd order polynomial regression\n",
    "\n",
    "def pr(x_train,y_train,x_test,y_test,n):\n",
    "\n",
    "    pca = PCA(\n",
    "        svd_solver='full',\n",
    "        n_components=n,\n",
    "        random_state=10\n",
    "    ).fit(x_train)\n",
    "\n",
    "\n",
    "    x_train_red = pca.transform(x_train)\n",
    "    x_test_red = pca.transform(x_test)\n",
    "\n",
    "    poly = PolynomialFeatures(2)\n",
    "\n",
    "    x_poly_train = poly.fit_transform(x_train_red)\n",
    "    x_poly_test = poly.transform(x_test_red)\n",
    "\n",
    "    lr = LinearRegression()\n",
    "    lr.fit(x_poly_train, y_train)\n",
    "\n",
    "    y_pred_train = lr.predict(x_poly_train)\n",
    "    y_pred_test = lr.predict(x_poly_test)\n",
    "\n",
    "    train_score = MAPE(y_train,y_pred_train)\n",
    "    test_score = MAPE(y_test,y_pred_test)\n",
    "\n",
    "    print(f\"Train: {train_score:.3f}, Test: {test_score:.3f}\")\n",
    "\n",
    "    return train_score, test_score\n",
    "\n"
   ]
  },
  {
   "cell_type": "code",
   "execution_count": null,
   "id": "gZxmozqDuXDZ",
   "metadata": {
    "colab": {
     "base_uri": "https://localhost:8080/"
    },
    "executionInfo": {
     "elapsed": 288613,
     "status": "ok",
     "timestamp": 1733850811655,
     "user": {
      "displayName": "Sheila Whitman",
      "userId": "11834864190234586210"
     },
     "user_tz": 420
    },
    "id": "gZxmozqDuXDZ",
    "outputId": "35fc22a4-1d04-42b3-a7b9-81790abc0102"
   },
   "outputs": [],
   "source": [
    "#CLIP\n",
    "\n",
    "print ('Clip B16')\n",
    "clipvitb16_concat_score, clipvitb16_concat_components = pr_pc(x_0_concat_clipvitb16,y_0_concat_clipvitb16)\n",
    "clipvitb16_mean_score, clipvitb16_mean_components = pr_pc(x_0_mean_clipvitb16,y_0_mean_clipvitb16)\n",
    "\n",
    "print ('Clip B32')\n",
    "clipvitb32_concat_score, clipvitb32_concat_components = pr_pc(x_0_concat_clipvitb32,y_0_concat_clipvitb32)\n",
    "clipvitb32_mean_score, clipvitb32_mean_components = pr_pc(x_0_mean_clipvitb32,y_0_mean_clipvitb32)\n",
    "\n",
    "print ('Clip L14')\n",
    "clipvitl14_concat_score, clipvitl14_concat_components = pr_pc(x_0_concat_clipvitl14,y_0_concat_clipvitl14)\n",
    "clipvitl14_mean_score, clipvitl14_mean_components = pr_pc(x_0_mean_clipvitl14,y_0_mean_clipvitl14)"
   ]
  },
  {
   "cell_type": "code",
   "execution_count": null,
   "id": "NcT7AihVuXSc",
   "metadata": {
    "colab": {
     "base_uri": "https://localhost:8080/"
    },
    "executionInfo": {
     "elapsed": 54115,
     "status": "ok",
     "timestamp": 1733851147448,
     "user": {
      "displayName": "Sheila Whitman",
      "userId": "11834864190234586210"
     },
     "user_tz": 420
    },
    "id": "NcT7AihVuXSc",
    "outputId": "14266284-2548-41b0-c738-afac7fdd73e8"
   },
   "outputs": [],
   "source": [
    "# Second Order Polynomial Regression Best Results\n",
    "\n",
    "#CLIP\n",
    "print ('Clip VITB16 Model Concatenated with ', clipvitb16_concat_components, ' components')\n",
    "clipvitb16_concat_train_mape, clipvitb16_concat_test_mape = pr(x_0_concat_clipvitb16, y_0_concat_clipvitb16, \\\n",
    "                                                                    x_test_concat_clipvitb16, y_test_concat_clipvitb16, clipvitb16_concat_components)\n",
    "print ('Clip VITB16 Model Mean with ', clipvitb16_mean_components, ' components')\n",
    "clipvitb16_mean_train_mape, clipvitb16_mean_test_mape= pr(x_0_mean_clipvitb16, y_0_mean_clipvitb16, \\\n",
    "                                                                    x_test_mean_clipvitb16, y_test_mean_clipvitb16, clipvitb16_mean_components)\n",
    "print ('Clip VITB32 Model Concatenated with ', clipvitb32_concat_components, ' components')\n",
    "clipvitb32_concat_train_mape, clipvitb32_concat_test_mape = pr(x_0_concat_clipvitb32, y_0_concat_clipvitb32, \\\n",
    "                                                                    x_test_concat_clipvitb32, y_test_concat_clipvitb32, clipvitb32_concat_components)\n",
    "print ('Clip VITB32 Model Mean with ', clipvitb32_mean_components, ' components')\n",
    "clipvitb32_mean_train_mape, clipvitb32_mean_test_mape = pr(x_0_mean_clipvitb32, y_0_mean_clipvitb32, \\\n",
    "                                                                    x_test_mean_clipvitb32, y_test_mean_clipvitb32, clipvitb32_mean_components)\n",
    "print ('Clip VITL14 Model Concatenated with ', clipvitl14_concat_components, ' components')\n",
    "clipvitl14_concat_train_mape, clipvitl14_concat_test_mape = pr(x_0_concat_clipvitl14, y_0_concat_clipvitl14, \\\n",
    "                                                                    x_test_concat_clipvitl14, y_test_concat_clipvitl14, clipvitl14_concat_components)\n",
    "print ('Clip VITL14 Model Mean with ', clipvitl14_mean_components, ' components')\n",
    "clipvitl14_mean_train_mape, clipvitl14_mean_test_mape = pr(x_0_mean_clipvitl14, y_0_mean_clipvitl14, \\\n",
    "                                                                    x_test_mean_clipvitl14, y_test_mean_clipvitl14, clipvitl14_mean_components)\n",
    "\n",
    "\n",
    "print ('CLIP VITB16')\n",
    "path = '/content/drive/MyDrive/11_12/12_10_Digital_Results/clip_vitb16_concat_pr_' + str(clipvitb16_concat_components) + '.npy'\n",
    "np.save(path, [clipvitb16_concat_train_mape, clipvitb16_concat_test_mape])\n",
    "path = '/content/drive/MyDrive/11_12/12_10_Digital_Results/clip_vitb16_mean_pr_' + str(clipvitb16_mean_components) + '.npy'\n",
    "np.save(path, [clipvitb16_mean_train_mape, clipvitb16_mean_test_mape])\n",
    "\n",
    "print ('CLIP VITB32')\n",
    "path = '/content/drive/MyDrive/11_12/12_10_Digital_Results/clip_vitb32_concat_pr_' + str(clipvitb32_concat_components) + '.npy'\n",
    "np.save(path, [clipvitb32_concat_train_mape, clipvitb32_concat_test_mape])\n",
    "path = '/content/drive/MyDrive/11_12/12_10_Digital_Results/clip_vitb32_mean_pr_' + str(clipvitb32_mean_components) + '.npy'\n",
    "np.save(path, [clipvitb32_mean_train_mape, clipvitb32_mean_test_mape])\n",
    "\n",
    "print ('CLIP VITL14')\n",
    "path = '/content/drive/MyDrive/11_12/12_10_Digital_Results/clip_vitl14_concat_pr_' + str(clipvitl14_concat_components) + '.npy'\n",
    "np.save(path, [clipvitl14_concat_train_mape, clipvitl14_concat_test_mape])\n",
    "path = '/content/drive/MyDrive/11_12/12_10_Digital_Results/clip_vitl14_mean_pr_' + str(clipvitl14_mean_components) + '.npy'\n",
    "np.save(path, [clipvitl14_mean_train_mape, clipvitl14_mean_test_mape])\n",
    "\n"
   ]
  },
  {
   "cell_type": "code",
   "execution_count": null,
   "id": "1JPwZU8ruXIe",
   "metadata": {
    "colab": {
     "base_uri": "https://localhost:8080/"
    },
    "executionInfo": {
     "elapsed": 561173,
     "status": "ok",
     "timestamp": 1733851733147,
     "user": {
      "displayName": "Sheila Whitman",
      "userId": "11834864190234586210"
     },
     "user_tz": 420
    },
    "id": "1JPwZU8ruXIe",
    "outputId": "e0dfeea1-c421-44ad-c71b-2ebeac5ac712"
   },
   "outputs": [],
   "source": [
    "#Dino\n",
    "print ('Small')\n",
    "dinovits_concat_score, dinovits_concat_components = pr_pc(x_0_concat_dinovits,y_0_concat_dinovits)\n",
    "dinovits_mean_score, dinovits_mean_components = pr_pc(x_0_mean_dinovits,y_0_mean_dinovits)\n",
    "\n",
    "print ('Base')\n",
    "dinovitb_concat_score, dinovitb_concat_components = pr_pc(x_0_concat_dinovitb,y_0_concat_dinovitb)\n",
    "dinovitb_mean_score, dinovitb_mean_components = pr_pc(x_0_mean_dinovitb,y_0_mean_dinovitb)\n",
    "\n",
    "print ('Large')\n",
    "dinovitl_concat_score, dinovitl_concat_components = pr_pc(x_0_concat_dinovitl,y_0_concat_dinovitl)\n",
    "dinovitl_mean_score, dinovitl_mean_components = pr_pc(x_0_mean_dinovitl,y_0_mean_dinovitl)\n",
    "\n",
    "print ('Giant')\n",
    "dinovitg_concat_score, dinovitg_concat_components = pr_pc(x_0_concat_dinovitg,y_0_concat_dinovitg)\n",
    "dinovitg_mean_score, dinovitg_mean_components = pr_pc(x_0_mean_dinovitg,y_0_mean_dinovitg)"
   ]
  },
  {
   "cell_type": "code",
   "execution_count": null,
   "id": "43bUay_glhme",
   "metadata": {
    "colab": {
     "base_uri": "https://localhost:8080/"
    },
    "executionInfo": {
     "elapsed": 135446,
     "status": "ok",
     "timestamp": 1733852062256,
     "user": {
      "displayName": "Sheila Whitman",
      "userId": "11834864190234586210"
     },
     "user_tz": 420
    },
    "id": "43bUay_glhme",
    "outputId": "f4ce86ca-3ae9-4607-fe52-5642281f921a"
   },
   "outputs": [],
   "source": [
    "# Second Order Polynomial Regression Best Results\n",
    "\n",
    "#DINO\n",
    "print ('Dino VitS Model Concatenated with ', dinovits_concat_components, ' components')\n",
    "dinovits_concat_train_mape, dinovits_concat_test_mape = pr(x_0_concat_dinovits, y_0_concat_dinovits, \\\n",
    "                                                                    x_test_concat_dinovits, y_test_concat_dinovits, dinovits_concat_components)\n",
    "print ('Dino VitS Model Mean with ', dinovits_mean_components, ' components')\n",
    "dinovits_mean_train_mape, dinovits_mean_test_mape= pr(x_0_mean_dinovits, y_0_mean_dinovits, \\\n",
    "                                                                    x_test_mean_dinovits, y_test_mean_dinovits, dinovits_mean_components)\n",
    "print ('Dino VitB Model Concatenated with ', dinovitb_concat_components, ' components')\n",
    "dinovitb_concat_train_mape, dinovitb_concat_test_mape = pr(x_0_concat_dinovitb, y_0_concat_dinovitb, \\\n",
    "                                                                    x_test_concat_dinovitb, y_test_concat_dinovitb, dinovitb_concat_components)\n",
    "print ('Dino VitB Model Mean with ', dinovitb_mean_components, ' components')\n",
    "dinovitb_mean_train_mape, dinovitb_mean_test_mape= pr(x_0_mean_dinovitb, y_0_mean_dinovitb, \\\n",
    "                                                                    x_test_mean_dinovitb, y_test_mean_dinovitb, dinovitb_mean_components)\n",
    "print ('Dino VitL Model Concatenated with ', dinovitl_concat_components, ' components')\n",
    "dinovitl_concat_train_mape, dinovitl_concat_test_mape = pr(x_0_concat_dinovitl, y_0_concat_dinovitl, \\\n",
    "                                                                    x_test_concat_dinovitl, y_test_concat_dinovitl, dinovitl_concat_components)\n",
    "print ('Dino VitL Model Mean with ', dinovitl_mean_components, ' components')\n",
    "dinovitl_mean_train_mape, dinovitl_mean_test_mape= pr(x_0_mean_dinovitl, y_0_mean_dinovitl, \\\n",
    "                                                                    x_test_mean_dinovitl, y_test_mean_dinovitl, dinovitl_mean_components)\n",
    "print ('Dino VitG Model Concatenated with ', dinovitg_concat_components, ' components')\n",
    "dinovitg_concat_train_mape, dinovitg_concat_test_mape = pr(x_0_concat_dinovitg, y_0_concat_dinovitg, \\\n",
    "                                                                    x_test_concat_dinovitg, y_test_concat_dinovitg, dinovitg_concat_components)\n",
    "print ('Dino VitG Model Mean with ', dinovitg_mean_components, ' components')\n",
    "dinovitg_mean_train_mape, dinovitg_mean_test_mape= pr(x_0_mean_dinovitg, y_0_mean_dinovitg, \\\n",
    "                                                                    x_test_mean_dinovitg, y_test_mean_dinovitg, dinovitg_mean_components)\n",
    "\n",
    "\n",
    "print ('DINO VitS')\n",
    "path = '/content/drive/MyDrive/11_12/12_10_Digital_Results/dino_vits_concat_pr_' + str(dinovits_concat_components) + '.npy'\n",
    "np.save(path, [dinovits_concat_train_mape, dinovits_concat_test_mape])\n",
    "path = '/content/drive/MyDrive/11_12/12_10_Digital_Results/dino_vits_mean_pr_' + str(dinovits_mean_components) + '.npy'\n",
    "np.save(path, [dinovits_mean_train_mape, dinovits_mean_test_mape])\n",
    "print ('DINO VitB')\n",
    "path = '/content/drive/MyDrive/11_12/12_10_Digital_Results/dino_vitb_concat_pr_' + str(dinovitb_concat_components) + '.npy'\n",
    "np.save(path, [dinovitb_concat_train_mape, dinovitb_concat_test_mape])\n",
    "path = '/content/drive/MyDrive/11_12/12_10_Digital_Results/dino_vitb_mean_pr_' + str(dinovitb_mean_components) + '.npy'\n",
    "np.save(path, [dinovitb_mean_train_mape, dinovitb_mean_test_mape])\n",
    "print ('DINO VitL')\n",
    "path = '/content/drive/MyDrive/11_12/12_10_Digital_Results/dino_vitl_concat_pr_' + str(dinovitl_concat_components) + '.npy'\n",
    "np.save(path, [dinovitl_concat_train_mape, dinovitl_concat_test_mape])\n",
    "path = '/content/drive/MyDrive/11_12/12_10_Digital_Results/dino_vitl_mean_pr_' + str(dinovitl_mean_components) + '.npy'\n",
    "np.save(path, [dinovitl_mean_train_mape, dinovitl_mean_test_mape])\n",
    "print ('DINO VitG')\n",
    "path = '/content/drive/MyDrive/11_12/12_10_Digital_Results/dino_vitg_concat_pr_' + str(dinovitg_concat_components) + '.npy'\n",
    "np.save(path, [dinovitg_concat_train_mape, dinovitg_concat_test_mape])\n",
    "path = '/content/drive/MyDrive/11_12/12_10_Digital_Results/dino_vitg_mean_pr_' + str(dinovitg_mean_components) + '.npy'\n",
    "np.save(path, [dinovitg_mean_train_mape, dinovitg_mean_test_mape])\n"
   ]
  },
  {
   "cell_type": "code",
   "execution_count": null,
   "id": "uyIWxCrRxGkw",
   "metadata": {
    "colab": {
     "base_uri": "https://localhost:8080/"
    },
    "executionInfo": {
     "elapsed": 141491,
     "status": "ok",
     "timestamp": 1734568841929,
     "user": {
      "displayName": "Sheila Whitman",
      "userId": "11834864190234586210"
     },
     "user_tz": 420
    },
    "id": "uyIWxCrRxGkw",
    "outputId": "630c75e0-d8d2-4c7d-a009-e44345c49e10"
   },
   "outputs": [],
   "source": [
    "print ('SAM')\n",
    "sam_concat_score, sam_concat_components = pr_pc(x_0_concat_sam,y_0_concat_sam)\n",
    "sam_mean_score, sam_mean_components = pr_pc(x_0_mean_sam,y_0_mean_sam)"
   ]
  },
  {
   "cell_type": "code",
   "execution_count": null,
   "id": "fZR22pUBWjII",
   "metadata": {
    "colab": {
     "base_uri": "https://localhost:8080/"
    },
    "executionInfo": {
     "elapsed": 2652,
     "status": "ok",
     "timestamp": 1734568857047,
     "user": {
      "displayName": "Sheila Whitman",
      "userId": "11834864190234586210"
     },
     "user_tz": 420
    },
    "id": "fZR22pUBWjII",
    "outputId": "f2e04436-1f85-4a61-dcbb-ff202c5f5eb4"
   },
   "outputs": [],
   "source": [
    "#SAM\n",
    "\n",
    "print ('SAM Model Concatenated with ', sam_concat_components, ' components')\n",
    "sam_concat_train_mape, sam_concat_test_mape = pr(x_0_concat_sam, y_0_concat_sam, x_test_concat_sam, y_test_concat_sam, sam_concat_components)\n",
    "print ('SAM Model Mean with ', sam_mean_components, ' components')\n",
    "sam_mean_train_mape, sam_mean_test_mape= pr(x_0_mean_sam, y_0_mean_sam, x_test_mean_sam, y_test_mean_sam, sam_mean_components)\n",
    "\n",
    "\n",
    "path = '/content/drive/MyDrive/11_12/12_10_Digital_Results/sam_concat_pr_' + str(sam_concat_components) + '.npy'\n",
    "np.save(path, [sam_concat_train_mape, sam_concat_test_mape])\n",
    "path = '/content/drive/MyDrive/11_12/12_10_Digital_Results/sam_mean_pr_' + str(sam_mean_components) + '.npy'\n",
    "np.save(path, [sam_mean_train_mape, sam_mean_test_mape])"
   ]
  },
  {
   "cell_type": "code",
   "execution_count": null,
   "id": "f3SRAwYaXZDq",
   "metadata": {
    "colab": {
     "base_uri": "https://localhost:8080/"
    },
    "executionInfo": {
     "elapsed": 227342,
     "status": "ok",
     "timestamp": 1734569321097,
     "user": {
      "displayName": "Sheila Whitman",
      "userId": "11834864190234586210"
     },
     "user_tz": 420
    },
    "id": "f3SRAwYaXZDq",
    "outputId": "fa65c981-35c9-4b05-fc98-ae170f903859"
   },
   "outputs": [],
   "source": [
    "print ('Two Point')\n",
    "tp_concat_score, tp_concat_components = pr_pc(x_0_concat_tp,y_0_concat_tp)\n",
    "tp_mean_score, tp_mean_components = pr_pc(x_0_mean_tp,y_0_mean_tp)\n"
   ]
  },
  {
   "cell_type": "code",
   "execution_count": null,
   "id": "J8NzTTNZYFYj",
   "metadata": {
    "colab": {
     "base_uri": "https://localhost:8080/"
    },
    "executionInfo": {
     "elapsed": 236890,
     "status": "ok",
     "timestamp": 1734571006073,
     "user": {
      "displayName": "Sheila Whitman",
      "userId": "11834864190234586210"
     },
     "user_tz": 420
    },
    "id": "J8NzTTNZYFYj",
    "outputId": "ddde0103-2594-4966-8c10-e45608ed45b9"
   },
   "outputs": [],
   "source": [
    "# #Two Point\n",
    "print ('Two Point Model Concatenated with ', tp_concat_components, ' components')\n",
    "tp_concat_train_mape, tp_concat_test_mape = pr(x_0_concat_tp, y_0_concat_tp, \\\n",
    "                                                                    x_test_concat_tp, y_test_concat_tp, tp_concat_components)\n",
    "print ('Two Point Model Mean with ', tp_mean_components, ' components')\n",
    "tp_mean_train_mape, tp_mean_test_mape= pr(x_0_mean_tp, y_0_mean_tp, \\\n",
    "                                                                    x_test_mean_tp, y_test_mean_tp, tp_mean_components)\n",
    "print ('Two Point')\n",
    "path = '/content/drive/MyDrive/11_12/12_10_Digital_Results/tp_concat_pr_' + str(tp_concat_components) + '.npy'\n",
    "np.save(path, [tp_concat_train_mape, tp_concat_test_mape])\n",
    "path = '/content/drive/MyDrive/11_12/12_10_Digital_Results/tp_mean_pr_' + str(tp_mean_components) + '.npy'\n",
    "np.save(path, [tp_mean_train_mape, tp_mean_test_mape])"
   ]
  },
  {
   "cell_type": "code",
   "execution_count": null,
   "id": "3MqpAgvPuXLz",
   "metadata": {
    "colab": {
     "base_uri": "https://localhost:8080/"
    },
    "executionInfo": {
     "elapsed": 532167,
     "status": "ok",
     "timestamp": 1733852727899,
     "user": {
      "displayName": "Sheila Whitman",
      "userId": "11834864190234586210"
     },
     "user_tz": 420
    },
    "id": "3MqpAgvPuXLz",
    "outputId": "7e90d04c-4287-4b90-9829-6d09aad22087"
   },
   "outputs": [],
   "source": [
    "print ('NASA')\n",
    "nasa_concat_score, nasa_concat_components = pr_pc(x_0_concat_nasa,y_0_concat_nasa)\n",
    "nasa_mean_score, nasa_mean_components = pr_pc(x_0_mean_nasa,y_0_mean_nasa)\n"
   ]
  },
  {
   "cell_type": "code",
   "execution_count": null,
   "id": "9YN3W9UVpT-l",
   "metadata": {
    "colab": {
     "base_uri": "https://localhost:8080/"
    },
    "executionInfo": {
     "elapsed": 189533,
     "status": "ok",
     "timestamp": 1733853829660,
     "user": {
      "displayName": "Sheila Whitman",
      "userId": "11834864190234586210"
     },
     "user_tz": 420
    },
    "id": "9YN3W9UVpT-l",
    "outputId": "2bfe6d4a-5da3-4d0f-8dae-dab278411ef9"
   },
   "outputs": [],
   "source": [
    "# Second Order Polynomial Regression Best Results\n",
    "\n",
    "#NASA\n",
    "print ('CNN Model Concatenated with ', nasa_concat_components, ' components')\n",
    "nasa_concat_train_mape, nasa_concat_test_mape = pr(x_0_concat_nasa, y_0_concat_nasa, \\\n",
    "                                                                    x_test_concat_nasa, y_test_concat_nasa, nasa_concat_components)\n",
    "print ('CNN Model Mean with ', nasa_mean_components, ' components')\n",
    "nasa_mean_train_mape, nasa_mean_test_mape= pr(x_0_mean_nasa, y_0_mean_nasa, \\\n",
    "                                                                    x_test_mean_nasa, y_test_mean_nasa, nasa_mean_components)\n",
    "print ('NASA')\n",
    "path = '/content/drive/MyDrive/11_12/12_10_Digital_Results/nasa_concat_pr_' + str(nasa_concat_components) + '.npy'\n",
    "np.save(path, [nasa_concat_train_mape, nasa_concat_test_mape])\n",
    "path = '/content/drive/MyDrive/11_12/12_10_Digital_Results/nasa_mean_pr_' + str(nasa_mean_components) + '.npy'\n",
    "np.save(path, [nasa_mean_train_mape, nasa_mean_test_mape])\n"
   ]
  },
  {
   "cell_type": "code",
   "execution_count": null,
   "id": "cz-X6jQaGNfR",
   "metadata": {
    "id": "cz-X6jQaGNfR"
   },
   "outputs": [],
   "source": [
    "# Find Best PCs for linear regression\n",
    "\n",
    "def lr_pc(x_0,y_0):\n",
    "\n",
    "    x_train,x_val,y_train,y_val = train_test_split(x_0,y_0, test_size=0.2, random_state=32)\n",
    "\n",
    "    pca = PCA(\n",
    "        svd_solver='full',\n",
    "        n_components=100,\n",
    "        random_state=10\n",
    "    ).fit(x_train)\n",
    "\n",
    "\n",
    "    x_train_red = pca.transform(x_train)\n",
    "    x_val_red = pca.transform(x_val)\n",
    "\n",
    "    best_score = float('inf')\n",
    "    best_n_components = None\n",
    "    for n_components in range(1, 51):\n",
    "        x_train_reduced = x_train_red[:, :n_components]\n",
    "        x_val_reduced = x_val_red[:, :n_components]\n",
    "\n",
    "        lr = LinearRegression()\n",
    "        lr.fit(x_train_reduced, y_train)\n",
    "\n",
    "\n",
    "        y_train_pred = lr.predict(x_train_reduced)\n",
    "        y_pred = lr.predict(x_val_reduced)\n",
    "\n",
    "        train_score = MAPE(y_train,y_train_pred)\n",
    "        val_score = MAPE(y_val,y_pred)\n",
    "\n",
    "        print(f\"Comp: {n_components}, MAPE Train Score: {train_score:.3f}, MAPE Val Score: {val_score:.3f}\")\n",
    "\n",
    "\n",
    "        if val_score < best_score:\n",
    "            best_score = val_score\n",
    "            best_n_components = n_components\n",
    "\n",
    "    print(f\"Best Comps: {best_n_components}, MAPE Val Score: {best_score:.3f}\")\n",
    "\n",
    "    return best_score, best_n_components\n",
    "\n"
   ]
  },
  {
   "cell_type": "code",
   "execution_count": null,
   "id": "7FRl0b4ByKaT",
   "metadata": {
    "id": "7FRl0b4ByKaT"
   },
   "outputs": [],
   "source": [
    "# Running best models for linear regression\n",
    "\n",
    "def lr(x_train,y_train,x_test,y_test,n):\n",
    "\n",
    "    pca = PCA(\n",
    "        svd_solver='full',\n",
    "        n_components=n,\n",
    "        random_state=10\n",
    "    ).fit(x_train)\n",
    "\n",
    "\n",
    "    x_train_red = pca.transform(x_train)\n",
    "    x_test_red = pca.transform(x_test)\n",
    "\n",
    "    lr = LinearRegression()\n",
    "    lr.fit(x_train_red, y_train)\n",
    "\n",
    "    y_pred_train = lr.predict(x_train_red)\n",
    "    y_pred_test = lr.predict(x_test_red)\n",
    "\n",
    "    train_score = MAPE(y_train,y_pred_train)\n",
    "    test_score = MAPE(y_test,y_pred_test)\n",
    "\n",
    "    print(f\"Train: {train_score:.3f}, Test: {test_score:.3f}\")\n",
    "\n",
    "    return train_score, test_score\n",
    "\n"
   ]
  },
  {
   "cell_type": "code",
   "execution_count": null,
   "id": "0acJqUx8wHPs",
   "metadata": {
    "colab": {
     "base_uri": "https://localhost:8080/"
    },
    "executionInfo": {
     "elapsed": 58050,
     "status": "ok",
     "timestamp": 1733854153507,
     "user": {
      "displayName": "Sheila Whitman",
      "userId": "11834864190234586210"
     },
     "user_tz": 420
    },
    "id": "0acJqUx8wHPs",
    "outputId": "0a9edb38-a0bc-427e-912c-4fa848eea241"
   },
   "outputs": [],
   "source": [
    "#CLIP\n",
    "\n",
    "print ('Clip B16')\n",
    "clipvitb16_concat_lr, clipvitb16_concat_lr_components = lr_pc(x_0_concat_clipvitb16,y_0_concat_clipvitb16)\n",
    "clipvitb16_mean_lr, clipvitb16_mean_lr_components = lr_pc(x_0_mean_clipvitb16,y_0_mean_clipvitb16)\n",
    "\n",
    "print ('Clip B32')\n",
    "clipvitb32_concat_lr, clipvitb32_concat_lr_components = lr_pc(x_0_concat_clipvitb32,y_0_concat_clipvitb32)\n",
    "clipvitb32_mean_lr, clipvitb32_mean_lr_components = lr_pc(x_0_mean_clipvitb32,y_0_mean_clipvitb32)\n",
    "\n",
    "print ('Clip L14')\n",
    "clipvitl14_concat_lr, clipvitl14_concat_lr_components = lr_pc(x_0_concat_clipvitl14,y_0_concat_clipvitl14)\n",
    "clipvitl14_mean_lr, clipvitl14_mean_lr_components = lr_pc(x_0_mean_clipvitl14,y_0_mean_clipvitl14)"
   ]
  },
  {
   "cell_type": "code",
   "execution_count": null,
   "id": "YvIIDvJlx2P2",
   "metadata": {
    "colab": {
     "base_uri": "https://localhost:8080/"
    },
    "executionInfo": {
     "elapsed": 60877,
     "status": "ok",
     "timestamp": 1733855088844,
     "user": {
      "displayName": "Sheila Whitman",
      "userId": "11834864190234586210"
     },
     "user_tz": 420
    },
    "id": "YvIIDvJlx2P2",
    "outputId": "bdae9836-0d5d-4a86-8120-8aaabf9c8d29"
   },
   "outputs": [],
   "source": [
    "# Linear Regression Best Results\n",
    "\n",
    "#CLIP\n",
    "print ('Clip VITB16 Model Concatenated with ', clipvitb16_concat_lr_components, ' components')\n",
    "clipvitb16_concat_train_lr, clipvitb16_concat_test_lr = lr(x_0_concat_clipvitb16, y_0_concat_clipvitb16, \\\n",
    "                                                                    x_test_concat_clipvitb16, y_test_concat_clipvitb16, clipvitb16_concat_lr_components)\n",
    "print ('Clip VITB16 Model Mean with ', clipvitb16_mean_lr_components, ' components')\n",
    "clipvitb16_mean_train_lr, clipvitb16_mean_test_lr= lr(x_0_mean_clipvitb16, y_0_mean_clipvitb16, \\\n",
    "                                                                    x_test_mean_clipvitb16, y_test_mean_clipvitb16, clipvitb16_mean_lr_components)\n",
    "print ('Clip VITB32 Model Concatenated with ', clipvitb32_concat_lr_components, ' components')\n",
    "clipvitb32_concat_train_lr, clipvitb32_concat_test_lr = lr(x_0_concat_clipvitb32, y_0_concat_clipvitb32, \\\n",
    "                                                                    x_test_concat_clipvitb32, y_test_concat_clipvitb32, clipvitb32_concat_lr_components)\n",
    "print ('Clip VITB32 Model Mean with ', clipvitb32_mean_lr_components, ' components')\n",
    "clipvitb32_mean_train_lr, clipvitb32_mean_test_lr = lr(x_0_mean_clipvitb32, y_0_mean_clipvitb32, \\\n",
    "                                                                    x_test_mean_clipvitb32, y_test_mean_clipvitb32, clipvitb32_mean_lr_components)\n",
    "print ('Clip VITL14 Model Concatenated with ', clipvitl14_concat_lr_components, ' components')\n",
    "clipvitl14_concat_train_lr, clipvitl14_concat_test_lr = lr(x_0_concat_clipvitl14, y_0_concat_clipvitl14, \\\n",
    "                                                                    x_test_concat_clipvitl14, y_test_concat_clipvitl14, clipvitl14_concat_lr_components)\n",
    "print ('Clip VITL14 Model Mean with ', clipvitl14_mean_lr_components, ' components')\n",
    "clipvitl14_mean_train_lr, clipvitl14_mean_test_lr = lr(x_0_mean_clipvitl14, y_0_mean_clipvitl14, \\\n",
    "                                                                    x_test_mean_clipvitl14, y_test_mean_clipvitl14, clipvitl14_mean_lr_components)\n",
    "\n",
    "\n",
    "print ('CLIP VITB16')\n",
    "path = '/content/drive/MyDrive/11_12/12_10_Digital_Results/clip_vitb16_concat_lr_' + str(clipvitb16_concat_lr_components) + '.npy'\n",
    "np.save(path, [clipvitb16_concat_train_lr, clipvitb16_concat_test_lr])\n",
    "path = '/content/drive/MyDrive/11_12/12_10_Digital_Results/clip_vitb16_mean_lr_' + str(clipvitb16_mean_lr_components) + '.npy'\n",
    "np.save(path, [clipvitb16_mean_train_lr, clipvitb16_mean_test_lr])\n",
    "\n",
    "print ('CLIP VITB32')\n",
    "path = '/content/drive/MyDrive/11_12/12_10_Digital_Results/clip_vitb32_concat_lr_' + str(clipvitb32_concat_lr_components) + '.npy'\n",
    "np.save(path, [clipvitb32_concat_train_lr, clipvitb32_concat_test_lr])\n",
    "path = '/content/drive/MyDrive/11_12/12_10_Digital_Results/clip_vitb32_mean_lr_' + str(clipvitb32_mean_lr_components) + '.npy'\n",
    "np.save(path, [clipvitb32_mean_train_lr, clipvitb32_mean_test_lr])\n",
    "\n",
    "print ('CLIP VITL14')\n",
    "path = '/content/drive/MyDrive/11_12/12_10_Digital_Results/clip_vitl14_concat_lr_' + str(clipvitl14_concat_lr_components) + '.npy'\n",
    "np.save(path, [clipvitl14_concat_train_lr, clipvitl14_concat_test_lr])\n",
    "path = '/content/drive/MyDrive/11_12/12_10_Digital_Results/clip_vitl14_mean_lr_' + str(clipvitl14_mean_lr_components) + '.npy'\n",
    "np.save(path, [clipvitl14_mean_train_lr, clipvitl14_mean_test_lr])\n"
   ]
  },
  {
   "cell_type": "code",
   "execution_count": null,
   "id": "55_3Oqys0Rmu",
   "metadata": {
    "colab": {
     "base_uri": "https://localhost:8080/"
    },
    "executionInfo": {
     "elapsed": 94513,
     "status": "ok",
     "timestamp": 1733855255892,
     "user": {
      "displayName": "Sheila Whitman",
      "userId": "11834864190234586210"
     },
     "user_tz": 420
    },
    "id": "55_3Oqys0Rmu",
    "outputId": "9eb9a599-8c2a-4a9e-9502-2c2f70b2e2df"
   },
   "outputs": [],
   "source": [
    "#Dino\n",
    "print ('Small')\n",
    "dinovits_concat_lr, dinovits_concat_lr_components = lr_pc(x_0_concat_dinovits,y_0_concat_dinovits)\n",
    "dinovits_mean_lr, dinovits_mean_lr_components = lr_pc(x_0_mean_dinovits,y_0_mean_dinovits)\n",
    "\n",
    "print ('Base')\n",
    "dinovitb_concat_lr, dinovitb_concat_lr_components = lr_pc(x_0_concat_dinovitb,y_0_concat_dinovitb)\n",
    "dinovitb_mean_lr, dinovitb_mean_lr_components = lr_pc(x_0_mean_dinovitb,y_0_mean_dinovitb)\n",
    "\n",
    "print ('Large')\n",
    "dinovitl_concat_lr, dinovitl_concat_lr_components = lr_pc(x_0_concat_dinovitl,y_0_concat_dinovitl)\n",
    "dinovitl_mean_lr, dinovitl_mean_lr_components = lr_pc(x_0_mean_dinovitl,y_0_mean_dinovitl)\n",
    "\n",
    "print ('Giant')\n",
    "dinovitg_concat_lr, dinovitg_concat_lr_components = lr_pc(x_0_concat_dinovitg,y_0_concat_dinovitg)\n",
    "dinovitg_mean_lr, dinovitg_mean_lr_components = lr_pc(x_0_mean_dinovitg,y_0_mean_dinovitg)"
   ]
  },
  {
   "cell_type": "code",
   "execution_count": null,
   "id": "xsvLouPq1pLi",
   "metadata": {
    "colab": {
     "base_uri": "https://localhost:8080/"
    },
    "executionInfo": {
     "elapsed": 112572,
     "status": "ok",
     "timestamp": 1733855814970,
     "user": {
      "displayName": "Sheila Whitman",
      "userId": "11834864190234586210"
     },
     "user_tz": 420
    },
    "id": "xsvLouPq1pLi",
    "outputId": "a0902732-fa66-424c-841c-1ccf13489d92"
   },
   "outputs": [],
   "source": [
    "# Second Order Polynomial Regression Best Results\n",
    "\n",
    "#DINO\n",
    "print ('Dino VitS Model Concatenated with ', dinovits_concat_lr_components, ' components')\n",
    "dinovits_concat_train_lr, dinovits_concat_test_lr = lr(x_0_concat_dinovits, y_0_concat_dinovits, \\\n",
    "                                                                    x_test_concat_dinovits, y_test_concat_dinovits, dinovits_concat_lr_components)\n",
    "print ('Dino VitS Model Mean with ', dinovits_mean_lr_components, ' components')\n",
    "dinovits_mean_train_lr, dinovits_mean_test_lr = lr(x_0_mean_dinovits, y_0_mean_dinovits, \\\n",
    "                                                                    x_test_mean_dinovits, y_test_mean_dinovits, dinovits_mean_lr_components)\n",
    "print ('Dino VitB Model Concatenated with ', dinovitb_concat_lr_components, ' components')\n",
    "dinovitb_concat_train_lr, dinovitb_concat_test_lr = lr(x_0_concat_dinovitb, y_0_concat_dinovitb, \\\n",
    "                                                                    x_test_concat_dinovitb, y_test_concat_dinovitb, dinovitb_concat_lr_components)\n",
    "print ('Dino VitB Model Mean with ', dinovitb_mean_lr_components, ' components')\n",
    "dinovitb_mean_train_lr, dinovitb_mean_test_lr = lr(x_0_mean_dinovitb, y_0_mean_dinovitb, \\\n",
    "                                                                    x_test_mean_dinovitb, y_test_mean_dinovitb, dinovitb_mean_lr_components)\n",
    "print ('Dino VitL Model Concatenated with ', dinovitl_concat_lr_components, ' components')\n",
    "dinovitl_concat_train_lr, dinovitl_concat_test_lr = lr(x_0_concat_dinovitl, y_0_concat_dinovitl, \\\n",
    "                                                                    x_test_concat_dinovitl, y_test_concat_dinovitl, dinovitl_concat_lr_components)\n",
    "print ('Dino VitL Model Mean with ', dinovitl_mean_lr_components, ' components')\n",
    "dinovitl_mean_train_lr, dinovitl_mean_test_lr = lr(x_0_mean_dinovitl, y_0_mean_dinovitl, \\\n",
    "                                                                    x_test_mean_dinovitl, y_test_mean_dinovitl, dinovitl_mean_lr_components)\n",
    "print ('Dino VitG Model Concatenated with ', dinovitg_concat_lr_components, ' components')\n",
    "dinovitg_concat_train_lr, dinovitg_concat_test_lr = lr(x_0_concat_dinovitg, y_0_concat_dinovitg, \\\n",
    "                                                                    x_test_concat_dinovitg, y_test_concat_dinovitg, dinovitg_concat_lr_components)\n",
    "print ('Dino VitG Model Mean with ', dinovitg_mean_lr_components, ' components')\n",
    "dinovitg_mean_train_lr, dinovitg_mean_test_lr = lr(x_0_mean_dinovitg, y_0_mean_dinovitg, \\\n",
    "                                                                    x_test_mean_dinovitg, y_test_mean_dinovitg, dinovitg_mean_lr_components)\n",
    "\n",
    "\n",
    "print ('DINO VitS')\n",
    "path = '/content/drive/MyDrive/11_12/12_10_Digital_Results/dino_vits_concat_lr_' + str(dinovits_concat_lr_components) + '.npy'\n",
    "np.save(path, [dinovits_concat_train_lr, dinovits_concat_test_lr])\n",
    "path = '/content/drive/MyDrive/11_12/12_10_Digital_Results/dino_vits_mean_lr_' + str(dinovits_mean_lr_components) + '.npy'\n",
    "np.save(path, [dinovits_mean_train_lr, dinovits_mean_test_lr])\n",
    "print ('DINO VitB')\n",
    "path = '/content/drive/MyDrive/11_12/12_10_Digital_Results/dino_vitb_concat_lr_' + str(dinovitb_concat_lr_components) + '.npy'\n",
    "np.save(path, [dinovitb_concat_train_lr, dinovitb_concat_test_lr])\n",
    "path = '/content/drive/MyDrive/11_12/12_10_Digital_Results/dino_vitb_mean_lr_' + str(dinovitb_mean_lr_components) + '.npy'\n",
    "np.save(path, [dinovitb_mean_train_lr, dinovitb_mean_test_lr])\n",
    "print ('DINO VitL')\n",
    "path = '/content/drive/MyDrive/11_12/12_10_Digital_Results/dino_vitl_concat_lr_' + str(dinovitl_concat_lr_components) + '.npy'\n",
    "np.save(path, [dinovitl_concat_train_lr, dinovitl_concat_test_lr])\n",
    "path = '/content/drive/MyDrive/11_12/12_10_Digital_Results/dino_vitl_mean_lr_' + str(dinovitl_mean_lr_components) + '.npy'\n",
    "np.save(path, [dinovitl_mean_train_lr, dinovitl_mean_test_lr])\n",
    "print ('DINO VitG')\n",
    "path = '/content/drive/MyDrive/11_12/12_10_Digital_Results/dino_vitg_concat_lr_' + str(dinovitg_concat_lr_components) + '.npy'\n",
    "np.save(path, [dinovitg_concat_train_lr, dinovitg_concat_test_lr])\n",
    "path = '/content/drive/MyDrive/11_12/12_10_Digital_Results/dino_vitg_mean_lr_' + str(dinovitg_mean_lr_components) + '.npy'\n",
    "np.save(path, [dinovitg_mean_train_lr, dinovitg_mean_test_lr])\n"
   ]
  },
  {
   "cell_type": "code",
   "execution_count": null,
   "id": "yYeunNBD3T5L",
   "metadata": {
    "colab": {
     "base_uri": "https://localhost:8080/"
    },
    "executionInfo": {
     "elapsed": 242525,
     "status": "ok",
     "timestamp": 1733856164547,
     "user": {
      "displayName": "Sheila Whitman",
      "userId": "11834864190234586210"
     },
     "user_tz": 420
    },
    "id": "yYeunNBD3T5L",
    "outputId": "9408af65-4004-4cf4-e4fc-fc93e68960f5"
   },
   "outputs": [],
   "source": [
    "print ('NASA')\n",
    "nasa_concat_lr, nasa_concat_lr_components = lr_pc(x_0_concat_nasa,y_0_concat_nasa)\n",
    "nasa_mean_lr, nasa_mean_lr_components = lr_pc(x_0_mean_nasa,y_0_mean_nasa)\n",
    "\n",
    "print ('Two Point')\n",
    "tp_concat_lr, tp_concat_lr_components = lr_pc(x_0_concat_tp,y_0_concat_tp)\n",
    "tp_mean_lr, tp_mean_lr_components = lr_pc(x_0_mean_tp,y_0_mean_tp)"
   ]
  },
  {
   "cell_type": "code",
   "execution_count": null,
   "id": "ar_EfTMXaVJi",
   "metadata": {
    "colab": {
     "base_uri": "https://localhost:8080/"
    },
    "executionInfo": {
     "elapsed": 240864,
     "status": "ok",
     "timestamp": 1734570741712,
     "user": {
      "displayName": "Sheila Whitman",
      "userId": "11834864190234586210"
     },
     "user_tz": 420
    },
    "id": "ar_EfTMXaVJi",
    "outputId": "96113b91-e45b-4f2f-b10c-255d9fbe8144"
   },
   "outputs": [],
   "source": [
    "\n",
    "# #Two Point\n",
    "print ('Two Point Model Concatenated with ', tp_concat_lr_components, ' components')\n",
    "tp_concat_train_lr, tp_concat_test_lr = lr(x_0_concat_tp, y_0_concat_tp, \\\n",
    "                                                                    x_test_concat_tp, y_test_concat_tp, tp_concat_lr_components)\n",
    "print ('Two Point Model Mean with ', tp_mean_components, ' components')\n",
    "tp_mean_train_lr, tp_mean_test_lr= lr(x_0_mean_tp, y_0_mean_tp, \\\n",
    "                                                                    x_test_mean_tp, y_test_mean_tp, tp_mean_lr_components)\n",
    "print ('Two Point')\n",
    "path = '/content/drive/MyDrive/11_12/12_10_Digital_Results/tp_concat_lr_' + str(tp_concat_lr_components) + '.npy'\n",
    "np.save(path, [tp_concat_train_lr, tp_concat_test_lr])\n",
    "path = '/content/drive/MyDrive/11_12/12_10_Digital_Results/tp_mean_lr_' + str(tp_mean_lr_components) + '.npy'\n",
    "np.save(path, [tp_mean_train_lr, tp_mean_test_lr])"
   ]
  },
  {
   "cell_type": "code",
   "execution_count": null,
   "id": "sj9wH4C-6Ytz",
   "metadata": {
    "colab": {
     "base_uri": "https://localhost:8080/"
    },
    "executionInfo": {
     "elapsed": 103055,
     "status": "ok",
     "timestamp": 1733856864713,
     "user": {
      "displayName": "Sheila Whitman",
      "userId": "11834864190234586210"
     },
     "user_tz": 420
    },
    "id": "sj9wH4C-6Ytz",
    "outputId": "44fb6d6b-32ad-406b-bca3-b533cbe0b2bd"
   },
   "outputs": [],
   "source": [
    "# Linear Regression Best Results\n",
    "\n",
    "#NASA\n",
    "print ('CNN Model Concatenated with ', nasa_concat_lr_components, ' components')\n",
    "nasa_concat_train_lr, nasa_concat_test_lr = lr(x_0_concat_nasa, y_0_concat_nasa, \\\n",
    "                                                                    x_test_concat_nasa, y_test_concat_nasa, nasa_concat_lr_components)\n",
    "print ('CNN Model Mean with ', nasa_mean_lr_components, ' components')\n",
    "nasa_mean_train_lr, nasa_mean_test_lr = lr(x_0_mean_nasa, y_0_mean_nasa, \\\n",
    "                                                                    x_test_mean_nasa, y_test_mean_nasa, nasa_mean_lr_components)\n",
    "print ('NASA')\n",
    "path = '/content/drive/MyDrive/11_12/12_10_Digital_Results/nasa_concat_lr_' + str(nasa_concat_lr_components) + '.npy'\n",
    "np.save(path, [nasa_concat_train_lr, nasa_concat_test_lr])\n",
    "path = '/content/drive/MyDrive/11_12/12_10_Digital_Results/nasa_mean_lr_' + str(nasa_mean_lr_components) + '.npy'\n",
    "np.save(path, [nasa_mean_train_lr, nasa_mean_test_lr])\n"
   ]
  },
  {
   "cell_type": "code",
   "execution_count": null,
   "id": "zFB78bDpmlx6",
   "metadata": {
    "colab": {
     "background_save": true
    },
    "id": "zFB78bDpmlx6",
    "outputId": "6e6b410a-669f-4231-c1c8-44066951ad5b"
   },
   "outputs": [],
   "source": [
    "print ('SAM')\n",
    "sam_concat_lr,sam_concat_lr_components = lr_pc(x_0_concat_sam,y_0_concat_sam)\n",
    "sam_mean_lr, sam_mean_lr_components = lr_pc(x_0_mean_sam,y_0_mean_sam)"
   ]
  },
  {
   "cell_type": "code",
   "execution_count": null,
   "id": "5hFCo5zf03cO",
   "metadata": {
    "id": "5hFCo5zf03cO"
   },
   "outputs": [],
   "source": [
    "# Linear Regression Best Results\n",
    "\n",
    "#SAM\n",
    "print ('SAM Model Concatenated with ', sam_concat_lr_components, ' components')\n",
    "sam_concat_train_lr, sam_concat_test_lr = lr(x_0_concat_sam, y_0_concat_sam, \\\n",
    "                                                                    x_test_concat_sam, y_test_concat_sam, sam_concat_lr_components)\n",
    "print ('SAM Model Mean with ', sam_mean_lr_components, ' components')\n",
    "sam_mean_train_lr, sam_mean_test_lr = lr(x_0_mean_sam, y_0_mean_sam, \\\n",
    "                                                                    x_test_mean_sam, y_test_mean_sam, sam_mean_lr_components)\n",
    "print ('SAM')\n",
    "path = '/content/drive/MyDrive/11_12/12_10_Digital_Results/sam_concat_lr_' + str(sam_concat_lr_components) + '.npy'\n",
    "np.save(path, [sam_concat_train_lr, sam_concat_test_lr])\n",
    "path = '/content/drive/MyDrive/11_12/12_10_Digital_Results/sam_mean_lr_' + str(sam_mean_lr_components) + '.npy'\n",
    "np.save(path, [sam_mean_train_lr, sam_mean_test_lr])"
   ]
  },
  {
   "cell_type": "code",
   "execution_count": null,
   "id": "vYwW-vTf03fV",
   "metadata": {
    "id": "vYwW-vTf03fV"
   },
   "outputs": [],
   "source": [
    "def screeplot(X,y,n=10,order=3,scree=True,name=\"\"):\n",
    "\n",
    "    pca = PCA(\n",
    "        svd_solver='full',\n",
    "        n_components=30,\n",
    "        random_state=10\n",
    "    ).fit(X)\n",
    "\n",
    "    #Calculate cumulative explained variance\n",
    "    cumulative_variance = np.cumsum(pca.explained_variance_ratio_)\n",
    "\n",
    "    # Find the number of components explaining 90% variance\n",
    "    n_components_90 = np.argmax(cumulative_variance >= 0.90) + 1\n",
    "\n",
    "    print(n_components_90)\n",
    "    components = np.linspace(1,30,30)\n",
    "\n",
    "\n",
    "    xs = [1,5,10,15,20,25,30]\n",
    "\n",
    "    print (components)\n",
    "    if scree:\n",
    "        fig = plt.figure()\n",
    "        plt.stem(components + 0.2, np.cumsum(pca.explained_variance_ratio_),linefmt = '#52B5F9', label = \"Cumulative Explained Variance\")# linefmt=f'{color}-', markerfmt=f'{color}o', basefmt='k')  # 'k' is for black color for the baseline\n",
    "        #plt.plot(np.cumsum(pca.explained_variance_ratio_))\n",
    "        plt.stem(components - 0.2, pca.explained_variance_ratio_, linefmt = '#EA334B', label = \"Explained Variance\")\n",
    "        plt.xlabel('Number of Components', fontsize = 18)\n",
    "        plt.ylabel('Explained Variance', fontsize = 18)\n",
    "        plt.ylim(0,1)\n",
    "        plt.xlim(0.5,30.5)\n",
    "        plt.xticks(xs)\n",
    "        #plt.title('Scree Plot')\n",
    "        #plt.legend()\n",
    "        #plt.grid()\n",
    "    #plt.save('Scree.pdf')\n",
    "        fig.savefig(name, bbox_inches='tight')\n",
    "    plt.show()\n",
    "\n",
    "    return"
   ]
  },
  {
   "cell_type": "code",
   "execution_count": null,
   "id": "p0MEZTQ26oCt",
   "metadata": {
    "id": "p0MEZTQ26oCt"
   },
   "outputs": [],
   "source": [
    "def pcaplot(X,y,name):\n",
    "\n",
    "    pca = PCA(\n",
    "        svd_solver='full',\n",
    "        n_components=2,\n",
    "        random_state=10\n",
    "    ).fit(X)\n",
    "\n",
    "    x_tran = pca.transform(X)\n",
    "    fig = plt.figure()\n",
    "    plt.scatter(x_tran[:,0], x_tran[:,1], c = frac, cmap = 'YlGnBu', vmin=0, vmax=1) #'ocean_r'\n",
    "    cbar = plt.colorbar()\n",
    "    #cbar.set_clim(0, 1)\n",
    "    fig.savefig(name, bbox_inches='tight')\n",
    "    plt.show()\n"
   ]
  },
  {
   "cell_type": "code",
   "execution_count": null,
   "id": "EbK3I_Em03hu",
   "metadata": {
    "colab": {
     "base_uri": "https://localhost:8080/",
     "height": 514
    },
    "executionInfo": {
     "elapsed": 16144,
     "status": "ok",
     "timestamp": 1736272755945,
     "user": {
      "displayName": "Sheila Whitman",
      "userId": "11834864190234586210"
     },
     "user_tz": 420
    },
    "id": "EbK3I_Em03hu",
    "outputId": "0c57df66-2fea-4931-e005-9b27b1f659ca"
   },
   "outputs": [],
   "source": [
    "screeplot(clip_vitb16_concat_features,y, name = \"Scree_clip.pdf\")"
   ]
  },
  {
   "cell_type": "code",
   "execution_count": null,
   "id": "SC1sfF4k4dmS",
   "metadata": {
    "colab": {
     "base_uri": "https://localhost:8080/",
     "height": 514
    },
    "executionInfo": {
     "elapsed": 243703,
     "status": "ok",
     "timestamp": 1736273053306,
     "user": {
      "displayName": "Sheila Whitman",
      "userId": "11834864190234586210"
     },
     "user_tz": 420
    },
    "id": "SC1sfF4k4dmS",
    "outputId": "00337665-f41d-4a15-c8b5-145c785dd665"
   },
   "outputs": [],
   "source": [
    "screeplot(twopoint_concat_features, y, name = \"Scree_tp.pdf\")"
   ]
  },
  {
   "cell_type": "code",
   "execution_count": null,
   "id": "Uatv5d399sek",
   "metadata": {
    "colab": {
     "base_uri": "https://localhost:8080/"
    },
    "executionInfo": {
     "elapsed": 3554,
     "status": "ok",
     "timestamp": 1736273485556,
     "user": {
      "displayName": "Sheila Whitman",
      "userId": "11834864190234586210"
     },
     "user_tz": 420
    },
    "id": "Uatv5d399sek",
    "outputId": "885d5c8e-6985-40af-e49f-36411a9ae781"
   },
   "outputs": [],
   "source": [
    "frac = []\n",
    "\n",
    "for i in range(0,len(xx_bin)):\n",
    "  count_ones_xx = np.count_nonzero(xx_bin[i] == 1)\n",
    "  count_ones_xy = np.count_nonzero(xy_bin[i] == 1)\n",
    "  count_ones_xz = np.count_nonzero(xz_bin[i] == 1)\n",
    "  count_zeros_xx = np.count_nonzero(xx_bin[i] == 0)\n",
    "  count_zeros_xy = np.count_nonzero(xy_bin[i] == 0)\n",
    "  count_zeros_xz = np.count_nonzero(xz_bin[i] == 0)\n",
    "  tot_count_ones = count_ones_xx + count_ones_xy + count_ones_xz\n",
    "  tot_count_zeros = count_zeros_xx + count_zeros_xy + count_zeros_xz\n",
    "  print (tot_count_ones/(tot_count_ones + tot_count_zeros))\n",
    "  frac.append(tot_count_ones/(tot_count_ones + tot_count_zeros))"
   ]
  },
  {
   "cell_type": "code",
   "execution_count": null,
   "id": "MezRLjH19JLO",
   "metadata": {
    "colab": {
     "base_uri": "https://localhost:8080/",
     "height": 434
    },
    "executionInfo": {
     "elapsed": 16454,
     "status": "ok",
     "timestamp": 1736273523656,
     "user": {
      "displayName": "Sheila Whitman",
      "userId": "11834864190234586210"
     },
     "user_tz": 420
    },
    "id": "MezRLjH19JLO",
    "outputId": "069c9e0f-4143-4c85-bfb2-d61255db4887"
   },
   "outputs": [],
   "source": [
    "pcaplot(clip_vitb16_concat_features,y, name = \"PCAPlot_clip.pdf\")"
   ]
  },
  {
   "cell_type": "code",
   "execution_count": null,
   "id": "AXXQn8Gt-KoU",
   "metadata": {
    "colab": {
     "base_uri": "https://localhost:8080/",
     "height": 434
    },
    "executionInfo": {
     "elapsed": 253433,
     "status": "ok",
     "timestamp": 1736273868046,
     "user": {
      "displayName": "Sheila Whitman",
      "userId": "11834864190234586210"
     },
     "user_tz": 420
    },
    "id": "AXXQn8Gt-KoU",
    "outputId": "9d607801-acab-44ae-baa1-d3587d3404d4"
   },
   "outputs": [],
   "source": [
    "pcaplot(twopoint_concat_features,y, name = \"PCAPlot_tp.pdf\")"
   ]
  },
  {
   "cell_type": "code",
   "execution_count": 13,
   "id": "7USw2q3tJKUj",
   "metadata": {
    "executionInfo": {
     "elapsed": 157,
     "status": "ok",
     "timestamp": 1736462346355,
     "user": {
      "displayName": "Sheila Whitman",
      "userId": "11834864190234586210"
     },
     "user_tz": 420
    },
    "id": "7USw2q3tJKUj"
   },
   "outputs": [],
   "source": [
    "def parity(x_train, y_train, x,y,num_comp, scale = False):\n",
    "\n",
    "    pca = PCA(\n",
    "        svd_solver='full',\n",
    "        n_components=num_comp,\n",
    "        random_state=10\n",
    "    ).fit(x_train)\n",
    "\n",
    "\n",
    "    x_train_red = pca.transform(x_train)\n",
    "    x_test_red = pca.transform(x)\n",
    "\n",
    "    poly = PolynomialFeatures(2)\n",
    "\n",
    "    x_poly_train = poly.fit_transform(x_train_red)\n",
    "    x_poly_test = poly.transform(x_test_red)\n",
    "\n",
    "    lr = LinearRegression()\n",
    "    lr.fit(x_poly_train, y_train)\n",
    "\n",
    "    y_pred_train = lr.predict(x_poly_train)\n",
    "    y_pred_test = lr.predict(x_poly_test)\n",
    "\n",
    "    train_score = MAPE(y_train,y_pred_train)\n",
    "    test_score = MAPE(y,y_pred_test)\n",
    "\n",
    "\n",
    "    # Create a square figure\n",
    "    fig = plt.figure(figsize=(6, 6))  # 6x6 inches square figure\n",
    "\n",
    "    # Plot data\n",
    "    x_vals = range(-10,115)\n",
    "    y_vals = range(-10,115)\n",
    "    plt.plot(x_vals,y_vals, color = 'black')\n",
    "    plt.scatter(y_train,y_pred_train,color=\"#C1BCB6\", zorder = 2)\n",
    "    plt.scatter(y,y_pred_test,color=\"#FF206E\", zorder = 3) #\"#00E632\")\n",
    "\n",
    "    plt.xlabel('True hardness HV', fontsize = 18)\n",
    "    plt.ylabel('Predicted hardness HV', fontsize = 18)\n",
    "    plt.xlim(-10,115)\n",
    "    plt.ylim(-10,115)\n",
    "    #plt.ylim(1,7)#200,600)\n",
    "    # Set equal scaling by setting aspect ratio to 'equal'\n",
    "    plt.gca().set_aspect('equal', adjustable='box')\n",
    "\n",
    "    # Save the figure as a PDF file\n",
    "    name = str(num_comp) + '.pdf'\n",
    "    plt.savefig(name, format='pdf')\n",
    "\n",
    "    # Show the plot\n",
    "    plt.show()\n",
    "\n",
    "    print(f\"Train: {train_score:.3f}, Test: {test_score:.3f}\")\n",
    "\n",
    "    return train_score, test_score"
   ]
  },
  {
   "cell_type": "code",
   "execution_count": null,
   "id": "Al6dovvLJ0UN",
   "metadata": {
    "colab": {
     "base_uri": "https://localhost:8080/",
     "height": 584
    },
    "executionInfo": {
     "elapsed": 14735,
     "status": "ok",
     "timestamp": 1736462363622,
     "user": {
      "displayName": "Sheila Whitman",
      "userId": "11834864190234586210"
     },
     "user_tz": 420
    },
    "id": "Al6dovvLJ0UN",
    "outputId": "e898f7a4-66f2-498d-d331-c2a9da065359"
   },
   "outputs": [],
   "source": [
    "parity(x_0_concat_clipvitb16, y_0_concat_clipvitb16,  x_test_concat_clipvitb16, y_test_concat_clipvitb16 ,39)"
   ]
  },
  {
   "cell_type": "code",
   "execution_count": null,
   "id": "sBbO4dg9MaEz",
   "metadata": {
    "colab": {
     "base_uri": "https://localhost:8080/",
     "height": 584
    },
    "executionInfo": {
     "elapsed": 211442,
     "status": "ok",
     "timestamp": 1736462598774,
     "user": {
      "displayName": "Sheila Whitman",
      "userId": "11834864190234586210"
     },
     "user_tz": 420
    },
    "id": "sBbO4dg9MaEz",
    "outputId": "ea04aa8d-4334-453c-994b-1bb9f8b70d0d"
   },
   "outputs": [],
   "source": [
    "parity(x_0_concat_tp, y_0_concat_tp,  x_test_concat_tp, y_test_concat_tp ,24)\n"
   ]
  }
 ],
 "metadata": {
  "colab": {
   "provenance": []
  },
  "kernelspec": {
   "display_name": "Python 3 (ipykernel)",
   "language": "python",
   "name": "python3"
  },
  "language_info": {
   "codemirror_mode": {
    "name": "ipython",
    "version": 3
   },
   "file_extension": ".py",
   "mimetype": "text/x-python",
   "name": "python",
   "nbconvert_exporter": "python",
   "pygments_lexer": "ipython3",
   "version": "3.12.2"
  }
 },
 "nbformat": 4,
 "nbformat_minor": 5
}
