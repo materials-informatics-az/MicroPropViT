{
 "cells": [
  {
   "cell_type": "code",
   "execution_count": null,
   "metadata": {
    "colab": {
     "base_uri": "https://localhost:8080/"
    },
    "executionInfo": {
     "elapsed": 38105,
     "status": "ok",
     "timestamp": 1736968094134,
     "user": {
      "displayName": "Sheila Whitman",
      "userId": "11834864190234586210"
     },
     "user_tz": 420
    },
    "id": "QB8FcvwdUepK",
    "outputId": "30917d3d-9cdd-465a-fe42-ffb462336d98"
   },
   "outputs": [],
   "source": [
    "!pip install git+https://github.com/nasa/pretrained-microscopy-models"
   ]
  },
  {
   "cell_type": "code",
   "execution_count": null,
   "metadata": {
    "colab": {
     "base_uri": "https://localhost:8080/"
    },
    "executionInfo": {
     "elapsed": 26638,
     "status": "ok",
     "timestamp": 1736968197921,
     "user": {
      "displayName": "Sheila Whitman",
      "userId": "11834864190234586210"
     },
     "user_tz": 420
    },
    "id": "sc0xuhIVkB6n",
    "outputId": "70ebd410-ff84-4c06-a70d-3964bcea89e6"
   },
   "outputs": [],
   "source": [
    "import numpy as np\n",
    "import scipy.io as sio\n",
    "import matplotlib.pyplot as plt\n",
    "import torch\n",
    "import gc\n",
    "from torchvision import transforms\n",
    "from PIL import Image\n",
    "import os\n",
    "import pandas as pd\n",
    "import math\n",
    "\n",
    "from numpy import mean\n",
    "from numpy import std\n",
    "from numpy import absolute\n",
    "\n",
    "from sklearn.model_selection import train_test_split, LeaveOneOut, cross_val_score, KFold\n",
    "from sklearn.decomposition import PCA\n",
    "from sklearn.linear_model import LinearRegression\n",
    "from sklearn.preprocessing import PolynomialFeatures\n",
    "from sklearn.metrics import make_scorer,r2_score\n",
    "from sklearn.svm import SVR\n",
    "\n",
    "from transformers import CLIPProcessor, CLIPModel, AutoModel, CLIPImageProcessor, SamModel, SamProcessor, AutoProcessor\n",
    "\n",
    "#import torch\n",
    "import pretrained_microscopy_models as pmm\n",
    "import torch.utils.model_zoo as model_zoo\n",
    "import torch.nn as nn\n",
    "\n"
   ]
  },
  {
   "cell_type": "code",
   "execution_count": null,
   "metadata": {
    "colab": {
     "base_uri": "https://localhost:8080/"
    },
    "executionInfo": {
     "elapsed": 6586,
     "status": "ok",
     "timestamp": 1736968241449,
     "user": {
      "displayName": "Sheila Whitman",
      "userId": "11834864190234586210"
     },
     "user_tz": 420
    },
    "id": "jlFrJr5VkSz0",
    "outputId": "373379b8-c339-4a2b-82b5-7f4a9a3fea58"
   },
   "outputs": [],
   "source": [
    "model = torch.hub.load('pytorch/vision:v0.10.0', 'resnet50', pretrained=False)\n",
    "url = pmm.util.get_pretrained_microscopynet_url('resnet50', 'micronet')\n",
    "\n",
    "\n",
    "state_dict = torch.hub.load_state_dict_from_url(url, map_location=torch.device('cpu'))\n",
    "device = 'cuda' if torch.cuda.is_available() else 'cpu'\n"
   ]
  },
  {
   "cell_type": "code",
   "execution_count": 5,
   "metadata": {
    "executionInfo": {
     "elapsed": 111,
     "status": "ok",
     "timestamp": 1736968261004,
     "user": {
      "displayName": "Sheila Whitman",
      "userId": "11834864190234586210"
     },
     "user_tz": 420
    },
    "id": "Tvxxhg-fk9_7"
   },
   "outputs": [],
   "source": [
    "transform = transforms.Compose([\n",
    "                transforms.Resize((224, 224)),\n",
    "                transforms.ToTensor(),\n",
    "                 ])"
   ]
  },
  {
   "cell_type": "code",
   "execution_count": 6,
   "metadata": {
    "executionInfo": {
     "elapsed": 122,
     "status": "ok",
     "timestamp": 1736968262160,
     "user": {
      "displayName": "Sheila Whitman",
      "userId": "11834864190234586210"
     },
     "user_tz": 420
    },
    "id": "z6ERhWlKnhqF"
   },
   "outputs": [],
   "source": [
    "def make_NASA_features(img):\n",
    "    # print (img.shape)\n",
    "    # plt.imshow(img)\n",
    "    # plt.show()\n",
    "\n",
    "    x_shape = img.shape[0]\n",
    "    y_shape = img.shape[1]\n",
    "\n",
    "    if x_shape <= y_shape:\n",
    "      min = x_shape\n",
    "    else:\n",
    "      min = y_shape\n",
    "\n",
    "    img_new = img[:min, :min]\n",
    "\n",
    "    img_rgb = Image.fromarray(img_new*255).convert('RGB')\n",
    "\n",
    "    #print (img_rgb.size)\n",
    "\n",
    "    img_t = transform(img_rgb)\n",
    "\n",
    "    # image = img_t.permute(1, 2, 0)\n",
    "    # plt.imshow(image)\n",
    "    # plt.show()\n",
    "\n",
    "    img_t = img_t.unsqueeze(0)\n",
    "\n",
    "    # Extract everything up to the avgpool layer\n",
    "    feature_extractor = nn.Sequential(*list(model.children())[:-1])\n",
    "    feature_extractor.eval()\n",
    "\n",
    "\n",
    "    with torch.no_grad():\n",
    "         features = feature_extractor(img_t)\n",
    "    features = np.array(features)\n",
    "    features = np.squeeze(features)\n",
    "\n",
    "    #print (features.shape)\n",
    "    return features"
   ]
  },
  {
   "cell_type": "code",
   "execution_count": null,
   "metadata": {
    "colab": {
     "base_uri": "https://localhost:8080/"
    },
    "executionInfo": {
     "elapsed": 3055,
     "status": "ok",
     "timestamp": 1736968267325,
     "user": {
      "displayName": "Sheila Whitman",
      "userId": "11834864190234586210"
     },
     "user_tz": 420
    },
    "id": "d8vQGlhGNtzd",
    "outputId": "e925d636-0f7a-4b5c-8914-0adb798bdcbf"
   },
   "outputs": [],
   "source": [
    "xx_bin = np.load('/content/drive/MyDrive/11_12/xx.npy')\n",
    "xy_bin = np.load('/content/drive/MyDrive/11_12/xy.npy')\n",
    "xz_bin = np.load('/content/drive/MyDrive/11_12/xz.npy')\n",
    "y = np.load('/content/drive/MyDrive/11_12/digital_y.npy')\n",
    "\n",
    "print (y[:10])"
   ]
  },
  {
   "cell_type": "code",
   "execution_count": null,
   "metadata": {
    "colab": {
     "base_uri": "https://localhost:8080/"
    },
    "executionInfo": {
     "elapsed": 1372044,
     "status": "ok",
     "timestamp": 1736969681187,
     "user": {
      "displayName": "Sheila Whitman",
      "userId": "11834864190234586210"
     },
     "user_tz": 420
    },
    "id": "NsuPPT0Zk6du",
    "outputId": "e28485f7-feda-4a10-96f5-137ca57ea275"
   },
   "outputs": [],
   "source": [
    "import time\n",
    "start_time = time.time()\n",
    "count  = 0\n",
    "xx_features = []\n",
    "for x in xx_bin:\n",
    "\n",
    "    xx = make_NASA_features(x)\n",
    "    xx_features.append(xx)\n",
    "    #print (count)\n",
    "    count = count + 1\n",
    "\n",
    "xx_features = np.array(xx_features)\n",
    "new_filename =  '/content/drive/MyDrive/11_12/11_12_Digital_Features/xx_Nasa_2.npy'\n",
    "np.save(new_filename, xx_features)\n",
    "\n",
    "print (\"DONE WITH XX\")\n",
    "\n",
    "count  = 0\n",
    "xy_features = []\n",
    "for y in xy_bin:\n",
    "\n",
    "    xy = make_NASA_features(y)\n",
    "    xy_features.append(xy)\n",
    "    #print (count)\n",
    "    count = count + 1\n",
    "\n",
    "xy_features = np.array(xy_features)\n",
    "\n",
    "new_filename =  '/content/drive/MyDrive/11_12/11_12_Digital_Features/xy_Nasa_2.npy'\n",
    "np.save(new_filename, xy_features)\n",
    "\n",
    "print (\"DONE WITH XY\")\n",
    "\n",
    "count  = 0\n",
    "xz_features = []\n",
    "for z in xz_bin:\n",
    "\n",
    "    xz = make_NASA_features(z)\n",
    "    xz_features.append(xz)\n",
    "    #print (count)\n",
    "    count = count + 1\n",
    "\n",
    "xz_features = np.array(xz_features)\n",
    "\n",
    "new_filename =  '/content/drive/MyDrive/11_12/11_12_Digital_Features/xz_Nasa_2.npy'\n",
    "np.save(new_filename, xz_features)\n",
    "\n",
    "print (\"DONE WITH XZ\")\n",
    "print(\"--- %s seconds ---\" % (time.time() - start_time))"
   ]
  }
 ],
 "metadata": {
  "colab": {
   "authorship_tag": "ABX9TyNy0X2DSVa0gIMDh6DC8w1f",
   "provenance": []
  },
  "kernelspec": {
   "display_name": "Python 3",
   "name": "python3"
  },
  "language_info": {
   "name": "python"
  }
 },
 "nbformat": 4,
 "nbformat_minor": 0
}
